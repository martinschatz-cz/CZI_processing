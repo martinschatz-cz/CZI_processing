{
  "nbformat": 4,
  "nbformat_minor": 0,
  "metadata": {
    "colab": {
      "provenance": []
    },
    "kernelspec": {
      "name": "python3",
      "display_name": "Python 3"
    },
    "language_info": {
      "name": "python"
    }
  },
  "cells": [
    {
      "cell_type": "code",
      "execution_count": 3,
      "metadata": {
        "colab": {
          "base_uri": "https://localhost:8080/"
        },
        "id": "0s0NksCpzA_j",
        "outputId": "68d55d46-9f66-41fe-ead7-524aa1071d7f"
      },
      "outputs": [
        {
          "output_type": "stream",
          "name": "stdout",
          "text": [
            "Collecting python-bioformats\n",
            "  Using cached python_bioformats-4.0.7-py3-none-any.whl (40.6 MB)\n",
            "Collecting javabridge\n",
            "  Using cached javabridge-1.0.19.tar.gz (1.3 MB)\n",
            "  \u001b[1;31merror\u001b[0m: \u001b[1msubprocess-exited-with-error\u001b[0m\n",
            "  \n",
            "  \u001b[31m×\u001b[0m \u001b[32mpython setup.py egg_info\u001b[0m did not run successfully.\n",
            "  \u001b[31m│\u001b[0m exit code: \u001b[1;36m1\u001b[0m\n",
            "  \u001b[31m╰─>\u001b[0m See above for output.\n",
            "  \n",
            "  \u001b[1;35mnote\u001b[0m: This error originates from a subprocess, and is likely not a problem with pip.\n",
            "  Preparing metadata (setup.py) ... \u001b[?25l\u001b[?25herror\n",
            "\u001b[1;31merror\u001b[0m: \u001b[1mmetadata-generation-failed\u001b[0m\n",
            "\n",
            "\u001b[31m×\u001b[0m Encountered error while generating package metadata.\n",
            "\u001b[31m╰─>\u001b[0m See above for output.\n",
            "\n",
            "\u001b[1;35mnote\u001b[0m: This is an issue with the package mentioned above, not pip.\n",
            "\u001b[1;36mhint\u001b[0m: See above for details.\n"
          ]
        }
      ],
      "source": [
        "!pip install python-bioformats javabridge"
      ]
    },
    {
      "cell_type": "code",
      "source": [
        "import bioformats\n",
        "import javabridge\n",
        "import numpy as np\n",
        "from PIL import Image\n",
        "import os"
      ],
      "metadata": {
        "colab": {
          "base_uri": "https://localhost:8080/",
          "height": 383
        },
        "id": "p04JoWi4zENl",
        "outputId": "6661bd35-b33a-4908-f924-3cd043658403"
      },
      "execution_count": 2,
      "outputs": [
        {
          "output_type": "error",
          "ename": "ModuleNotFoundError",
          "evalue": "ignored",
          "traceback": [
            "\u001b[0;31m---------------------------------------------------------------------------\u001b[0m",
            "\u001b[0;31mModuleNotFoundError\u001b[0m                       Traceback (most recent call last)",
            "\u001b[0;32m<ipython-input-2-fc20c1d3f149>\u001b[0m in \u001b[0;36m<cell line: 1>\u001b[0;34m()\u001b[0m\n\u001b[0;32m----> 1\u001b[0;31m \u001b[0;32mimport\u001b[0m \u001b[0mbioformats\u001b[0m\u001b[0;34m\u001b[0m\u001b[0;34m\u001b[0m\u001b[0m\n\u001b[0m\u001b[1;32m      2\u001b[0m \u001b[0;32mimport\u001b[0m \u001b[0mjavabridge\u001b[0m\u001b[0;34m\u001b[0m\u001b[0;34m\u001b[0m\u001b[0m\n\u001b[1;32m      3\u001b[0m \u001b[0;32mimport\u001b[0m \u001b[0mnumpy\u001b[0m \u001b[0;32mas\u001b[0m \u001b[0mnp\u001b[0m\u001b[0;34m\u001b[0m\u001b[0;34m\u001b[0m\u001b[0m\n\u001b[1;32m      4\u001b[0m \u001b[0;32mfrom\u001b[0m \u001b[0mPIL\u001b[0m \u001b[0;32mimport\u001b[0m \u001b[0mImage\u001b[0m\u001b[0;34m\u001b[0m\u001b[0;34m\u001b[0m\u001b[0m\n\u001b[1;32m      5\u001b[0m \u001b[0;32mimport\u001b[0m \u001b[0mos\u001b[0m\u001b[0;34m\u001b[0m\u001b[0;34m\u001b[0m\u001b[0m\n",
            "\u001b[0;31mModuleNotFoundError\u001b[0m: No module named 'bioformats'",
            "",
            "\u001b[0;31m---------------------------------------------------------------------------\u001b[0;32m\nNOTE: If your import is failing due to a missing package, you can\nmanually install dependencies using either !pip or !apt.\n\nTo view examples of installing some common dependencies, click the\n\"Open Examples\" button below.\n\u001b[0;31m---------------------------------------------------------------------------\u001b[0m\n"
          ],
          "errorDetails": {
            "actions": [
              {
                "action": "open_url",
                "actionText": "Open Examples",
                "url": "/notebooks/snippets/importing_libraries.ipynb"
              }
            ]
          }
        }
      ]
    },
    {
      "cell_type": "code",
      "source": [],
      "metadata": {
        "id": "Iggh2KY-zPTG"
      },
      "execution_count": null,
      "outputs": []
    },
    {
      "cell_type": "code",
      "source": [
        "# Initialize Java bridge\n",
        "javabridge.start_vm(class_path=bioformats.JARS)\n",
        "\n",
        "# Path to your CZI file\n",
        "czi_file_path = 'your_file.czi'\n",
        "\n",
        "# Open the CZI file\n",
        "reader = bioformats.ImageReader(czi_file_path)\n",
        "\n",
        "# Define the size of the subparts\n",
        "subpart_width = 800\n",
        "subpart_height = 600\n",
        "\n",
        "\n"
      ],
      "metadata": {
        "id": "3q_ZFA0rzB4l"
      },
      "execution_count": null,
      "outputs": []
    },
    {
      "cell_type": "code",
      "source": [
        "# Get the dimensions of the CZI file\n",
        "image_width = reader.getSizeX()\n",
        "image_height = reader.getSizeY()\n",
        "num_channels = reader.getSizeC()\n",
        "num_zstacks = reader.getSizeZ()\n",
        "\n",
        "# Iterate through the CZI file to read and save subparts\n",
        "for channel in range(num_channels):\n",
        "    for zstack in range(num_zstacks):\n",
        "        for x in range(0, image_width, subpart_width):\n",
        "            for y in range(0, image_height, subpart_height):\n",
        "                # Read the subpart\n",
        "                subpart = reader.read(x=x, y=y, c=channel, z=zstack, width=subpart_width, height=subpart_height)\n",
        "\n",
        "                # Convert subpart to a numpy array\n",
        "                subpart_array = np.array(subpart, dtype=np.uint16)  # Adjust dtype as needed\n",
        "\n",
        "                # Create a PIL Image from the numpy array\n",
        "                subpart_image = Image.fromarray(subpart_array)\n",
        "\n",
        "                # Define the output directory and filename\n",
        "                output_dir = 'output/'\n",
        "                os.makedirs(output_dir, exist_ok=True)\n",
        "                output_filename = f'channel_{channel}_zstack_{zstack}_x_{x}_y_{y}.tif'\n",
        "                output_path = os.path.join(output_dir, output_filename)\n",
        "\n",
        "                # Save the subpart as a TIFF file\n",
        "                subpart_image.save(output_path)\n",
        "\n"
      ],
      "metadata": {
        "id": "-OUBzDzzzbbs"
      },
      "execution_count": null,
      "outputs": []
    },
    {
      "cell_type": "code",
      "source": [
        "# Clean up the Java bridge\n",
        "javabridge.kill_vm()"
      ],
      "metadata": {
        "id": "M4BFMeTpzc2L"
      },
      "execution_count": null,
      "outputs": []
    }
  ]
}