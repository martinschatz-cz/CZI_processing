{
 "cells": [
  {
   "cell_type": "code",
   "execution_count": 21,
   "metadata": {
    "id": "Iggh2KY-zPTG",
    "tags": []
   },
   "outputs": [
    {
     "name": "stdout",
     "output_type": "stream",
     "text": [
      "Requirement already satisfied: aicsimageio[all] in c:\\users\\schatzm\\anaconda3\\envs\\devbio-napari\\lib\\site-packages (4.12.1)\n",
      "Requirement already satisfied: dask[array]<=2023.5.0,>=2021.4.1 in c:\\users\\schatzm\\anaconda3\\envs\\devbio-napari\\lib\\site-packages (from aicsimageio[all]) (2022.9.2)\n",
      "Requirement already satisfied: zarr<3,>=2.6 in c:\\users\\schatzm\\anaconda3\\envs\\devbio-napari\\lib\\site-packages (from aicsimageio[all]) (2.13.3)\n",
      "Requirement already satisfied: xarray<2023.02.0,>=0.16.1 in c:\\users\\schatzm\\anaconda3\\envs\\devbio-napari\\lib\\site-packages (from aicsimageio[all]) (2023.1.0)\n",
      "Requirement already satisfied: fsspec>=2022.8.0 in c:\\users\\schatzm\\anaconda3\\envs\\devbio-napari\\lib\\site-packages (from aicsimageio[all]) (2022.8.2)\n",
      "Requirement already satisfied: ome-types>=0.3.4 in c:\\users\\schatzm\\anaconda3\\envs\\devbio-napari\\lib\\site-packages (from aicsimageio[all]) (0.4.2)\n",
      "Requirement already satisfied: imagecodecs>=2020.5.30 in c:\\users\\schatzm\\anaconda3\\envs\\devbio-napari\\lib\\site-packages (from aicsimageio[all]) (2022.9.26)\n",
      "Requirement already satisfied: tifffile>=2021.8.30 in c:\\users\\schatzm\\anaconda3\\envs\\devbio-napari\\lib\\site-packages (from aicsimageio[all]) (2022.4.8)\n",
      "Requirement already satisfied: xmlschema in c:\\users\\schatzm\\anaconda3\\envs\\devbio-napari\\lib\\site-packages (from aicsimageio[all]) (2.4.0)\n",
      "Requirement already satisfied: resource-backed-dask-array>=0.1.0 in c:\\users\\schatzm\\anaconda3\\envs\\devbio-napari\\lib\\site-packages (from aicsimageio[all]) (0.1.0)\n",
      "Requirement already satisfied: numpy<=1.24.0,>=1.16 in c:\\users\\schatzm\\anaconda3\\envs\\devbio-napari\\lib\\site-packages (from aicsimageio[all]) (1.23.3)\n",
      "Requirement already satisfied: PyYAML>=6.0 in c:\\users\\schatzm\\anaconda3\\envs\\devbio-napari\\lib\\site-packages (from aicsimageio[all]) (6.0)\n",
      "Requirement already satisfied: wrapt>=1.12 in c:\\users\\schatzm\\anaconda3\\envs\\devbio-napari\\lib\\site-packages (from aicsimageio[all]) (1.14.1)\n",
      "Requirement already satisfied: ome-zarr>=0.6.1 in c:\\users\\schatzm\\anaconda3\\envs\\devbio-napari\\lib\\site-packages (from aicsimageio[all]) (0.8.0)\n",
      "Requirement already satisfied: lxml<5,>=4.6 in c:\\users\\schatzm\\anaconda3\\envs\\devbio-napari\\lib\\site-packages (from aicsimageio[all]) (4.9.3)\n",
      "Collecting Pillow>=9.3.0\n",
      "  Using cached Pillow-10.0.0-cp39-cp39-win_amd64.whl (2.5 MB)\n",
      "Requirement already satisfied: imageio[ffmpeg]<2.28.0,>=2.11.0 in c:\\users\\schatzm\\anaconda3\\envs\\devbio-napari\\lib\\site-packages (from aicsimageio[all]) (2.22.0)\n",
      "Collecting bfio>=2.3.0\n",
      "  Using cached bfio-2.3.0-py2.py3-none-any.whl (43 kB)\n",
      "Collecting mrc>=0.2.0\n",
      "  Using cached mrc-0.3.1-py3-none-any.whl (27 kB)\n",
      "Collecting nd2[legacy]>=0.6.0\n",
      "  Using cached nd2-0.7.2-py3-none-any.whl (74 kB)\n",
      "Requirement already satisfied: partd>=0.3.10 in c:\\users\\schatzm\\anaconda3\\envs\\devbio-napari\\lib\\site-packages (from dask[array]<=2023.5.0,>=2021.4.1->aicsimageio[all]) (1.3.0)\n",
      "Requirement already satisfied: toolz>=0.8.2 in c:\\users\\schatzm\\anaconda3\\envs\\devbio-napari\\lib\\site-packages (from dask[array]<=2023.5.0,>=2021.4.1->aicsimageio[all]) (0.12.0)\n",
      "Requirement already satisfied: cloudpickle>=1.1.1 in c:\\users\\schatzm\\anaconda3\\envs\\devbio-napari\\lib\\site-packages (from dask[array]<=2023.5.0,>=2021.4.1->aicsimageio[all]) (2.2.0)\n",
      "Requirement already satisfied: packaging>=20.0 in c:\\users\\schatzm\\anaconda3\\envs\\devbio-napari\\lib\\site-packages (from dask[array]<=2023.5.0,>=2021.4.1->aicsimageio[all]) (21.3)\n",
      "Requirement already satisfied: psutil in c:\\users\\schatzm\\anaconda3\\envs\\devbio-napari\\lib\\site-packages (from imageio[ffmpeg]<2.28.0,>=2.11.0->aicsimageio[all]) (5.9.2)\n",
      "Requirement already satisfied: imageio-ffmpeg in c:\\users\\schatzm\\anaconda3\\envs\\devbio-napari\\lib\\site-packages (from imageio[ffmpeg]<2.28.0,>=2.11.0->aicsimageio[all]) (0.4.7)\n",
      "Requirement already satisfied: typing-extensions in c:\\users\\schatzm\\anaconda3\\envs\\devbio-napari\\lib\\site-packages (from nd2[legacy]>=0.6.0->aicsimageio[all]) (4.4.0)\n",
      "Requirement already satisfied: xsdata>=23.5 in c:\\users\\schatzm\\anaconda3\\envs\\devbio-napari\\lib\\site-packages (from ome-types>=0.3.4->aicsimageio[all]) (23.8)\n",
      "Requirement already satisfied: pydantic>=1.9.0 in c:\\users\\schatzm\\anaconda3\\envs\\devbio-napari\\lib\\site-packages (from ome-types>=0.3.4->aicsimageio[all]) (1.10.2)\n",
      "Requirement already satisfied: aiohttp<4 in c:\\users\\schatzm\\anaconda3\\envs\\devbio-napari\\lib\\site-packages (from ome-zarr>=0.6.1->aicsimageio[all]) (3.8.3)\n",
      "Requirement already satisfied: requests in c:\\users\\schatzm\\anaconda3\\envs\\devbio-napari\\lib\\site-packages (from ome-zarr>=0.6.1->aicsimageio[all]) (2.28.1)\n",
      "Requirement already satisfied: distributed in c:\\users\\schatzm\\anaconda3\\envs\\devbio-napari\\lib\\site-packages (from ome-zarr>=0.6.1->aicsimageio[all]) (2022.9.2)\n",
      "Requirement already satisfied: scikit-image in c:\\users\\schatzm\\anaconda3\\envs\\devbio-napari\\lib\\site-packages (from ome-zarr>=0.6.1->aicsimageio[all]) (0.19.3)\n",
      "Requirement already satisfied: pandas>=1.3 in c:\\users\\schatzm\\anaconda3\\envs\\devbio-napari\\lib\\site-packages (from xarray<2023.02.0,>=0.16.1->aicsimageio[all]) (1.5.0)\n",
      "Requirement already satisfied: numcodecs>=0.10.0 in c:\\users\\schatzm\\anaconda3\\envs\\devbio-napari\\lib\\site-packages (from zarr<3,>=2.6->aicsimageio[all]) (0.10.2)\n",
      "Requirement already satisfied: fasteners in c:\\users\\schatzm\\anaconda3\\envs\\devbio-napari\\lib\\site-packages (from zarr<3,>=2.6->aicsimageio[all]) (0.17.3)\n",
      "Requirement already satisfied: asciitree in c:\\users\\schatzm\\anaconda3\\envs\\devbio-napari\\lib\\site-packages (from zarr<3,>=2.6->aicsimageio[all]) (0.3.3)\n",
      "Requirement already satisfied: elementpath<5.0.0,>=4.1.5 in c:\\users\\schatzm\\anaconda3\\envs\\devbio-napari\\lib\\site-packages (from xmlschema->aicsimageio[all]) (4.1.5)\n",
      "Requirement already satisfied: frozenlist>=1.1.1 in c:\\users\\schatzm\\anaconda3\\envs\\devbio-napari\\lib\\site-packages (from aiohttp<4->ome-zarr>=0.6.1->aicsimageio[all]) (1.3.1)\n",
      "Requirement already satisfied: async-timeout<5.0,>=4.0.0a3 in c:\\users\\schatzm\\anaconda3\\envs\\devbio-napari\\lib\\site-packages (from aiohttp<4->ome-zarr>=0.6.1->aicsimageio[all]) (4.0.2)\n",
      "Requirement already satisfied: charset-normalizer<3.0,>=2.0 in c:\\users\\schatzm\\anaconda3\\envs\\devbio-napari\\lib\\site-packages (from aiohttp<4->ome-zarr>=0.6.1->aicsimageio[all]) (2.1.1)\n",
      "Requirement already satisfied: yarl<2.0,>=1.0 in c:\\users\\schatzm\\anaconda3\\envs\\devbio-napari\\lib\\site-packages (from aiohttp<4->ome-zarr>=0.6.1->aicsimageio[all]) (1.8.1)\n",
      "Requirement already satisfied: aiosignal>=1.1.2 in c:\\users\\schatzm\\anaconda3\\envs\\devbio-napari\\lib\\site-packages (from aiohttp<4->ome-zarr>=0.6.1->aicsimageio[all]) (1.2.0)\n",
      "Requirement already satisfied: multidict<7.0,>=4.5 in c:\\users\\schatzm\\anaconda3\\envs\\devbio-napari\\lib\\site-packages (from aiohttp<4->ome-zarr>=0.6.1->aicsimageio[all]) (6.0.2)\n",
      "Requirement already satisfied: attrs>=17.3.0 in c:\\users\\schatzm\\anaconda3\\envs\\devbio-napari\\lib\\site-packages (from aiohttp<4->ome-zarr>=0.6.1->aicsimageio[all]) (22.1.0)\n",
      "Requirement already satisfied: s3fs in c:\\users\\schatzm\\anaconda3\\envs\\devbio-napari\\lib\\site-packages (from fsspec>=2022.8.0->aicsimageio[all]) (2022.8.2)\n",
      "Requirement already satisfied: entrypoints in c:\\users\\schatzm\\anaconda3\\envs\\devbio-napari\\lib\\site-packages (from numcodecs>=0.10.0->zarr<3,>=2.6->aicsimageio[all]) (0.4)\n",
      "Requirement already satisfied: pyparsing!=3.0.5,>=2.0.2 in c:\\users\\schatzm\\anaconda3\\envs\\devbio-napari\\lib\\site-packages (from packaging>=20.0->dask[array]<=2023.5.0,>=2021.4.1->aicsimageio[all]) (3.0.9)\n",
      "Requirement already satisfied: python-dateutil>=2.8.1 in c:\\users\\schatzm\\anaconda3\\envs\\devbio-napari\\lib\\site-packages (from pandas>=1.3->xarray<2023.02.0,>=0.16.1->aicsimageio[all]) (2.8.2)\n",
      "Requirement already satisfied: pytz>=2020.1 in c:\\users\\schatzm\\anaconda3\\envs\\devbio-napari\\lib\\site-packages (from pandas>=1.3->xarray<2023.02.0,>=0.16.1->aicsimageio[all]) (2022.4)\n",
      "Requirement already satisfied: locket in c:\\users\\schatzm\\anaconda3\\envs\\devbio-napari\\lib\\site-packages (from partd>=0.3.10->dask[array]<=2023.5.0,>=2021.4.1->aicsimageio[all]) (1.0.0)\n",
      "Requirement already satisfied: click>=6.6 in c:\\users\\schatzm\\anaconda3\\envs\\devbio-napari\\lib\\site-packages (from distributed->ome-zarr>=0.6.1->aicsimageio[all]) (8.1.3)\n",
      "Requirement already satisfied: msgpack>=0.6.0 in c:\\users\\schatzm\\anaconda3\\envs\\devbio-napari\\lib\\site-packages (from distributed->ome-zarr>=0.6.1->aicsimageio[all]) (1.0.4)\n",
      "Requirement already satisfied: tblib>=1.6.0 in c:\\users\\schatzm\\anaconda3\\envs\\devbio-napari\\lib\\site-packages (from distributed->ome-zarr>=0.6.1->aicsimageio[all]) (1.7.0)\n",
      "Requirement already satisfied: urllib3 in c:\\users\\schatzm\\anaconda3\\envs\\devbio-napari\\lib\\site-packages (from distributed->ome-zarr>=0.6.1->aicsimageio[all]) (1.26.11)\n",
      "Requirement already satisfied: sortedcontainers!=2.0.0,!=2.0.1 in c:\\users\\schatzm\\anaconda3\\envs\\devbio-napari\\lib\\site-packages (from distributed->ome-zarr>=0.6.1->aicsimageio[all]) (2.4.0)\n",
      "Requirement already satisfied: tornado<6.2,>=6.0.3 in c:\\users\\schatzm\\anaconda3\\envs\\devbio-napari\\lib\\site-packages (from distributed->ome-zarr>=0.6.1->aicsimageio[all]) (6.1)\n",
      "Requirement already satisfied: zict>=0.1.3 in c:\\users\\schatzm\\anaconda3\\envs\\devbio-napari\\lib\\site-packages (from distributed->ome-zarr>=0.6.1->aicsimageio[all]) (2.2.0)\n",
      "Requirement already satisfied: jinja2 in c:\\users\\schatzm\\anaconda3\\envs\\devbio-napari\\lib\\site-packages (from distributed->ome-zarr>=0.6.1->aicsimageio[all]) (3.1.2)\n",
      "Requirement already satisfied: idna<4,>=2.5 in c:\\users\\schatzm\\anaconda3\\envs\\devbio-napari\\lib\\site-packages (from requests->ome-zarr>=0.6.1->aicsimageio[all]) (3.4)\n",
      "Requirement already satisfied: certifi>=2017.4.17 in c:\\users\\schatzm\\anaconda3\\envs\\devbio-napari\\lib\\site-packages (from requests->ome-zarr>=0.6.1->aicsimageio[all]) (2022.9.24)\n",
      "Requirement already satisfied: scipy>=1.4.1 in c:\\users\\schatzm\\anaconda3\\envs\\devbio-napari\\lib\\site-packages (from scikit-image->ome-zarr>=0.6.1->aicsimageio[all]) (1.9.1)\n",
      "Requirement already satisfied: networkx>=2.2 in c:\\users\\schatzm\\anaconda3\\envs\\devbio-napari\\lib\\site-packages (from scikit-image->ome-zarr>=0.6.1->aicsimageio[all]) (2.8.7)\n",
      "Requirement already satisfied: PyWavelets>=1.1.1 in c:\\users\\schatzm\\anaconda3\\envs\\devbio-napari\\lib\\site-packages (from scikit-image->ome-zarr>=0.6.1->aicsimageio[all]) (1.3.0)\n",
      "Requirement already satisfied: colorama in c:\\users\\schatzm\\anaconda3\\envs\\devbio-napari\\lib\\site-packages (from click>=6.6->distributed->ome-zarr>=0.6.1->aicsimageio[all]) (0.4.5)\n",
      "Requirement already satisfied: six>=1.5 in c:\\users\\schatzm\\anaconda3\\envs\\devbio-napari\\lib\\site-packages (from python-dateutil>=2.8.1->pandas>=1.3->xarray<2023.02.0,>=0.16.1->aicsimageio[all]) (1.16.0)\n",
      "Requirement already satisfied: heapdict in c:\\users\\schatzm\\anaconda3\\envs\\devbio-napari\\lib\\site-packages (from zict>=0.1.3->distributed->ome-zarr>=0.6.1->aicsimageio[all]) (1.0.1)\n",
      "Requirement already satisfied: MarkupSafe>=2.0 in c:\\users\\schatzm\\anaconda3\\envs\\devbio-napari\\lib\\site-packages (from jinja2->distributed->ome-zarr>=0.6.1->aicsimageio[all]) (2.1.1)\n",
      "Requirement already satisfied: aiobotocore~=2.4.0 in c:\\users\\schatzm\\anaconda3\\envs\\devbio-napari\\lib\\site-packages (from s3fs->fsspec>=2022.8.0->aicsimageio[all]) (2.4.2)\n",
      "Requirement already satisfied: botocore<1.27.60,>=1.27.59 in c:\\users\\schatzm\\anaconda3\\envs\\devbio-napari\\lib\\site-packages (from aiobotocore~=2.4.0->s3fs->fsspec>=2022.8.0->aicsimageio[all]) (1.27.59)\n",
      "Requirement already satisfied: aioitertools>=0.5.1 in c:\\users\\schatzm\\anaconda3\\envs\\devbio-napari\\lib\\site-packages (from aiobotocore~=2.4.0->s3fs->fsspec>=2022.8.0->aicsimageio[all]) (0.11.0)\n",
      "Requirement already satisfied: jmespath<2.0.0,>=0.7.1 in c:\\users\\schatzm\\anaconda3\\envs\\devbio-napari\\lib\\site-packages (from botocore<1.27.60,>=1.27.59->aiobotocore~=2.4.0->s3fs->fsspec>=2022.8.0->aicsimageio[all]) (1.0.1)\n",
      "Installing collected packages: Pillow, mrc, bfio, nd2\n",
      "Successfully installed Pillow-10.0.0 bfio-2.3.0 mrc-0.3.1 nd2-0.7.2\n"
     ]
    },
    {
     "name": "stderr",
     "output_type": "stream",
     "text": [
      "ERROR: pip's dependency resolver does not currently take into account all the packages that are installed. This behaviour is the source of the following dependency conflicts.\n",
      "devbio-napari 0.7.1 requires cellpose-napari, which is not installed.\n",
      "devbio-napari 0.7.1 requires napari-process-points-and-surfaces, which is not installed.\n"
     ]
    },
    {
     "name": "stdout",
     "output_type": "stream",
     "text": [
      "Requirement already satisfied: bioformats_jar in c:\\users\\schatzm\\anaconda3\\envs\\devbio-napari\\lib\\site-packages (2020.5.27)\n",
      "Requirement already satisfied: scyjava in c:\\users\\schatzm\\anaconda3\\envs\\devbio-napari\\lib\\site-packages (from bioformats_jar) (1.9.1)\n",
      "Requirement already satisfied: jgo in c:\\users\\schatzm\\anaconda3\\envs\\devbio-napari\\lib\\site-packages (from scyjava->bioformats_jar) (1.0.5)\n",
      "Requirement already satisfied: jpype1>=1.3.0 in c:\\users\\schatzm\\anaconda3\\envs\\devbio-napari\\lib\\site-packages (from scyjava->bioformats_jar) (1.4.1)\n",
      "Requirement already satisfied: packaging in c:\\users\\schatzm\\anaconda3\\envs\\devbio-napari\\lib\\site-packages (from jpype1>=1.3.0->scyjava->bioformats_jar) (21.3)\n",
      "Requirement already satisfied: psutil in c:\\users\\schatzm\\anaconda3\\envs\\devbio-napari\\lib\\site-packages (from jgo->scyjava->bioformats_jar) (5.9.2)\n",
      "Requirement already satisfied: pyparsing!=3.0.5,>=2.0.2 in c:\\users\\schatzm\\anaconda3\\envs\\devbio-napari\\lib\\site-packages (from packaging->jpype1>=1.3.0->scyjava->bioformats_jar) (3.0.9)\n"
     ]
    }
   ],
   "source": [
    "!pip install aicsimageio[all] --user\n",
    "!pip install bioformats_jar"
   ]
  },
  {
   "cell_type": "code",
   "execution_count": 22,
   "metadata": {
    "tags": []
   },
   "outputs": [],
   "source": [
    "!pip install aicspylibczi>=3.1.1 fsspec>=2022.8.0"
   ]
  },
  {
   "cell_type": "code",
   "execution_count": 1,
   "metadata": {
    "colab": {
     "base_uri": "https://localhost:8080/",
     "height": 383
    },
    "id": "p04JoWi4zENl",
    "outputId": "6661bd35-b33a-4908-f924-3cd043658403",
    "tags": []
   },
   "outputs": [],
   "source": [
    "from aicsimageio.writers import OmeTiffWriter\n",
    "from aicsimageio import AICSImage\n",
    "from skimage.io import imshow\n",
    "import os\n",
    "\n",
    "import numpy as np"
   ]
  },
  {
   "cell_type": "code",
   "execution_count": 12,
   "metadata": {},
   "outputs": [],
   "source": [
    "from aicspylibczi import CziFile"
   ]
  },
  {
   "cell_type": "code",
   "execution_count": 63,
   "metadata": {},
   "outputs": [
    {
     "name": "stdout",
     "output_type": "stream",
     "text": [
      "SCZMYXA\n",
      "(1, 1, 49, 1267, 1200, 1600, 3)\n",
      "CPU times: total: 7h 40min 11s\n",
      "Wall time: 5h 3min 55s\n"
     ]
    }
   ],
   "source": [
    "%%time\n",
    "# Path to your CZI file\n",
    "# czi_file_path = '../../test/2023_05_22_Pyl-OB_010_small.czi'\n",
    "\n",
    "czi_file_path = '../../230518_ML_pyl_OB/2023_05_18_Pyl-OB_001.czi'\n",
    "\n",
    "czi = CziFile(czi_file_path)\n",
    "\n",
    "# Get the shape of the data, the coordinate pairs are (start index, size)\n",
    "# dimensions = czi.dims_shape()  #  [{'X': (0, 1900), 'Y': (0, 1300), 'Z': (0, 60), 'C': (0, 4), 'S': (0, 40), 'B': (0, 1)}]\n",
    "\n",
    "print(czi.dims)\n",
    "\n",
    "print(czi.size)  #  (1, 40, 4, 60, 1300, 1900)\n",
    "size=czi.size\n",
    "\n",
    "czi.is_mosaic()\n",
    "\n",
    "name = \"2023_05_18_Pyl-OB_001\"\n",
    "\n",
    "for z in range(size[2]):\n",
    "\n",
    "    # czi.get_dims_shape()\n",
    "    #  working but slow\n",
    "    mosaic_data = czi.read_mosaic(C=0, scale_factor=1, Z=z)\n",
    "    mosaic_data.shape\n",
    "\n",
    "\n",
    "    output_folder = name+'/'\n",
    "\n",
    "    if not os.path.exists(output_folder):\n",
    "            os.makedirs(output_folder)\n",
    "\n",
    "    mosaic_data_shape = mosaic_data.shape\n",
    "\n",
    "    subpart_size = [1600,1920]\n",
    "    # Calculate the number of subparts in each dimension\n",
    "    num_subparts_x = mosaic_data_shape[2] // subpart_size[0]\n",
    "    num_subparts_y = mosaic_data_shape[3] // subpart_size[1]\n",
    "\n",
    "    for x in range(num_subparts_x):\n",
    "        for y in range(num_subparts_y):\n",
    "            # Extract the subpart\n",
    "            subpart = mosaic_data[:, :, x * subpart_size[0]:(x + 1) * subpart_size[0],\n",
    "                                  y * subpart_size[1]:(y + 1) * subpart_size[1], :]\n",
    "\n",
    "            # Create an AICSImage object\n",
    "            aics_image = AICSImage(subpart)\n",
    "\n",
    "            # Define the output file path\n",
    "            output_file = os.path.join(output_folder, f\"{name}_subpart_z-{z}_x-{x}_y-{y}.ome.tiff\")\n",
    "\n",
    "            # Save the subpart as an OME-TIFF\n",
    "            # aics_image.save(output_file)\n",
    "\n",
    "            # Save the subpart as a TIFF file\n",
    "            OmeTiffWriter.save(np.squeeze(subpart), output_file, dim_order=\"YXS\")"
   ]
  },
  {
   "cell_type": "code",
   "execution_count": null,
   "metadata": {},
   "outputs": [],
   "source": []
  },
  {
   "cell_type": "code",
   "execution_count": 64,
   "metadata": {},
   "outputs": [
    {
     "name": "stderr",
     "output_type": "stream",
     "text": [
      "Processing: 100%|██████████████████████████████████████████████████████████████████████| 60/60 [00:06<00:00,  9.78it/s]\n"
     ]
    }
   ],
   "source": [
    "from tqdm import tqdm\n",
    "import time\n",
    "\n",
    "def nested_for_loops():\n",
    "    # Define the ranges for your loops\n",
    "    range_outer = range(3)\n",
    "    range_middle = range(4)\n",
    "    range_inner = range(5)\n",
    "    \n",
    "    # Calculate the total number of iterations\n",
    "    total_iterations = len(range_outer) * len(range_middle) * len(range_inner)\n",
    "    \n",
    "    # Initialize the tqdm progress bar\n",
    "    progress_bar = tqdm(total=total_iterations, desc=\"Processing\")\n",
    "    \n",
    "    for i in range_outer:\n",
    "        for j in range_middle:\n",
    "            for k in range_inner:\n",
    "                # Simulate some work\n",
    "                time.sleep(0.1)  # Replace with your actual work\n",
    "                \n",
    "                # Update the progress bar\n",
    "                progress_bar.update(1)\n",
    "    \n",
    "    # Close the progress bar when the loops are done\n",
    "    progress_bar.close()\n",
    "\n",
    "# Call the function\n",
    "nested_for_loops()"
   ]
  },
  {
   "cell_type": "code",
   "execution_count": null,
   "metadata": {},
   "outputs": [],
   "source": []
  },
  {
   "cell_type": "code",
   "execution_count": 41,
   "metadata": {
    "id": "3q_ZFA0rzB4l",
    "tags": []
   },
   "outputs": [
    {
     "name": "stdout",
     "output_type": "stream",
     "text": [
      "('ScanRegion0',)\n",
      "0\n",
      "MTCZYXS\n",
      "(42, 1, 1, 49, 666, 872, 3)\n",
      "X: 872, Y: 666, Z: 49, C: 1\n",
      "CPU times: total: 297 ms\n",
      "Wall time: 285 ms\n"
     ]
    }
   ],
   "source": [
    "%%time\n",
    "# Path to your CZI file\n",
    "czi_file_path = '../../test/2023_05_22_Pyl-OB_010_small.czi'\n",
    "\n",
    "# Open the CZI file using aicsimageio\n",
    "czi_image = AICSImage(czi_file_path, reconstruct_mosaic=False)\n",
    "\n",
    "# Define the size of the subparts\n",
    "subpart_width = 1920\n",
    "subpart_height = 1600\n",
    "\n",
    "# Get the shape of the CZI file\n",
    "#image_shape = czi_image.shape\n",
    "\n",
    "# Get a list valid scene ids\n",
    "print(czi_image.scenes)\n",
    "\n",
    "# Or by scene index\n",
    "czi_image.set_scene(0)\n",
    "print(czi_image.current_scene_index)\n",
    "\n",
    "# czi_image.dims  # returns a Dimensions object\n",
    "dim_order = czi_image.dims.order  # returns string \"TCZYX\"\n",
    "print(dim_order)\n",
    "# czi_image.dims.X  # returns size of X dimension\n",
    "#czi_imageg.shape  # returns tuple of dimension sizes in TCZYX order\n",
    "print(czi_image.shape)\n",
    "\n",
    "\n",
    "\n",
    "# Extract the dimensions from the shape\n",
    "#num_channels, num_zstacks, image_height, image_width = image_shape\n",
    "num_channels = czi_image.dims.C\n",
    "num_zstacks = czi_image.dims.Z\n",
    "image_height = czi_image.dims.Y\n",
    "image_width = czi_image.dims.X\n",
    "\n",
    "print(\"X: {}, Y: {}, Z: {}, C: {}\".format(image_width,image_height,num_zstacks,num_channels))"
   ]
  },
  {
   "cell_type": "code",
   "execution_count": 4,
   "metadata": {
    "id": "-OUBzDzzzbbs",
    "tags": []
   },
   "outputs": [
    {
     "name": "stdout",
     "output_type": "stream",
     "text": [
      "Subparts saved successfully!\n",
      "CPU times: total: 14.7 s\n",
      "Wall time: 12.3 s\n"
     ]
    }
   ],
   "source": [
    "%%time\n",
    "# Iterate through the CZI file to read and save subparts\n",
    "# for channel in range(num_channels):\n",
    "for zstack in range(num_zstacks):\n",
    "    for x in range(0, image_width, subpart_width):\n",
    "        for y in range(0, image_height, subpart_height):\n",
    "            \n",
    "            # print(\"X: {}, Y: {}, Z: {}\".format(subpart_width,subpart_height,zstack))\n",
    "            \n",
    "            # Read the subpart\n",
    "            # subpart = czi_image.get_image_dask_data(c=1, z=zstack, x=x, y=y, size_x=subpart_width, size_y=subpart_height, size_z=1)\n",
    "            # subpart = czi_image.get_image_data(\"YX\", T=0, Z=zstack)\n",
    "            subpart = czi_image.get_image_dask_data(\"YX\", T=0, Z=zstack)\n",
    "            \n",
    "            \n",
    "            # print(subpart.shape)\n",
    "\n",
    "            # Define the output directory and filename\n",
    "            output_dir = 'output/'\n",
    "            os.makedirs(output_dir, exist_ok=True)\n",
    "            output_filename = f'_zstack_{zstack}_x_{x}_y_{y}.ome.tif'\n",
    "            output_path = os.path.join(output_dir, output_filename)\n",
    "\n",
    "            # Save the subpart as a TIFF file\n",
    "            OmeTiffWriter.save(subpart, output_path)\n",
    "            # imshow(subpart)\n",
    "\n",
    "print(\"Subparts saved successfully!\")"
   ]
  },
  {
   "cell_type": "code",
   "execution_count": null,
   "metadata": {},
   "outputs": [],
   "source": []
  },
  {
   "cell_type": "code",
   "execution_count": null,
   "metadata": {},
   "outputs": [],
   "source": []
  }
 ],
 "metadata": {
  "colab": {
   "provenance": []
  },
  "kernelspec": {
   "display_name": "Python 3 (ipykernel)",
   "language": "python",
   "name": "python3"
  },
  "language_info": {
   "codemirror_mode": {
    "name": "ipython",
    "version": 3
   },
   "file_extension": ".py",
   "mimetype": "text/x-python",
   "name": "python",
   "nbconvert_exporter": "python",
   "pygments_lexer": "ipython3",
   "version": "3.9.17"
  }
 },
 "nbformat": 4,
 "nbformat_minor": 4
}
