{
 "cells": [
  {
   "cell_type": "code",
   "execution_count": 1,
   "metadata": {
    "id": "Iggh2KY-zPTG",
    "tags": []
   },
   "outputs": [
    {
     "name": "stdout",
     "output_type": "stream",
     "text": [
      "Requirement already satisfied: aicsimageio[all] in c:\\users\\schatzm\\anaconda3\\envs\\czi_processing\\lib\\site-packages (4.12.1)\n",
      "Requirement already satisfied: dask[array]<=2023.5.0,>=2021.4.1 in c:\\users\\schatzm\\anaconda3\\envs\\czi_processing\\lib\\site-packages (from aicsimageio[all]) (2023.5.0)\n",
      "Requirement already satisfied: fsspec>=2022.8.0 in c:\\users\\schatzm\\anaconda3\\envs\\czi_processing\\lib\\site-packages (from aicsimageio[all]) (2023.9.0)\n",
      "Requirement already satisfied: imagecodecs>=2020.5.30 in c:\\users\\schatzm\\anaconda3\\envs\\czi_processing\\lib\\site-packages (from aicsimageio[all]) (2023.9.4)\n",
      "Requirement already satisfied: lxml<5,>=4.6 in c:\\users\\schatzm\\anaconda3\\envs\\czi_processing\\lib\\site-packages (from aicsimageio[all]) (4.9.2)\n",
      "Requirement already satisfied: numpy<=1.24.0,>=1.16 in c:\\users\\schatzm\\anaconda3\\envs\\czi_processing\\lib\\site-packages (from aicsimageio[all]) (1.24.0)\n",
      "Requirement already satisfied: ome-types>=0.3.4 in c:\\users\\schatzm\\anaconda3\\envs\\czi_processing\\lib\\site-packages (from aicsimageio[all]) (0.4.2)\n",
      "Requirement already satisfied: ome-zarr>=0.6.1 in c:\\users\\schatzm\\anaconda3\\envs\\czi_processing\\lib\\site-packages (from aicsimageio[all]) (0.8.0)\n",
      "Requirement already satisfied: PyYAML>=6.0 in c:\\users\\schatzm\\anaconda3\\envs\\czi_processing\\lib\\site-packages (from aicsimageio[all]) (6.0)\n",
      "Requirement already satisfied: wrapt>=1.12 in c:\\users\\schatzm\\anaconda3\\envs\\czi_processing\\lib\\site-packages (from aicsimageio[all]) (1.15.0)\n",
      "Requirement already satisfied: resource-backed-dask-array>=0.1.0 in c:\\users\\schatzm\\anaconda3\\envs\\czi_processing\\lib\\site-packages (from aicsimageio[all]) (0.1.0)\n",
      "Requirement already satisfied: tifffile>=2021.8.30 in c:\\users\\schatzm\\appdata\\roaming\\python\\python39\\site-packages (from aicsimageio[all]) (2022.4.8)\n",
      "Requirement already satisfied: xarray<2023.02.0,>=0.16.1 in c:\\users\\schatzm\\anaconda3\\envs\\czi_processing\\lib\\site-packages (from aicsimageio[all]) (2023.1.0)\n",
      "Requirement already satisfied: xmlschema in c:\\users\\schatzm\\anaconda3\\envs\\czi_processing\\lib\\site-packages (from aicsimageio[all]) (2.4.0)\n",
      "Requirement already satisfied: zarr<3,>=2.6 in c:\\users\\schatzm\\anaconda3\\envs\\czi_processing\\lib\\site-packages (from aicsimageio[all]) (2.16.1)\n",
      "Requirement already satisfied: imageio[ffmpeg]<2.28.0,>=2.11.0 in c:\\users\\schatzm\\appdata\\roaming\\python\\python39\\site-packages (from aicsimageio[all]) (2.27.0)\n",
      "Requirement already satisfied: Pillow>=9.3.0 in c:\\users\\schatzm\\appdata\\roaming\\python\\python39\\site-packages (from aicsimageio[all]) (10.0.0)\n",
      "Requirement already satisfied: nd2[legacy]>=0.6.0 in c:\\users\\schatzm\\appdata\\roaming\\python\\python39\\site-packages (from aicsimageio[all]) (0.7.2)\n",
      "Requirement already satisfied: mrc>=0.2.0 in c:\\users\\schatzm\\appdata\\roaming\\python\\python39\\site-packages (from aicsimageio[all]) (0.3.1)\n",
      "Requirement already satisfied: bfio>=2.3.0 in c:\\users\\schatzm\\appdata\\roaming\\python\\python39\\site-packages (from aicsimageio[all]) (2.3.0)\n",
      "Requirement already satisfied: click>=8.0 in c:\\users\\schatzm\\anaconda3\\envs\\czi_processing\\lib\\site-packages (from dask[array]<=2023.5.0,>=2021.4.1->aicsimageio[all]) (8.1.7)\n",
      "Requirement already satisfied: cloudpickle>=1.5.0 in c:\\users\\schatzm\\anaconda3\\envs\\czi_processing\\lib\\site-packages (from dask[array]<=2023.5.0,>=2021.4.1->aicsimageio[all]) (2.2.1)\n",
      "Requirement already satisfied: packaging>=20.0 in c:\\users\\schatzm\\anaconda3\\envs\\czi_processing\\lib\\site-packages (from dask[array]<=2023.5.0,>=2021.4.1->aicsimageio[all]) (23.1)\n",
      "Requirement already satisfied: partd>=1.2.0 in c:\\users\\schatzm\\anaconda3\\envs\\czi_processing\\lib\\site-packages (from dask[array]<=2023.5.0,>=2021.4.1->aicsimageio[all]) (1.4.0)\n",
      "Requirement already satisfied: toolz>=0.10.0 in c:\\users\\schatzm\\anaconda3\\envs\\czi_processing\\lib\\site-packages (from dask[array]<=2023.5.0,>=2021.4.1->aicsimageio[all]) (0.12.0)\n",
      "Requirement already satisfied: importlib-metadata>=4.13.0 in c:\\users\\schatzm\\anaconda3\\envs\\czi_processing\\lib\\site-packages (from dask[array]<=2023.5.0,>=2021.4.1->aicsimageio[all]) (6.0.0)\n",
      "Requirement already satisfied: imageio-ffmpeg in c:\\users\\schatzm\\appdata\\roaming\\python\\python39\\site-packages (from imageio[ffmpeg]<2.28.0,>=2.11.0->aicsimageio[all]) (0.4.8)\n",
      "Requirement already satisfied: psutil in c:\\users\\schatzm\\anaconda3\\envs\\czi_processing\\lib\\site-packages (from imageio[ffmpeg]<2.28.0,>=2.11.0->aicsimageio[all]) (5.9.0)\n",
      "Requirement already satisfied: typing-extensions in c:\\users\\schatzm\\anaconda3\\envs\\czi_processing\\lib\\site-packages (from nd2[legacy]>=0.6.0->aicsimageio[all]) (4.7.1)\n",
      "Requirement already satisfied: pydantic>=1.9.0 in c:\\users\\schatzm\\anaconda3\\envs\\czi_processing\\lib\\site-packages (from ome-types>=0.3.4->aicsimageio[all]) (2.3.0)\n",
      "Requirement already satisfied: xsdata>=23.5 in c:\\users\\schatzm\\anaconda3\\envs\\czi_processing\\lib\\site-packages (from ome-types>=0.3.4->aicsimageio[all]) (23.8)\n",
      "Requirement already satisfied: aiohttp<4 in c:\\users\\schatzm\\anaconda3\\envs\\czi_processing\\lib\\site-packages (from ome-zarr>=0.6.1->aicsimageio[all]) (3.8.5)\n",
      "Requirement already satisfied: distributed in c:\\users\\schatzm\\anaconda3\\envs\\czi_processing\\lib\\site-packages (from ome-zarr>=0.6.1->aicsimageio[all]) (2023.5.0)\n",
      "Requirement already satisfied: requests in c:\\users\\schatzm\\anaconda3\\envs\\czi_processing\\lib\\site-packages (from ome-zarr>=0.6.1->aicsimageio[all]) (2.31.0)\n",
      "Requirement already satisfied: scikit-image in c:\\users\\schatzm\\appdata\\roaming\\python\\python39\\site-packages (from ome-zarr>=0.6.1->aicsimageio[all]) (0.20.0)\n",
      "Requirement already satisfied: pandas>=1.3 in c:\\users\\schatzm\\anaconda3\\envs\\czi_processing\\lib\\site-packages (from xarray<2023.02.0,>=0.16.1->aicsimageio[all]) (2.1.0)\n",
      "Requirement already satisfied: asciitree in c:\\users\\schatzm\\anaconda3\\envs\\czi_processing\\lib\\site-packages (from zarr<3,>=2.6->aicsimageio[all]) (0.3.3)\n",
      "Requirement already satisfied: fasteners in c:\\users\\schatzm\\anaconda3\\envs\\czi_processing\\lib\\site-packages (from zarr<3,>=2.6->aicsimageio[all]) (0.18)\n",
      "Requirement already satisfied: numcodecs>=0.10.0 in c:\\users\\schatzm\\anaconda3\\envs\\czi_processing\\lib\\site-packages (from zarr<3,>=2.6->aicsimageio[all]) (0.11.0)\n",
      "Requirement already satisfied: elementpath<5.0.0,>=4.1.5 in c:\\users\\schatzm\\anaconda3\\envs\\czi_processing\\lib\\site-packages (from xmlschema->aicsimageio[all]) (4.1.5)\n",
      "Requirement already satisfied: attrs>=17.3.0 in c:\\users\\schatzm\\anaconda3\\envs\\czi_processing\\lib\\site-packages (from aiohttp<4->ome-zarr>=0.6.1->aicsimageio[all]) (22.1.0)\n",
      "Requirement already satisfied: charset-normalizer<4.0,>=2.0 in c:\\users\\schatzm\\anaconda3\\envs\\czi_processing\\lib\\site-packages (from aiohttp<4->ome-zarr>=0.6.1->aicsimageio[all]) (2.0.4)\n",
      "Requirement already satisfied: multidict<7.0,>=4.5 in c:\\users\\schatzm\\anaconda3\\envs\\czi_processing\\lib\\site-packages (from aiohttp<4->ome-zarr>=0.6.1->aicsimageio[all]) (6.0.4)\n",
      "Requirement already satisfied: async-timeout<5.0,>=4.0.0a3 in c:\\users\\schatzm\\anaconda3\\envs\\czi_processing\\lib\\site-packages (from aiohttp<4->ome-zarr>=0.6.1->aicsimageio[all]) (4.0.3)\n",
      "Requirement already satisfied: yarl<2.0,>=1.0 in c:\\users\\schatzm\\anaconda3\\envs\\czi_processing\\lib\\site-packages (from aiohttp<4->ome-zarr>=0.6.1->aicsimageio[all]) (1.9.2)\n",
      "Requirement already satisfied: frozenlist>=1.1.1 in c:\\users\\schatzm\\anaconda3\\envs\\czi_processing\\lib\\site-packages (from aiohttp<4->ome-zarr>=0.6.1->aicsimageio[all]) (1.4.0)\n",
      "Requirement already satisfied: aiosignal>=1.1.2 in c:\\users\\schatzm\\anaconda3\\envs\\czi_processing\\lib\\site-packages (from aiohttp<4->ome-zarr>=0.6.1->aicsimageio[all]) (1.3.1)\n",
      "Requirement already satisfied: colorama in c:\\users\\schatzm\\anaconda3\\envs\\czi_processing\\lib\\site-packages (from click>=8.0->dask[array]<=2023.5.0,>=2021.4.1->aicsimageio[all]) (0.4.6)\n",
      "Requirement already satisfied: s3fs in c:\\users\\schatzm\\anaconda3\\envs\\czi_processing\\lib\\site-packages (from fsspec>=2022.8.0->aicsimageio[all]) (2023.9.0)\n",
      "Requirement already satisfied: zipp>=0.5 in c:\\users\\schatzm\\anaconda3\\envs\\czi_processing\\lib\\site-packages (from importlib-metadata>=4.13.0->dask[array]<=2023.5.0,>=2021.4.1->aicsimageio[all]) (3.11.0)\n",
      "Requirement already satisfied: entrypoints in c:\\users\\schatzm\\anaconda3\\envs\\czi_processing\\lib\\site-packages (from numcodecs>=0.10.0->zarr<3,>=2.6->aicsimageio[all]) (0.4)\n",
      "Requirement already satisfied: python-dateutil>=2.8.2 in c:\\users\\schatzm\\anaconda3\\envs\\czi_processing\\lib\\site-packages (from pandas>=1.3->xarray<2023.02.0,>=0.16.1->aicsimageio[all]) (2.8.2)\n",
      "Requirement already satisfied: pytz>=2020.1 in c:\\users\\schatzm\\anaconda3\\envs\\czi_processing\\lib\\site-packages (from pandas>=1.3->xarray<2023.02.0,>=0.16.1->aicsimageio[all]) (2022.7)\n",
      "Requirement already satisfied: tzdata>=2022.1 in c:\\users\\schatzm\\anaconda3\\envs\\czi_processing\\lib\\site-packages (from pandas>=1.3->xarray<2023.02.0,>=0.16.1->aicsimageio[all]) (2023.3)\n",
      "Requirement already satisfied: locket in c:\\users\\schatzm\\anaconda3\\envs\\czi_processing\\lib\\site-packages (from partd>=1.2.0->dask[array]<=2023.5.0,>=2021.4.1->aicsimageio[all]) (1.0.0)\n",
      "Requirement already satisfied: annotated-types>=0.4.0 in c:\\users\\schatzm\\anaconda3\\envs\\czi_processing\\lib\\site-packages (from pydantic>=1.9.0->ome-types>=0.3.4->aicsimageio[all]) (0.5.0)\n",
      "Requirement already satisfied: pydantic-core==2.6.3 in c:\\users\\schatzm\\anaconda3\\envs\\czi_processing\\lib\\site-packages (from pydantic>=1.9.0->ome-types>=0.3.4->aicsimageio[all]) (2.6.3)\n",
      "Requirement already satisfied: jinja2>=2.10.3 in c:\\users\\schatzm\\anaconda3\\envs\\czi_processing\\lib\\site-packages (from distributed->ome-zarr>=0.6.1->aicsimageio[all]) (3.1.2)\n",
      "Requirement already satisfied: msgpack>=1.0.0 in c:\\users\\schatzm\\anaconda3\\envs\\czi_processing\\lib\\site-packages (from distributed->ome-zarr>=0.6.1->aicsimageio[all]) (1.0.5)\n",
      "Requirement already satisfied: sortedcontainers>=2.0.5 in c:\\users\\schatzm\\anaconda3\\envs\\czi_processing\\lib\\site-packages (from distributed->ome-zarr>=0.6.1->aicsimageio[all]) (2.4.0)\n",
      "Requirement already satisfied: tblib>=1.6.0 in c:\\users\\schatzm\\anaconda3\\envs\\czi_processing\\lib\\site-packages (from distributed->ome-zarr>=0.6.1->aicsimageio[all]) (2.0.0)\n",
      "Requirement already satisfied: tornado>=6.0.3 in c:\\users\\schatzm\\anaconda3\\envs\\czi_processing\\lib\\site-packages (from distributed->ome-zarr>=0.6.1->aicsimageio[all]) (6.3.2)\n",
      "Requirement already satisfied: urllib3>=1.24.3 in c:\\users\\schatzm\\anaconda3\\envs\\czi_processing\\lib\\site-packages (from distributed->ome-zarr>=0.6.1->aicsimageio[all]) (1.26.16)\n",
      "Requirement already satisfied: zict>=2.2.0 in c:\\users\\schatzm\\anaconda3\\envs\\czi_processing\\lib\\site-packages (from distributed->ome-zarr>=0.6.1->aicsimageio[all]) (3.0.0)\n",
      "Requirement already satisfied: idna<4,>=2.5 in c:\\users\\schatzm\\anaconda3\\envs\\czi_processing\\lib\\site-packages (from requests->ome-zarr>=0.6.1->aicsimageio[all]) (3.4)\n",
      "Requirement already satisfied: certifi>=2017.4.17 in c:\\users\\schatzm\\anaconda3\\envs\\czi_processing\\lib\\site-packages (from requests->ome-zarr>=0.6.1->aicsimageio[all]) (2023.7.22)\n",
      "Requirement already satisfied: scipy<1.9.2,>=1.8 in c:\\users\\schatzm\\appdata\\roaming\\python\\python39\\site-packages (from scikit-image->ome-zarr>=0.6.1->aicsimageio[all]) (1.9.1)\n",
      "Requirement already satisfied: networkx>=2.8 in c:\\users\\schatzm\\anaconda3\\envs\\czi_processing\\lib\\site-packages (from scikit-image->ome-zarr>=0.6.1->aicsimageio[all]) (3.1)\n",
      "Requirement already satisfied: PyWavelets>=1.1.1 in c:\\users\\schatzm\\anaconda3\\envs\\czi_processing\\lib\\site-packages (from scikit-image->ome-zarr>=0.6.1->aicsimageio[all]) (1.4.1)\n",
      "Requirement already satisfied: lazy_loader>=0.1 in c:\\users\\schatzm\\anaconda3\\envs\\czi_processing\\lib\\site-packages (from scikit-image->ome-zarr>=0.6.1->aicsimageio[all]) (0.3)\n",
      "Requirement already satisfied: MarkupSafe>=2.0 in c:\\users\\schatzm\\anaconda3\\envs\\czi_processing\\lib\\site-packages (from jinja2>=2.10.3->distributed->ome-zarr>=0.6.1->aicsimageio[all]) (2.1.1)\n",
      "Requirement already satisfied: six>=1.5 in c:\\users\\schatzm\\anaconda3\\envs\\czi_processing\\lib\\site-packages (from python-dateutil>=2.8.2->pandas>=1.3->xarray<2023.02.0,>=0.16.1->aicsimageio[all]) (1.16.0)\n",
      "Requirement already satisfied: aiobotocore~=2.5.4 in c:\\users\\schatzm\\anaconda3\\envs\\czi_processing\\lib\\site-packages (from s3fs->fsspec>=2022.8.0->aicsimageio[all]) (2.5.4)\n",
      "Requirement already satisfied: botocore<1.31.18,>=1.31.17 in c:\\users\\schatzm\\anaconda3\\envs\\czi_processing\\lib\\site-packages (from aiobotocore~=2.5.4->s3fs->fsspec>=2022.8.0->aicsimageio[all]) (1.31.17)\n",
      "Requirement already satisfied: aioitertools<1.0.0,>=0.5.1 in c:\\users\\schatzm\\anaconda3\\envs\\czi_processing\\lib\\site-packages (from aiobotocore~=2.5.4->s3fs->fsspec>=2022.8.0->aicsimageio[all]) (0.11.0)\n",
      "Requirement already satisfied: jmespath<2.0.0,>=0.7.1 in c:\\users\\schatzm\\anaconda3\\envs\\czi_processing\\lib\\site-packages (from botocore<1.31.18,>=1.31.17->aiobotocore~=2.5.4->s3fs->fsspec>=2022.8.0->aicsimageio[all]) (1.0.1)\n",
      "Requirement already satisfied: bioformats_jar in c:\\users\\schatzm\\anaconda3\\envs\\czi_processing\\lib\\site-packages (2020.5.27)\n",
      "Requirement already satisfied: scyjava in c:\\users\\schatzm\\anaconda3\\envs\\czi_processing\\lib\\site-packages (from bioformats_jar) (1.9.1)\n",
      "Requirement already satisfied: jpype1>=1.3.0 in c:\\users\\schatzm\\anaconda3\\envs\\czi_processing\\lib\\site-packages (from scyjava->bioformats_jar) (1.4.1)\n",
      "Requirement already satisfied: jgo in c:\\users\\schatzm\\anaconda3\\envs\\czi_processing\\lib\\site-packages (from scyjava->bioformats_jar) (1.0.5)\n",
      "Requirement already satisfied: packaging in c:\\users\\schatzm\\anaconda3\\envs\\czi_processing\\lib\\site-packages (from jpype1>=1.3.0->scyjava->bioformats_jar) (23.1)\n",
      "Requirement already satisfied: psutil in c:\\users\\schatzm\\anaconda3\\envs\\czi_processing\\lib\\site-packages (from jgo->scyjava->bioformats_jar) (5.9.0)\n"
     ]
    }
   ],
   "source": [
    "!pip install aicsimageio[all] --user\n",
    "!pip install bioformats_jar"
   ]
  },
  {
   "cell_type": "code",
   "execution_count": 2,
   "metadata": {
    "tags": []
   },
   "outputs": [],
   "source": [
    "!pip install aicspylibczi>=3.1.1 fsspec>=2022.8.0"
   ]
  },
  {
   "cell_type": "code",
   "execution_count": 3,
   "metadata": {},
   "outputs": [
    {
     "name": "stdout",
     "output_type": "stream",
     "text": [
      "Requirement already satisfied: opencv-python in c:\\users\\schatzm\\anaconda3\\envs\\czi_processing\\lib\\site-packages (4.8.0.76)\n",
      "Requirement already satisfied: numpy>=1.17.0 in c:\\users\\schatzm\\anaconda3\\envs\\czi_processing\\lib\\site-packages (from opencv-python) (1.24.0)\n"
     ]
    }
   ],
   "source": [
    "!pip install opencv-python"
   ]
  },
  {
   "cell_type": "code",
   "execution_count": 4,
   "metadata": {
    "colab": {
     "base_uri": "https://localhost:8080/",
     "height": 383
    },
    "id": "p04JoWi4zENl",
    "outputId": "6661bd35-b33a-4908-f924-3cd043658403",
    "tags": []
   },
   "outputs": [
    {
     "name": "stderr",
     "output_type": "stream",
     "text": [
      "C:\\Users\\schatzm\\Anaconda3\\envs\\czi_processing\\lib\\site-packages\\pydantic\\_migration.py:276: UserWarning: `pydantic.error_wrappers:ValidationError` has been moved to `pydantic:ValidationError`.\n",
      "  warnings.warn(f'`{import_path}` has been moved to `{new_location}`.')\n"
     ]
    }
   ],
   "source": [
    "from aicsimageio.writers import OmeTiffWriter\n",
    "from aicsimageio import AICSImage\n",
    "from skimage.io import imshow\n",
    "from tqdm import tqdm\n",
    "import os\n",
    "import cv2\n",
    "\n",
    "import numpy as np"
   ]
  },
  {
   "cell_type": "code",
   "execution_count": 5,
   "metadata": {},
   "outputs": [],
   "source": [
    "from aicspylibczi import CziFile"
   ]
  },
  {
   "cell_type": "code",
   "execution_count": 6,
   "metadata": {},
   "outputs": [],
   "source": [
    "# %%time\n",
    "# # Path to your CZI file\n",
    "# czi_file_path = '../../test/2023_05_22_Pyl-OB_010_small.czi'\n",
    "# name = \"output\"\n",
    "\n",
    "# # czi_file_path = '../../230518_ML_pyl_OB/2023_05_21_Pyl-OB_001.czi'\n",
    "# # name = \"2023_05_21_Pyl-OB_001\"\n",
    "\n",
    "# czi = CziFile(czi_file_path)\n",
    "\n",
    "# # Get the shape of the data, the coordinate pairs are (start index, size)\n",
    "# # dimensions = czi.dims_shape()  #  [{'X': (0, 1900), 'Y': (0, 1300), 'Z': (0, 60), 'C': (0, 4), 'S': (0, 40), 'B': (0, 1)}]\n",
    "\n",
    "# print(czi.dims)\n",
    "\n",
    "# print(czi.size)  #  (1, 40, 4, 60, 1300, 1900)\n",
    "# size=czi.size\n",
    "\n",
    "# czi.is_mosaic()\n",
    "\n",
    "\n",
    "\n",
    "# output_folder = name+'/'\n",
    "\n",
    "# if not os.path.exists(output_folder):\n",
    "#         os.makedirs(output_folder)\n",
    "        \n",
    "        \n",
    "\n",
    "# # czi.get_dims_shape()\n",
    "# #  working but slow\n",
    "# mosaic_data = czi.read_mosaic(C=0, scale_factor=1, Z=0)\n",
    "# mosaic_data.shape\n",
    "\n",
    "# mosaic_data_shape = mosaic_data.shape\n",
    "\n",
    "# subpart_size = [1600,1920]\n",
    "# # Calculate the number of subparts in each dimension\n",
    "# num_subparts_x = mosaic_data_shape[2] // subpart_size[0]\n",
    "# num_subparts_y = mosaic_data_shape[3] // subpart_size[1]\n",
    "    \n",
    "# # Calculate the total number of iterations\n",
    "# total_iterations = num_subparts_x * num_subparts_y * size[2]\n",
    "\n",
    "# # Initialize the tqdm progress bar\n",
    "# progress_bar = tqdm(total=total_iterations, desc=f\"Processing {name}\")\n",
    "\n",
    "# for z in range(size[2]):\n",
    "#     #read Z stack\n",
    "#     mosaic_data = czi.read_mosaic(C=0, scale_factor=1, Z=z)\n",
    "    \n",
    "#     for x in range(num_subparts_x):\n",
    "#         for y in range(num_subparts_y):       \n",
    "#             # Extract the subpart\n",
    "#             subpart = mosaic_data[:, :, x * subpart_size[0]:(x + 1) * subpart_size[0],\n",
    "#                                   y * subpart_size[1]:(y + 1) * subpart_size[1], :]\n",
    "\n",
    "#             # Create an AICSImage object\n",
    "#             aics_image = AICSImage(subpart)\n",
    "\n",
    "#             # Define the output file path\n",
    "#             output_file = os.path.join(output_folder, f\"{name}_subpart_z-{z}_x-{x}_y-{y}.ome.tiff\")\n",
    "\n",
    "#             # Save the subpart as an OME-TIFF\n",
    "#             # aics_image.save(output_file)\n",
    "\n",
    "#             # container = cv2.cvtColor(container, cv2.COLOR_BGR2RGB)\n",
    "#             # Save the subpart as a TIFF file\n",
    "#             OmeTiffWriter.save(cv2.cvtColor(np.squeeze(subpart), cv2.COLOR_BGR2RGB), output_file, dim_order=\"YXS\")\n",
    "            \n",
    "#             # Update the progress bar\n",
    "#             progress_bar.update(1)\n",
    "            \n",
    "# # Close the progress bar when the loops are done\n",
    "# progress_bar.close()"
   ]
  },
  {
   "cell_type": "code",
   "execution_count": 7,
   "metadata": {
    "tags": []
   },
   "outputs": [],
   "source": [
    "# Append Row to DataFrame\n",
    "# list_row = {\"X\": 27000, \"Y\": 2000, \"Z\": 2000, \"focus\": 2000}\n",
    "# df.loc[len(df)]= list_row"
   ]
  },
  {
   "cell_type": "code",
   "execution_count": 26,
   "metadata": {},
   "outputs": [],
   "source": [
    "from aicsimageio.writers import OmeTiffWriter\n",
    "from aicsimageio import AICSImage\n",
    "from tqdm import tqdm\n",
    "import os\n",
    "import cv2\n",
    "import pandas as pd\n",
    "\n",
    "\n",
    "def process_czi_file(czi_file_path, output_folder, subpart_size):\n",
    "    df = pd.DataFrame(columns=('X', 'Y', 'Z', 'focus'))\n",
    "    \n",
    "#     # read metadata\n",
    "#     # Open the CZI file using aicsimageio\n",
    "#     img = AICSImage(czi_file_path)\n",
    "\n",
    "#     # Read the metadata\n",
    "#     metadata = img.metadata\n",
    "    \n",
    "#     # define scaling from metadata or use defualt scaling\n",
    "#     try:\n",
    "#         pixels_physical_size = [metadata['XScale'],\n",
    "#                                 metadata['YScale'],\n",
    "#                                 metadata['ZScale']]\n",
    "#     except Exception as error:\n",
    "#         print(error.__class__.__name__ + \": \" + error.msg)\n",
    "    # Create a CziFile object\n",
    "    czi = CziFile(czi_file_path)\n",
    "\n",
    "    df = pd.DataFrame(columns=['X','Y','Z','focus'])\n",
    "    \n",
    "    # Get the shape of the data\n",
    "    size = czi.size\n",
    "    \n",
    "    print(czi.dims)\n",
    "    print(size)\n",
    "\n",
    "    # Check if the file is a mosaic\n",
    "    is_mosaic = czi.is_mosaic()\n",
    "\n",
    "    if not is_mosaic:\n",
    "        print(\"The provided CZI file is not a mosaic.\")\n",
    "        return\n",
    "\n",
    "    # Create the output folder if it doesn't exist\n",
    "    if not os.path.exists(output_folder):\n",
    "        os.makedirs(output_folder)\n",
    "\n",
    "    mosaic_data_shape = czi.read_mosaic(C=0, scale_factor=1, Z=0).shape\n",
    "    num_subparts_x = mosaic_data_shape[2] // subpart_size[0]\n",
    "    num_subparts_y = mosaic_data_shape[3] // subpart_size[1]\n",
    "    total_iterations = num_subparts_x * num_subparts_y * size[2]\n",
    "    \n",
    "    print(f\"Total integrations: X {num_subparts_x}, Y {num_subparts_y}, Z {size[2]}\")\n",
    "\n",
    "    progress_bar = tqdm(total=total_iterations, desc=f\"Processing {os.path.basename(czi_file_path)}\")\n",
    "\n",
    "    for z in range(size[2]):\n",
    "        mosaic_data = czi.read_mosaic(C=0, scale_factor=1, Z=z)\n",
    "\n",
    "        for x in range(num_subparts_x):\n",
    "            for y in range(num_subparts_y):\n",
    "                subpart = mosaic_data[:, :, x * subpart_size[0]:(x + 1) * subpart_size[0],\n",
    "                                      y * subpart_size[1]:(y + 1) * subpart_size[1], :]\n",
    "\n",
    "                aics_image = AICSImage(subpart)\n",
    "                \n",
    "                # Create a CziFile object\n",
    "\n",
    "                output_file = os.path.join(output_folder, f\"subpart_z-{z}_x-{x}_y-{y}.ome.tiff\")\n",
    "                \n",
    "                focus = cv2.Laplacian(np.squeeze(subpart), cv2.CV_64F, ksize=5).var()\n",
    "                # Append Row to DataFrame\n",
    "                list_row = {\"X\": x, \"Y\": y, \"Z\": z, \"focus\": focus}\n",
    "                df.loc[len(df)]= list_row\n",
    "                \n",
    "                try:\n",
    "                    # without metadata\n",
    "                    OmeTiffWriter.save(cv2.cvtColor(np.squeeze(subpart), cv2.COLOR_BGR2RGB), output_file, dim_order=\"YXS\")\n",
    "                    \n",
    "                # Create an OmeTiffWriter instance\n",
    "                \n",
    "                    # OmeTiffWriter.save(cv2.cvtColor(np.squeeze(subpart), cv2.COLOR_BGR2RGB), output_file, dim_order=\"YXS\", pixels_physical_size=pixels_physical_size)\n",
    "                except Exception as error:\n",
    "                    print(error.__class__.__name__ + \": \" + error.msg)\n",
    "                    \n",
    "                progress_bar.update(1)\n",
    "\n",
    "    progress_bar.close()\n",
    "    output_csv = os.path.join(output_folder, f\"_focus_estimate.csv\")\n",
    "    df.to_csv(output_csv)\n"
   ]
  },
  {
   "cell_type": "code",
   "execution_count": 27,
   "metadata": {
    "tags": []
   },
   "outputs": [],
   "source": [
    "skip = [\n",
    "    \"2023_05_21_Pyl-OB_001.czi\",\n",
    "    \"2023_05_18_Pyl-OB_001.czi\",\n",
    "    # \"2023_05_21_Pyl-OB_001\", #nefunkcni\n",
    "    # \"2023_05_18_Pyl-OB_001\",\n",
    "    # \"2023_05_21_Pyl-OB_001\", #nefunkcni\n",
    "]"
   ]
  },
  {
   "cell_type": "code",
   "execution_count": 28,
   "metadata": {
    "tags": []
   },
   "outputs": [
    {
     "name": "stdout",
     "output_type": "stream",
     "text": [
      "2023_05_22_Pyl-OB_001\n",
      "../../230518_ML_pyl_OB/2023_05_22_Pyl-OB_001.czi\n",
      "SCZMYXA\n",
      "(1, 1, 49, 140, 1200, 1600, 3)\n",
      "Total integrations: X 9, Y 7, Z 49\n"
     ]
    },
    {
     "name": "stderr",
     "output_type": "stream",
     "text": [
      "Processing 2023_05_22_Pyl-OB_001.czi: 100%|████████████████████████████████████████| 3087/3087 [45:01<00:00,  1.14it/s]\n"
     ]
    },
    {
     "name": "stdout",
     "output_type": "stream",
     "text": [
      "2023_05_22_Pyl-OB_002\n",
      "../../230518_ML_pyl_OB/2023_05_22_Pyl-OB_002.czi\n",
      "SCZMYXA\n",
      "(1, 1, 49, 1376, 1200, 1600, 3)\n",
      "Total integrations: X 29, Y 24, Z 49\n"
     ]
    },
    {
     "name": "stderr",
     "output_type": "stream",
     "text": [
      "Processing 2023_05_22_Pyl-OB_002.czi: 100%|████████████████████████████████████| 34104/34104 [7:07:06<00:00,  1.33it/s]\n"
     ]
    },
    {
     "name": "stdout",
     "output_type": "stream",
     "text": [
      "2023_05_22_Pyl-OB_003\n",
      "../../230518_ML_pyl_OB/2023_05_22_Pyl-OB_003.czi\n",
      "SCZMYXA\n",
      "(1, 1, 49, 1376, 1200, 1600, 3)\n",
      "Total integrations: X 29, Y 24, Z 49\n"
     ]
    },
    {
     "name": "stderr",
     "output_type": "stream",
     "text": [
      "Processing 2023_05_22_Pyl-OB_003.czi: 100%|████████████████████████████████████| 34104/34104 [6:59:11<00:00,  1.36it/s]\n"
     ]
    },
    {
     "name": "stdout",
     "output_type": "stream",
     "text": [
      "2023_05_22_Pyl-OB_004\n",
      "../../230518_ML_pyl_OB/2023_05_22_Pyl-OB_004.czi\n",
      "SCZMYXA\n",
      "(1, 1, 49, 1376, 1200, 1600, 3)\n",
      "Total integrations: X 29, Y 24, Z 49\n"
     ]
    },
    {
     "name": "stderr",
     "output_type": "stream",
     "text": [
      "Processing 2023_05_22_Pyl-OB_004.czi: 100%|████████████████████████████████████| 34104/34104 [7:42:27<00:00,  1.23it/s]\n"
     ]
    },
    {
     "name": "stdout",
     "output_type": "stream",
     "text": [
      "2023_05_22_Pyl-OB_005\n",
      "../../230518_ML_pyl_OB/2023_05_22_Pyl-OB_005.czi\n",
      "SCZMYXA\n",
      "(1, 1, 49, 1376, 1200, 1600, 3)\n",
      "Total integrations: X 29, Y 24, Z 49\n"
     ]
    },
    {
     "name": "stderr",
     "output_type": "stream",
     "text": [
      "Processing 2023_05_22_Pyl-OB_005.czi: 100%|████████████████████████████████████| 34104/34104 [7:33:33<00:00,  1.25it/s]\n"
     ]
    },
    {
     "name": "stdout",
     "output_type": "stream",
     "text": [
      "2023_05_22_Pyl-OB_006\n",
      "../../230518_ML_pyl_OB/2023_05_22_Pyl-OB_006.czi\n",
      "SCZMYXA\n",
      "(1, 1, 49, 1376, 1200, 1600, 3)\n",
      "Total integrations: X 29, Y 24, Z 49\n"
     ]
    },
    {
     "name": "stderr",
     "output_type": "stream",
     "text": [
      "Processing 2023_05_22_Pyl-OB_006.czi: 100%|████████████████████████████████████| 34104/34104 [7:35:11<00:00,  1.25it/s]\n"
     ]
    },
    {
     "name": "stdout",
     "output_type": "stream",
     "text": [
      "2023_05_22_Pyl-OB_007\n",
      "../../230518_ML_pyl_OB/2023_05_22_Pyl-OB_007.czi\n",
      "SCZMYXA\n",
      "(1, 1, 49, 1376, 1200, 1600, 3)\n",
      "Total integrations: X 29, Y 24, Z 49\n"
     ]
    },
    {
     "name": "stderr",
     "output_type": "stream",
     "text": [
      "Processing 2023_05_22_Pyl-OB_007.czi: 100%|████████████████████████████████████| 34104/34104 [7:36:34<00:00,  1.24it/s]\n"
     ]
    },
    {
     "name": "stdout",
     "output_type": "stream",
     "text": [
      "2023_05_22_Pyl-OB_008\n",
      "../../230518_ML_pyl_OB/2023_05_22_Pyl-OB_008.czi\n",
      "SCZMYXA\n",
      "(1, 1, 49, 1376, 1200, 1600, 3)\n",
      "Total integrations: X 29, Y 24, Z 49\n"
     ]
    },
    {
     "name": "stderr",
     "output_type": "stream",
     "text": [
      "Processing 2023_05_22_Pyl-OB_008.czi: 100%|████████████████████████████████████| 34104/34104 [7:34:17<00:00,  1.25it/s]\n"
     ]
    },
    {
     "name": "stdout",
     "output_type": "stream",
     "text": [
      "2023_05_22_Pyl-OB_009\n",
      "../../230518_ML_pyl_OB/2023_05_22_Pyl-OB_009.czi\n",
      "SCZMYXA\n",
      "(1, 1, 49, 1419, 1200, 1600, 3)\n",
      "Total integrations: X 29, Y 24, Z 49\n"
     ]
    },
    {
     "name": "stderr",
     "output_type": "stream",
     "text": [
      "Processing 2023_05_22_Pyl-OB_009.czi: 100%|████████████████████████████████████| 34104/34104 [7:50:15<00:00,  1.21it/s]\n"
     ]
    },
    {
     "name": "stdout",
     "output_type": "stream",
     "text": [
      "2023_05_22_Pyl-OB_010\n",
      "../../230518_ML_pyl_OB/2023_05_22_Pyl-OB_010.czi\n",
      "SCZMYXA\n",
      "(1, 1, 49, 1419, 1200, 1600, 3)\n",
      "Total integrations: X 29, Y 24, Z 49\n"
     ]
    },
    {
     "name": "stderr",
     "output_type": "stream",
     "text": [
      "Processing 2023_05_22_Pyl-OB_010.czi: 100%|████████████████████████████████████| 34104/34104 [7:56:19<00:00,  1.19it/s]\n"
     ]
    },
    {
     "name": "stdout",
     "output_type": "stream",
     "text": [
      "2023_05_22_Pyl-OB_011\n",
      "../../230518_ML_pyl_OB/2023_05_22_Pyl-OB_011.czi\n",
      "SCZMYXA\n",
      "(1, 1, 49, 1376, 1200, 1600, 3)\n",
      "Total integrations: X 29, Y 24, Z 49\n"
     ]
    },
    {
     "name": "stderr",
     "output_type": "stream",
     "text": [
      "Processing 2023_05_22_Pyl-OB_011.czi: 100%|████████████████████████████████████| 34104/34104 [7:53:39<00:00,  1.20it/s]\n"
     ]
    },
    {
     "name": "stdout",
     "output_type": "stream",
     "text": [
      "2023_05_22_Pyl-OB_012\n",
      "../../230518_ML_pyl_OB/2023_05_22_Pyl-OB_012.czi\n",
      "SCZMYXA\n",
      "(1, 1, 49, 1376, 1200, 1600, 3)\n",
      "Total integrations: X 29, Y 24, Z 49\n"
     ]
    },
    {
     "name": "stderr",
     "output_type": "stream",
     "text": [
      "Processing 2023_05_22_Pyl-OB_012.czi: 100%|████████████████████████████████████| 34104/34104 [8:19:19<00:00,  1.14it/s]\n"
     ]
    },
    {
     "name": "stdout",
     "output_type": "stream",
     "text": [
      "2023_05_22_Pyl-OB_013\n",
      "../../230518_ML_pyl_OB/2023_05_22_Pyl-OB_013.czi\n",
      "SCZMYXA\n",
      "(1, 1, 49, 1376, 1200, 1600, 3)\n",
      "Total integrations: X 29, Y 24, Z 49\n"
     ]
    },
    {
     "name": "stderr",
     "output_type": "stream",
     "text": [
      "Processing 2023_05_22_Pyl-OB_013.czi: 100%|████████████████████████████████████| 34104/34104 [8:24:15<00:00,  1.13it/s]\n"
     ]
    },
    {
     "name": "stdout",
     "output_type": "stream",
     "text": [
      "2023_05_22_Pyl-OB_014\n",
      "../../230518_ML_pyl_OB/2023_05_22_Pyl-OB_014.czi\n",
      "SCZMYXA\n",
      "(1, 1, 49, 1376, 1200, 1600, 3)\n",
      "Total integrations: X 29, Y 24, Z 49\n"
     ]
    },
    {
     "name": "stderr",
     "output_type": "stream",
     "text": [
      "Processing 2023_05_22_Pyl-OB_014.czi: 100%|████████████████████████████████████| 34104/34104 [8:14:59<00:00,  1.15it/s]\n"
     ]
    },
    {
     "name": "stdout",
     "output_type": "stream",
     "text": [
      "2023_05_22_Pyl-OB_015\n",
      "../../230518_ML_pyl_OB/2023_05_22_Pyl-OB_015.czi\n",
      "SCZMYXA\n",
      "(1, 1, 49, 1419, 1200, 1600, 3)\n",
      "Total integrations: X 29, Y 24, Z 49\n"
     ]
    },
    {
     "name": "stderr",
     "output_type": "stream",
     "text": [
      "Processing 2023_05_22_Pyl-OB_015.czi: 100%|████████████████████████████████████| 34104/34104 [8:13:58<00:00,  1.15it/s]\n"
     ]
    },
    {
     "name": "stdout",
     "output_type": "stream",
     "text": [
      "2023_05_22_Pyl-OB_016\n",
      "../../230518_ML_pyl_OB/2023_05_22_Pyl-OB_016.czi\n",
      "SCZMYXA\n",
      "(1, 1, 49, 1376, 1200, 1600, 3)\n",
      "Total integrations: X 29, Y 24, Z 49\n"
     ]
    },
    {
     "name": "stderr",
     "output_type": "stream",
     "text": [
      "Processing 2023_05_22_Pyl-OB_016.czi: 100%|████████████████████████████████████| 34104/34104 [7:36:50<00:00,  1.24it/s]\n"
     ]
    },
    {
     "name": "stdout",
     "output_type": "stream",
     "text": [
      "2023_05_22_Pyl-OB_017\n",
      "../../230518_ML_pyl_OB/2023_05_22_Pyl-OB_017.czi\n",
      "SCZMYXA\n",
      "(1, 1, 49, 1376, 1200, 1600, 3)\n",
      "Total integrations: X 29, Y 24, Z 49\n"
     ]
    },
    {
     "name": "stderr",
     "output_type": "stream",
     "text": [
      "Processing 2023_05_22_Pyl-OB_017.czi: 100%|████████████████████████████████████| 34104/34104 [7:28:04<00:00,  1.27it/s]\n"
     ]
    },
    {
     "name": "stdout",
     "output_type": "stream",
     "text": [
      "2023_05_22_Pyl-OB_018\n",
      "../../230518_ML_pyl_OB/2023_05_22_Pyl-OB_018.czi\n",
      "SCZMYXA\n",
      "(1, 1, 49, 1419, 1200, 1600, 3)\n",
      "Total integrations: X 29, Y 24, Z 49\n"
     ]
    },
    {
     "name": "stderr",
     "output_type": "stream",
     "text": [
      "Processing 2023_05_22_Pyl-OB_018.czi: 100%|████████████████████████████████████| 34104/34104 [7:54:26<00:00,  1.20it/s]\n"
     ]
    },
    {
     "name": "stdout",
     "output_type": "stream",
     "text": [
      "2023_05_22_Pyl-OB_019\n",
      "../../230518_ML_pyl_OB/2023_05_22_Pyl-OB_019.czi\n",
      "SCZMYXA\n",
      "(1, 1, 49, 1376, 1200, 1600, 3)\n",
      "Total integrations: X 29, Y 24, Z 49\n"
     ]
    },
    {
     "name": "stderr",
     "output_type": "stream",
     "text": [
      "Processing 2023_05_22_Pyl-OB_019.czi: 100%|████████████████████████████████████| 34104/34104 [8:36:12<00:00,  1.10it/s]\n"
     ]
    },
    {
     "name": "stdout",
     "output_type": "stream",
     "text": [
      "2023_05_22_Pyl-OB_020\n",
      "../../230518_ML_pyl_OB/2023_05_22_Pyl-OB_020.czi\n",
      "SCZMYXA\n",
      "(1, 1, 49, 1376, 1200, 1600, 3)\n",
      "Total integrations: X 29, Y 24, Z 49\n"
     ]
    },
    {
     "name": "stderr",
     "output_type": "stream",
     "text": [
      "Processing 2023_05_22_Pyl-OB_020.czi: 100%|████████████████████████████████████| 34104/34104 [7:49:52<00:00,  1.21it/s]\n"
     ]
    },
    {
     "name": "stdout",
     "output_type": "stream",
     "text": [
      "2023_05_22_Pyl-OB_021\n",
      "../../230518_ML_pyl_OB/2023_05_22_Pyl-OB_021.czi\n",
      "SCZMYXA\n",
      "(1, 1, 49, 1344, 1200, 1600, 3)\n",
      "Total integrations: X 28, Y 24, Z 49\n"
     ]
    },
    {
     "name": "stderr",
     "output_type": "stream",
     "text": [
      "Processing 2023_05_22_Pyl-OB_021.czi: 100%|████████████████████████████████████| 32928/32928 [7:51:04<00:00,  1.16it/s]\n"
     ]
    },
    {
     "name": "stdout",
     "output_type": "stream",
     "text": [
      "2023_05_22_Pyl-OB_022\n",
      "../../230518_ML_pyl_OB/2023_05_22_Pyl-OB_022.czi\n",
      "SCZMYXA\n",
      "(1, 1, 49, 1419, 1200, 1600, 3)\n",
      "Total integrations: X 29, Y 24, Z 49\n"
     ]
    },
    {
     "name": "stderr",
     "output_type": "stream",
     "text": [
      "Processing 2023_05_22_Pyl-OB_022.czi: 100%|████████████████████████████████████| 34104/34104 [7:47:54<00:00,  1.21it/s]\n"
     ]
    },
    {
     "name": "stdout",
     "output_type": "stream",
     "text": [
      "2023_05_22_Pyl-OB_023\n",
      "../../230518_ML_pyl_OB/2023_05_22_Pyl-OB_023.czi\n",
      "SCZMYXA\n",
      "(1, 1, 49, 1376, 1200, 1600, 3)\n",
      "Total integrations: X 29, Y 24, Z 49\n"
     ]
    },
    {
     "name": "stderr",
     "output_type": "stream",
     "text": [
      "Processing 2023_05_22_Pyl-OB_023.czi: 100%|████████████████████████████████████| 34104/34104 [7:09:05<00:00,  1.32it/s]\n"
     ]
    },
    {
     "name": "stdout",
     "output_type": "stream",
     "text": [
      "2023_05_22_Pyl-OB_024\n",
      "../../230518_ML_pyl_OB/2023_05_22_Pyl-OB_024.czi\n",
      "SCZMYXA\n",
      "(1, 1, 49, 1376, 1200, 1600, 3)\n",
      "Total integrations: X 29, Y 24, Z 49\n"
     ]
    },
    {
     "name": "stderr",
     "output_type": "stream",
     "text": [
      "Processing 2023_05_22_Pyl-OB_024.czi: 100%|████████████████████████████████████| 34104/34104 [7:05:29<00:00,  1.34it/s]\n"
     ]
    },
    {
     "name": "stdout",
     "output_type": "stream",
     "text": [
      "2023_05_22_Pyl-OB_025\n",
      "../../230518_ML_pyl_OB/2023_05_22_Pyl-OB_025.czi\n",
      "SCZMYXA\n",
      "(1, 1, 49, 1419, 1200, 1600, 3)\n",
      "Total integrations: X 29, Y 24, Z 49\n"
     ]
    },
    {
     "name": "stderr",
     "output_type": "stream",
     "text": [
      "Processing 2023_05_22_Pyl-OB_025.czi: 100%|████████████████████████████████████| 34104/34104 [7:17:52<00:00,  1.30it/s]\n"
     ]
    },
    {
     "name": "stdout",
     "output_type": "stream",
     "text": [
      "2023_05_22_Pyl-OB_026\n",
      "../../230518_ML_pyl_OB/2023_05_22_Pyl-OB_026.czi\n",
      "SCZMYXA\n",
      "(1, 1, 49, 1376, 1200, 1600, 3)\n",
      "Total integrations: X 29, Y 24, Z 49\n"
     ]
    },
    {
     "name": "stderr",
     "output_type": "stream",
     "text": [
      "Processing 2023_05_22_Pyl-OB_026.czi: 100%|████████████████████████████████████| 34104/34104 [7:10:00<00:00,  1.32it/s]\n"
     ]
    },
    {
     "name": "stdout",
     "output_type": "stream",
     "text": [
      "2023_05_22_Pyl-OB_027\n",
      "../../230518_ML_pyl_OB/2023_05_22_Pyl-OB_027.czi\n",
      "SCZMYXA\n",
      "(1, 1, 49, 1419, 1200, 1600, 3)\n",
      "Total integrations: X 29, Y 24, Z 49\n"
     ]
    },
    {
     "name": "stderr",
     "output_type": "stream",
     "text": [
      "Processing 2023_05_22_Pyl-OB_027.czi: 100%|████████████████████████████████████| 34104/34104 [7:15:21<00:00,  1.31it/s]\n"
     ]
    },
    {
     "name": "stdout",
     "output_type": "stream",
     "text": [
      "2023_05_22_Pyl-OB_028\n",
      "../../230518_ML_pyl_OB/2023_05_22_Pyl-OB_028.czi\n",
      "SCZMYXA\n",
      "(1, 1, 49, 1376, 1200, 1600, 3)\n",
      "Total integrations: X 29, Y 24, Z 49\n"
     ]
    },
    {
     "name": "stderr",
     "output_type": "stream",
     "text": [
      "Processing 2023_05_22_Pyl-OB_028.czi: 100%|████████████████████████████████████| 34104/34104 [7:04:14<00:00,  1.34it/s]\n"
     ]
    },
    {
     "name": "stdout",
     "output_type": "stream",
     "text": [
      "2023_05_22_Pyl-OB_029\n",
      "../../230518_ML_pyl_OB/2023_05_22_Pyl-OB_029.czi\n",
      "SCZMYXA\n",
      "(1, 1, 49, 1376, 1200, 1600, 3)\n",
      "Total integrations: X 29, Y 24, Z 49\n"
     ]
    },
    {
     "name": "stderr",
     "output_type": "stream",
     "text": [
      "Processing 2023_05_22_Pyl-OB_029.czi: 100%|████████████████████████████████████| 34104/34104 [7:05:48<00:00,  1.33it/s]\n"
     ]
    },
    {
     "name": "stdout",
     "output_type": "stream",
     "text": [
      "2023_05_22_Pyl-OB_030\n",
      "../../230518_ML_pyl_OB/2023_05_22_Pyl-OB_030.czi\n",
      "SCZMYXA\n",
      "(1, 1, 49, 1419, 1200, 1600, 3)\n",
      "Total integrations: X 29, Y 24, Z 49\n"
     ]
    },
    {
     "name": "stderr",
     "output_type": "stream",
     "text": [
      "Processing 2023_05_22_Pyl-OB_030.czi: 100%|████████████████████████████████████| 34104/34104 [7:16:01<00:00,  1.30it/s]\n"
     ]
    },
    {
     "name": "stdout",
     "output_type": "stream",
     "text": [
      "2023_05_22_Pyl-OB_031\n",
      "../../230518_ML_pyl_OB/2023_05_22_Pyl-OB_031.czi\n",
      "SCZMYXA\n",
      "(1, 1, 49, 1419, 1200, 1600, 3)\n",
      "Total integrations: X 29, Y 24, Z 49\n"
     ]
    },
    {
     "name": "stderr",
     "output_type": "stream",
     "text": [
      "Processing 2023_05_22_Pyl-OB_031.czi: 100%|████████████████████████████████████| 34104/34104 [7:14:03<00:00,  1.31it/s]\n"
     ]
    },
    {
     "name": "stdout",
     "output_type": "stream",
     "text": [
      "2023_05_22_Pyl-OB_032\n",
      "../../230518_ML_pyl_OB/2023_05_22_Pyl-OB_032.czi\n",
      "SCZMYXA\n",
      "(1, 1, 49, 1419, 1200, 1600, 3)\n",
      "Total integrations: X 29, Y 24, Z 49\n"
     ]
    },
    {
     "name": "stderr",
     "output_type": "stream",
     "text": [
      "Processing 2023_05_22_Pyl-OB_032.czi: 100%|████████████████████████████████████| 34104/34104 [7:16:24<00:00,  1.30it/s]\n"
     ]
    },
    {
     "name": "stdout",
     "output_type": "stream",
     "text": [
      "2023_05_22_Pyl-OB_033\n",
      "../../230518_ML_pyl_OB/2023_05_22_Pyl-OB_033.czi\n",
      "SCZMYXA\n",
      "(1, 1, 49, 1376, 1200, 1600, 3)\n",
      "Total integrations: X 29, Y 24, Z 49\n"
     ]
    },
    {
     "name": "stderr",
     "output_type": "stream",
     "text": [
      "Processing 2023_05_22_Pyl-OB_033.czi: 100%|████████████████████████████████████| 34104/34104 [7:12:33<00:00,  1.31it/s]\n"
     ]
    },
    {
     "name": "stdout",
     "output_type": "stream",
     "text": [
      "2023_05_22_Pyl-OB_034\n",
      "../../230518_ML_pyl_OB/2023_05_22_Pyl-OB_034.czi\n",
      "SCZMYXA\n",
      "(1, 1, 49, 1376, 1200, 1600, 3)\n",
      "Total integrations: X 29, Y 24, Z 49\n"
     ]
    },
    {
     "name": "stderr",
     "output_type": "stream",
     "text": [
      "Processing 2023_05_22_Pyl-OB_034.czi: 100%|████████████████████████████████████| 34104/34104 [7:07:48<00:00,  1.33it/s]\n"
     ]
    },
    {
     "name": "stdout",
     "output_type": "stream",
     "text": [
      "2023_05_22_Pyl-OB_035\n",
      "../../230518_ML_pyl_OB/2023_05_22_Pyl-OB_035.czi\n",
      "SCZMYXA\n",
      "(1, 1, 49, 1419, 1200, 1600, 3)\n",
      "Total integrations: X 29, Y 24, Z 49\n"
     ]
    },
    {
     "name": "stderr",
     "output_type": "stream",
     "text": [
      "Processing 2023_05_22_Pyl-OB_035.czi: 100%|████████████████████████████████████| 34104/34104 [7:18:33<00:00,  1.30it/s]\n"
     ]
    },
    {
     "name": "stdout",
     "output_type": "stream",
     "text": [
      "2023_05_22_Pyl-OB_036\n",
      "../../230518_ML_pyl_OB/2023_05_22_Pyl-OB_036.czi\n",
      "SCZMYXA\n",
      "(1, 1, 49, 1376, 1200, 1600, 3)\n",
      "Total integrations: X 29, Y 24, Z 49\n"
     ]
    },
    {
     "name": "stderr",
     "output_type": "stream",
     "text": [
      "Processing 2023_05_22_Pyl-OB_036.czi: 100%|████████████████████████████████████| 34104/34104 [7:08:39<00:00,  1.33it/s]\n"
     ]
    },
    {
     "name": "stdout",
     "output_type": "stream",
     "text": [
      "2023_05_22_Pyl-OB_037\n",
      "../../230518_ML_pyl_OB/2023_05_22_Pyl-OB_037.czi\n",
      "SCZMYXA\n",
      "(1, 1, 49, 1419, 1200, 1600, 3)\n",
      "Total integrations: X 29, Y 24, Z 49\n"
     ]
    },
    {
     "name": "stderr",
     "output_type": "stream",
     "text": [
      "Processing 2023_05_22_Pyl-OB_037.czi: 100%|████████████████████████████████████| 34104/34104 [7:13:11<00:00,  1.31it/s]\n"
     ]
    },
    {
     "name": "stdout",
     "output_type": "stream",
     "text": [
      "2023_05_22_Pyl-OB_038\n",
      "../../230518_ML_pyl_OB/2023_05_22_Pyl-OB_038.czi\n",
      "SCZMYXA\n",
      "(1, 1, 49, 1419, 1200, 1600, 3)\n",
      "Total integrations: X 29, Y 24, Z 49\n"
     ]
    },
    {
     "name": "stderr",
     "output_type": "stream",
     "text": [
      "Processing 2023_05_22_Pyl-OB_038.czi: 100%|████████████████████████████████████| 34104/34104 [7:14:41<00:00,  1.31it/s]\n"
     ]
    },
    {
     "name": "stdout",
     "output_type": "stream",
     "text": [
      "2023_05_22_Pyl-OB_039\n",
      "../../230518_ML_pyl_OB/2023_05_22_Pyl-OB_039.czi\n",
      "SCZMYXA\n",
      "(1, 1, 49, 1376, 1200, 1600, 3)\n",
      "Total integrations: X 29, Y 24, Z 49\n"
     ]
    },
    {
     "name": "stderr",
     "output_type": "stream",
     "text": [
      "Processing 2023_05_22_Pyl-OB_039.czi: 100%|████████████████████████████████████| 34104/34104 [7:24:12<00:00,  1.28it/s]\n"
     ]
    },
    {
     "name": "stdout",
     "output_type": "stream",
     "text": [
      "2023_05_22_Pyl-OB_040\n",
      "../../230518_ML_pyl_OB/2023_05_22_Pyl-OB_040.czi\n",
      "SCZMYXA\n",
      "(1, 1, 49, 1344, 1200, 1600, 3)\n",
      "Total integrations: X 28, Y 24, Z 49\n"
     ]
    },
    {
     "name": "stderr",
     "output_type": "stream",
     "text": [
      "Processing 2023_05_22_Pyl-OB_040.czi: 100%|████████████████████████████████████| 32928/32928 [6:56:59<00:00,  1.32it/s]\n"
     ]
    },
    {
     "name": "stdout",
     "output_type": "stream",
     "text": [
      "2023_05_22_Pyl-OB_041\n",
      "../../230518_ML_pyl_OB/2023_05_22_Pyl-OB_041.czi\n",
      "SCZMYXA\n",
      "(1, 1, 49, 1419, 1200, 1600, 3)\n",
      "Total integrations: X 29, Y 24, Z 49\n"
     ]
    },
    {
     "name": "stderr",
     "output_type": "stream",
     "text": [
      "Processing 2023_05_22_Pyl-OB_041.czi: 100%|████████████████████████████████████| 34104/34104 [7:28:44<00:00,  1.27it/s]\n"
     ]
    },
    {
     "name": "stdout",
     "output_type": "stream",
     "text": [
      "2023_05_22_Pyl-OB_042\n",
      "../../230518_ML_pyl_OB/2023_05_22_Pyl-OB_042.czi\n",
      "SCZMYXA\n",
      "(1, 1, 49, 1419, 1200, 1600, 3)\n",
      "Total integrations: X 29, Y 24, Z 49\n"
     ]
    },
    {
     "name": "stderr",
     "output_type": "stream",
     "text": [
      "Processing 2023_05_22_Pyl-OB_042.czi: 100%|████████████████████████████████████| 34104/34104 [7:27:37<00:00,  1.27it/s]\n"
     ]
    },
    {
     "name": "stdout",
     "output_type": "stream",
     "text": [
      "2023_05_22_Pyl-OB_043\n",
      "../../230518_ML_pyl_OB/2023_05_22_Pyl-OB_043.czi\n",
      "SCZMYXA\n",
      "(1, 1, 49, 1376, 1200, 1600, 3)\n",
      "Total integrations: X 29, Y 24, Z 49\n"
     ]
    },
    {
     "name": "stderr",
     "output_type": "stream",
     "text": [
      "Processing 2023_05_22_Pyl-OB_043.czi: 100%|████████████████████████████████████| 34104/34104 [7:18:54<00:00,  1.30it/s]\n"
     ]
    },
    {
     "name": "stdout",
     "output_type": "stream",
     "text": [
      "2023_05_22_Pyl-OB_044\n",
      "../../230518_ML_pyl_OB/2023_05_22_Pyl-OB_044.czi\n",
      "SCZMYXA\n",
      "(1, 1, 49, 1419, 1200, 1600, 3)\n",
      "Total integrations: X 29, Y 24, Z 49\n"
     ]
    },
    {
     "name": "stderr",
     "output_type": "stream",
     "text": [
      "Processing 2023_05_22_Pyl-OB_044.czi: 100%|████████████████████████████████████| 34104/34104 [7:24:01<00:00,  1.28it/s]\n"
     ]
    },
    {
     "name": "stdout",
     "output_type": "stream",
     "text": [
      "2023_05_22_Pyl-OB_045\n",
      "../../230518_ML_pyl_OB/2023_05_22_Pyl-OB_045.czi\n",
      "SCZMYXA\n",
      "(1, 1, 49, 1419, 1200, 1600, 3)\n",
      "Total integrations: X 29, Y 24, Z 49\n"
     ]
    },
    {
     "name": "stderr",
     "output_type": "stream",
     "text": [
      "Processing 2023_05_22_Pyl-OB_045.czi: 100%|████████████████████████████████████| 34104/34104 [7:21:51<00:00,  1.29it/s]\n"
     ]
    },
    {
     "name": "stdout",
     "output_type": "stream",
     "text": [
      "2023_05_22_Pyl-OB_046\n",
      "../../230518_ML_pyl_OB/2023_05_22_Pyl-OB_046.czi\n",
      "SCZMYXA\n",
      "(1, 1, 49, 1376, 1200, 1600, 3)\n",
      "Total integrations: X 29, Y 24, Z 49\n"
     ]
    },
    {
     "name": "stderr",
     "output_type": "stream",
     "text": [
      "Processing 2023_05_22_Pyl-OB_046.czi: 100%|████████████████████████████████████| 34104/34104 [7:04:30<00:00,  1.34it/s]\n"
     ]
    },
    {
     "name": "stdout",
     "output_type": "stream",
     "text": [
      "2023_05_22_Pyl-OB_047\n",
      "../../230518_ML_pyl_OB/2023_05_22_Pyl-OB_047.czi\n",
      "SCZMYXA\n",
      "(1, 1, 49, 1376, 1200, 1600, 3)\n",
      "Total integrations: X 29, Y 24, Z 49\n"
     ]
    },
    {
     "name": "stderr",
     "output_type": "stream",
     "text": [
      "Processing 2023_05_22_Pyl-OB_047.czi: 100%|████████████████████████████████████| 34104/34104 [7:14:42<00:00,  1.31it/s]\n"
     ]
    },
    {
     "name": "stdout",
     "output_type": "stream",
     "text": [
      "2023_05_22_Pyl-OB_048\n",
      "../../230518_ML_pyl_OB/2023_05_22_Pyl-OB_048.czi\n",
      "SCZMYXA\n",
      "(1, 1, 49, 1376, 1200, 1600, 3)\n",
      "Total integrations: X 29, Y 24, Z 49\n"
     ]
    },
    {
     "name": "stderr",
     "output_type": "stream",
     "text": [
      "Processing 2023_05_22_Pyl-OB_048.czi: 100%|████████████████████████████████████| 34104/34104 [7:10:23<00:00,  1.32it/s]\n"
     ]
    },
    {
     "name": "stdout",
     "output_type": "stream",
     "text": [
      "2023_05_22_Pyl-OB_049\n",
      "../../230518_ML_pyl_OB/2023_05_22_Pyl-OB_049.czi\n",
      "SCZMYXA\n",
      "(1, 1, 49, 1376, 1200, 1600, 3)\n",
      "Total integrations: X 29, Y 24, Z 49\n"
     ]
    },
    {
     "name": "stderr",
     "output_type": "stream",
     "text": [
      "Processing 2023_05_22_Pyl-OB_049.czi: 100%|████████████████████████████████████| 34104/34104 [7:20:02<00:00,  1.29it/s]\n"
     ]
    },
    {
     "name": "stdout",
     "output_type": "stream",
     "text": [
      "2023_05_22_Pyl-OB_050\n",
      "../../230518_ML_pyl_OB/2023_05_22_Pyl-OB_050.czi\n",
      "SCZMYXA\n",
      "(1, 1, 49, 1419, 1200, 1600, 3)\n",
      "Total integrations: X 29, Y 24, Z 49\n"
     ]
    },
    {
     "name": "stderr",
     "output_type": "stream",
     "text": [
      "Processing 2023_05_22_Pyl-OB_050.czi: 100%|████████████████████████████████████| 34104/34104 [7:38:48<00:00,  1.24it/s]\n"
     ]
    },
    {
     "name": "stdout",
     "output_type": "stream",
     "text": [
      "CPU times: total: 27d 12h 12min 34s\n",
      "Wall time: 15d 12h 40min 41s\n"
     ]
    }
   ],
   "source": [
    "%%time\n",
    "\n",
    "\n",
    "\n",
    "files = os.listdir(\"../../230518_ML_pyl_OB/\")\n",
    "for file in files:\n",
    "    if file not in skip:\n",
    "        # Get the file extension\n",
    "        file_extension = os.path.splitext(file)[1]\n",
    "        file_w = os.path.splitext(file)[0]\n",
    "\n",
    "        # Check if the file extension is \".czi\"\n",
    "        if file_extension.lower() == \".czi\":\n",
    "            print(file_w)\n",
    "            fpath = f'../../230518_ML_pyl_OB/{file}'\n",
    "            #if os.path.isfile(fpath)\n",
    "            print(fpath)\n",
    "            subpart_size = [1600, 1920]\n",
    "            process_czi_file(fpath, file_w,subpart_size)"
   ]
  },
  {
   "cell_type": "code",
   "execution_count": null,
   "metadata": {},
   "outputs": [],
   "source": [
    "xx"
   ]
  },
  {
   "cell_type": "code",
   "execution_count": 10,
   "metadata": {},
   "outputs": [
    {
     "name": "stdout",
     "output_type": "stream",
     "text": [
      "SCZMYXA\n",
      "(1, 1, 49, 42, 666, 872, 3)\n",
      "Total integrations: X 3, Y 4, Z 49\n"
     ]
    },
    {
     "name": "stderr",
     "output_type": "stream",
     "text": [
      "\n",
      "Processing 2023_05_22_Pyl-OB_010_small.czi:   0%|                                              | 0/588 [00:00<?, ?it/s]\u001b[A\n",
      "Processing 2023_05_22_Pyl-OB_010_small.czi:   0%|                                      | 1/588 [00:02<21:55,  2.24s/it]\u001b[A\n",
      "Processing 2023_05_22_Pyl-OB_010_small.czi:   0%|▏                                     | 2/588 [00:02<11:04,  1.13s/it]\u001b[A\n",
      "Processing 2023_05_22_Pyl-OB_010_small.czi:   1%|▏                                     | 3/588 [00:02<07:35,  1.29it/s]\u001b[A\n",
      "Processing 2023_05_22_Pyl-OB_010_small.czi:   1%|▎                                     | 4/588 [00:03<05:59,  1.63it/s]\u001b[A\n",
      "Processing 2023_05_22_Pyl-OB_010_small.czi:   1%|▎                                     | 5/588 [00:03<05:03,  1.92it/s]\u001b[A\n",
      "Processing 2023_05_22_Pyl-OB_010_small.czi:   1%|▍                                     | 6/588 [00:04<04:28,  2.17it/s]\u001b[A\n",
      "Processing 2023_05_22_Pyl-OB_010_small.czi:   1%|▍                                     | 7/588 [00:04<04:04,  2.38it/s]\u001b[A\n",
      "Processing 2023_05_22_Pyl-OB_010_small.czi:   1%|▌                                     | 8/588 [00:04<03:56,  2.45it/s]\u001b[A\n",
      "Processing 2023_05_22_Pyl-OB_010_small.czi:   2%|▌                                     | 9/588 [00:05<03:44,  2.57it/s]\u001b[A\n",
      "Processing 2023_05_22_Pyl-OB_010_small.czi:   2%|▋                                    | 10/588 [00:05<03:36,  2.67it/s]\u001b[A\n",
      "Processing 2023_05_22_Pyl-OB_010_small.czi:   2%|▋                                    | 11/588 [00:05<03:31,  2.73it/s]\u001b[A\n",
      "Processing 2023_05_22_Pyl-OB_010_small.czi:   2%|▊                                    | 12/588 [00:06<03:26,  2.79it/s]\u001b[A\n",
      "Processing 2023_05_22_Pyl-OB_010_small.czi:   2%|▊                                    | 13/588 [00:08<10:00,  1.04s/it]\u001b[A\n",
      "Processing 2023_05_22_Pyl-OB_010_small.czi:   2%|▉                                    | 14/588 [00:09<07:57,  1.20it/s]\u001b[A\n",
      "Processing 2023_05_22_Pyl-OB_010_small.czi:   3%|▉                                    | 15/588 [00:09<06:26,  1.48it/s]\u001b[A\n",
      "Processing 2023_05_22_Pyl-OB_010_small.czi:   3%|█                                    | 16/588 [00:09<05:28,  1.74it/s]\u001b[A\n",
      "Processing 2023_05_22_Pyl-OB_010_small.czi:   3%|█                                    | 17/588 [00:10<04:47,  1.98it/s]\u001b[A\n",
      "Processing 2023_05_22_Pyl-OB_010_small.czi:   3%|█▏                                   | 18/588 [00:10<04:15,  2.23it/s]\u001b[A\n",
      "Processing 2023_05_22_Pyl-OB_010_small.czi:   3%|█▏                                   | 19/588 [00:10<03:50,  2.47it/s]\u001b[A\n",
      "Processing 2023_05_22_Pyl-OB_010_small.czi:   3%|█▎                                   | 20/588 [00:11<03:39,  2.58it/s]\u001b[A\n",
      "Processing 2023_05_22_Pyl-OB_010_small.czi:   4%|█▎                                   | 21/588 [00:11<03:28,  2.72it/s]\u001b[A\n",
      "Processing 2023_05_22_Pyl-OB_010_small.czi:   4%|█▍                                   | 22/588 [00:11<03:17,  2.87it/s]\u001b[A\n",
      "Processing 2023_05_22_Pyl-OB_010_small.czi:   4%|█▍                                   | 23/588 [00:11<03:09,  2.98it/s]\u001b[A\n",
      "Processing 2023_05_22_Pyl-OB_010_small.czi:   4%|█▌                                   | 24/588 [00:12<03:04,  3.06it/s]\u001b[A\n",
      "Processing 2023_05_22_Pyl-OB_010_small.czi:   4%|█▌                                   | 25/588 [00:14<09:16,  1.01it/s]\u001b[A\n",
      "Processing 2023_05_22_Pyl-OB_010_small.czi:   4%|█▋                                   | 26/588 [00:15<07:21,  1.27it/s]\u001b[A\n",
      "Processing 2023_05_22_Pyl-OB_010_small.czi:   5%|█▋                                   | 27/588 [00:15<06:03,  1.54it/s]\u001b[A\n",
      "Processing 2023_05_22_Pyl-OB_010_small.czi:   5%|█▊                                   | 28/588 [00:15<05:05,  1.84it/s]\u001b[A\n",
      "Processing 2023_05_22_Pyl-OB_010_small.czi:   5%|█▊                                   | 29/588 [00:16<04:29,  2.07it/s]\u001b[A\n",
      "Processing 2023_05_22_Pyl-OB_010_small.czi:   5%|█▉                                   | 30/588 [00:16<04:04,  2.28it/s]\u001b[A\n",
      "Processing 2023_05_22_Pyl-OB_010_small.czi:   5%|█▉                                   | 31/588 [00:16<03:51,  2.40it/s]\u001b[A\n",
      "Processing 2023_05_22_Pyl-OB_010_small.czi:   5%|██                                   | 32/588 [00:17<04:00,  2.31it/s]\u001b[A\n",
      "Processing 2023_05_22_Pyl-OB_010_small.czi:   6%|██                                   | 33/588 [00:17<03:46,  2.45it/s]\u001b[A\n",
      "Processing 2023_05_22_Pyl-OB_010_small.czi:   6%|██▏                                  | 34/588 [00:17<03:42,  2.49it/s]\u001b[A\n",
      "Processing 2023_05_22_Pyl-OB_010_small.czi:   6%|██▏                                  | 35/588 [00:18<03:35,  2.57it/s]\u001b[A\n",
      "Processing 2023_05_22_Pyl-OB_010_small.czi:   6%|██▎                                  | 36/588 [00:18<03:31,  2.62it/s]\u001b[A\n",
      "Processing 2023_05_22_Pyl-OB_010_small.czi:   6%|██▎                                  | 37/588 [00:21<10:03,  1.10s/it]\u001b[A\n",
      "Processing 2023_05_22_Pyl-OB_010_small.czi:   6%|██▍                                  | 38/588 [00:21<07:51,  1.17it/s]\u001b[A\n",
      "Processing 2023_05_22_Pyl-OB_010_small.czi:   7%|██▍                                  | 39/588 [00:22<06:20,  1.44it/s]\u001b[A\n",
      "Processing 2023_05_22_Pyl-OB_010_small.czi:   7%|██▌                                  | 40/588 [00:22<05:50,  1.56it/s]\u001b[A\n",
      "Processing 2023_05_22_Pyl-OB_010_small.czi:   7%|██▌                                  | 41/588 [00:22<04:57,  1.84it/s]\u001b[A\n",
      "Processing 2023_05_22_Pyl-OB_010_small.czi:   7%|██▋                                  | 42/588 [00:23<04:22,  2.08it/s]\u001b[A\n",
      "Processing 2023_05_22_Pyl-OB_010_small.czi:   7%|██▋                                  | 43/588 [00:23<04:01,  2.25it/s]\u001b[A\n",
      "Processing 2023_05_22_Pyl-OB_010_small.czi:   7%|██▊                                  | 44/588 [00:23<03:45,  2.41it/s]\u001b[A\n",
      "Processing 2023_05_22_Pyl-OB_010_small.czi:   8%|██▊                                  | 45/588 [00:24<03:30,  2.58it/s]\u001b[A\n",
      "Processing 2023_05_22_Pyl-OB_010_small.czi:   8%|██▉                                  | 46/588 [00:24<03:19,  2.71it/s]\u001b[A\n",
      "Processing 2023_05_22_Pyl-OB_010_small.czi:   8%|██▉                                  | 47/588 [00:24<03:17,  2.74it/s]\u001b[A\n",
      "Processing 2023_05_22_Pyl-OB_010_small.czi:   8%|███                                  | 48/588 [00:25<03:12,  2.80it/s]\u001b[A\n",
      "Processing 2023_05_22_Pyl-OB_010_small.czi:   8%|███                                  | 49/588 [00:28<09:45,  1.09s/it]\u001b[A\n",
      "Processing 2023_05_22_Pyl-OB_010_small.czi:   9%|███▏                                 | 50/588 [00:28<07:40,  1.17it/s]\u001b[A\n",
      "Processing 2023_05_22_Pyl-OB_010_small.czi:   9%|███▏                                 | 51/588 [00:28<06:15,  1.43it/s]\u001b[A\n",
      "Processing 2023_05_22_Pyl-OB_010_small.czi:   9%|███▎                                 | 52/588 [00:29<05:16,  1.69it/s]\u001b[A\n",
      "Processing 2023_05_22_Pyl-OB_010_small.czi:   9%|███▎                                 | 53/588 [00:29<04:33,  1.95it/s]\u001b[A\n",
      "Processing 2023_05_22_Pyl-OB_010_small.czi:   9%|███▍                                 | 54/588 [00:29<04:00,  2.22it/s]\u001b[A\n",
      "Processing 2023_05_22_Pyl-OB_010_small.czi:   9%|███▍                                 | 55/588 [00:30<03:37,  2.45it/s]\u001b[A\n",
      "Processing 2023_05_22_Pyl-OB_010_small.czi:  10%|███▌                                 | 56/588 [00:30<03:23,  2.62it/s]\u001b[A\n",
      "Processing 2023_05_22_Pyl-OB_010_small.czi:  10%|███▌                                 | 57/588 [00:30<03:12,  2.77it/s]\u001b[A\n",
      "Processing 2023_05_22_Pyl-OB_010_small.czi:  10%|███▋                                 | 58/588 [00:31<03:14,  2.72it/s]\u001b[A\n",
      "Processing 2023_05_22_Pyl-OB_010_small.czi:  10%|███▋                                 | 59/588 [00:31<03:08,  2.80it/s]\u001b[A\n",
      "Processing 2023_05_22_Pyl-OB_010_small.czi:  10%|███▊                                 | 60/588 [00:31<03:09,  2.79it/s]\u001b[A\n",
      "Processing 2023_05_22_Pyl-OB_010_small.czi:  10%|███▊                                 | 61/588 [00:34<08:58,  1.02s/it]\u001b[A\n",
      "Processing 2023_05_22_Pyl-OB_010_small.czi:  11%|███▉                                 | 62/588 [00:34<07:04,  1.24it/s]\u001b[A\n",
      "Processing 2023_05_22_Pyl-OB_010_small.czi:  11%|███▉                                 | 63/588 [00:34<05:46,  1.51it/s]\u001b[A\n",
      "Processing 2023_05_22_Pyl-OB_010_small.czi:  11%|████                                 | 64/588 [00:35<04:50,  1.81it/s]\u001b[A\n",
      "Processing 2023_05_22_Pyl-OB_010_small.czi:  11%|████                                 | 65/588 [00:35<04:12,  2.07it/s]\u001b[A\n",
      "Processing 2023_05_22_Pyl-OB_010_small.czi:  11%|████▏                                | 66/588 [00:35<03:44,  2.32it/s]\u001b[A\n",
      "Processing 2023_05_22_Pyl-OB_010_small.czi:  11%|████▏                                | 67/588 [00:36<03:25,  2.53it/s]\u001b[A\n",
      "Processing 2023_05_22_Pyl-OB_010_small.czi:  12%|████▎                                | 68/588 [00:36<03:17,  2.64it/s]\u001b[A\n",
      "Processing 2023_05_22_Pyl-OB_010_small.czi:  12%|████▎                                | 69/588 [00:36<03:11,  2.71it/s]\u001b[A\n",
      "Processing 2023_05_22_Pyl-OB_010_small.czi:  12%|████▍                                | 70/588 [00:37<03:08,  2.75it/s]\u001b[A\n",
      "Processing 2023_05_22_Pyl-OB_010_small.czi:  12%|████▍                                | 71/588 [00:37<03:06,  2.77it/s]\u001b[A\n",
      "Processing 2023_05_22_Pyl-OB_010_small.czi:  12%|████▌                                | 72/588 [00:37<03:03,  2.81it/s]\u001b[A\n",
      "Processing 2023_05_22_Pyl-OB_010_small.czi:  12%|████▌                                | 73/588 [00:40<09:21,  1.09s/it]\u001b[A\n",
      "Processing 2023_05_22_Pyl-OB_010_small.czi:  13%|████▋                                | 74/588 [00:41<07:24,  1.16it/s]\u001b[A\n",
      "Processing 2023_05_22_Pyl-OB_010_small.czi:  13%|████▋                                | 75/588 [00:41<06:00,  1.42it/s]\u001b[A\n",
      "Processing 2023_05_22_Pyl-OB_010_small.czi:  13%|████▊                                | 76/588 [00:41<05:04,  1.68it/s]\u001b[A\n",
      "Processing 2023_05_22_Pyl-OB_010_small.czi:  13%|████▊                                | 77/588 [00:42<04:26,  1.92it/s]\u001b[A\n",
      "Processing 2023_05_22_Pyl-OB_010_small.czi:  13%|████▉                                | 78/588 [00:42<03:59,  2.13it/s]\u001b[A\n",
      "Processing 2023_05_22_Pyl-OB_010_small.czi:  13%|████▉                                | 79/588 [00:42<03:39,  2.32it/s]\u001b[A\n",
      "Processing 2023_05_22_Pyl-OB_010_small.czi:  14%|█████                                | 80/588 [00:43<03:27,  2.45it/s]\u001b[A\n",
      "Processing 2023_05_22_Pyl-OB_010_small.czi:  14%|█████                                | 81/588 [00:43<03:17,  2.57it/s]\u001b[A\n",
      "Processing 2023_05_22_Pyl-OB_010_small.czi:  14%|█████▏                               | 82/588 [00:43<03:09,  2.67it/s]\u001b[A\n",
      "Processing 2023_05_22_Pyl-OB_010_small.czi:  14%|█████▏                               | 83/588 [00:44<03:04,  2.74it/s]\u001b[A\n",
      "Processing 2023_05_22_Pyl-OB_010_small.czi:  14%|█████▎                               | 84/588 [00:44<03:02,  2.76it/s]\u001b[A\n",
      "Processing 2023_05_22_Pyl-OB_010_small.czi:  14%|█████▎                               | 85/588 [00:47<08:59,  1.07s/it]\u001b[A\n",
      "Processing 2023_05_22_Pyl-OB_010_small.czi:  15%|█████▍                               | 86/588 [00:47<07:01,  1.19it/s]\u001b[A\n",
      "Processing 2023_05_22_Pyl-OB_010_small.czi:  15%|█████▍                               | 87/588 [00:47<05:45,  1.45it/s]\u001b[A\n",
      "Processing 2023_05_22_Pyl-OB_010_small.czi:  15%|█████▌                               | 88/588 [00:48<04:47,  1.74it/s]\u001b[A\n",
      "Processing 2023_05_22_Pyl-OB_010_small.czi:  15%|█████▌                               | 89/588 [00:48<04:13,  1.97it/s]\u001b[A\n",
      "Processing 2023_05_22_Pyl-OB_010_small.czi:  15%|█████▋                               | 90/588 [00:48<03:49,  2.17it/s]\u001b[A\n",
      "Processing 2023_05_22_Pyl-OB_010_small.czi:  15%|█████▋                               | 91/588 [00:49<03:31,  2.35it/s]\u001b[A\n",
      "Processing 2023_05_22_Pyl-OB_010_small.czi:  16%|█████▊                               | 92/588 [00:49<03:18,  2.50it/s]\u001b[A\n",
      "Processing 2023_05_22_Pyl-OB_010_small.czi:  16%|█████▊                               | 93/588 [00:49<03:08,  2.62it/s]\u001b[A\n",
      "Processing 2023_05_22_Pyl-OB_010_small.czi:  16%|█████▉                               | 94/588 [00:50<03:00,  2.73it/s]\u001b[A\n",
      "Processing 2023_05_22_Pyl-OB_010_small.czi:  16%|█████▉                               | 95/588 [00:50<02:57,  2.78it/s]\u001b[A\n",
      "Processing 2023_05_22_Pyl-OB_010_small.czi:  16%|██████                               | 96/588 [00:50<02:53,  2.83it/s]\u001b[A\n",
      "Processing 2023_05_22_Pyl-OB_010_small.czi:  16%|██████                               | 97/588 [00:53<09:11,  1.12s/it]\u001b[A\n",
      "Processing 2023_05_22_Pyl-OB_010_small.czi:  17%|██████▏                              | 98/588 [00:54<07:11,  1.14it/s]\u001b[A\n",
      "Processing 2023_05_22_Pyl-OB_010_small.czi:  17%|██████▏                              | 99/588 [00:54<05:48,  1.40it/s]\u001b[A\n",
      "Processing 2023_05_22_Pyl-OB_010_small.czi:  17%|██████                              | 100/588 [00:54<04:56,  1.64it/s]\u001b[A\n",
      "Processing 2023_05_22_Pyl-OB_010_small.czi:  17%|██████▏                             | 101/588 [00:55<04:15,  1.91it/s]\u001b[A\n",
      "Processing 2023_05_22_Pyl-OB_010_small.czi:  17%|██████▏                             | 102/588 [00:55<03:45,  2.15it/s]\u001b[A\n",
      "Processing 2023_05_22_Pyl-OB_010_small.czi:  18%|██████▎                             | 103/588 [00:55<03:23,  2.38it/s]\u001b[A\n",
      "Processing 2023_05_22_Pyl-OB_010_small.czi:  18%|██████▎                             | 104/588 [00:56<03:07,  2.59it/s]\u001b[A\n",
      "Processing 2023_05_22_Pyl-OB_010_small.czi:  18%|██████▍                             | 105/588 [00:56<03:04,  2.62it/s]\u001b[A\n",
      "Processing 2023_05_22_Pyl-OB_010_small.czi:  18%|██████▍                             | 106/588 [00:56<02:58,  2.71it/s]\u001b[A\n",
      "Processing 2023_05_22_Pyl-OB_010_small.czi:  18%|██████▌                             | 107/588 [00:57<02:53,  2.77it/s]\u001b[A\n",
      "Processing 2023_05_22_Pyl-OB_010_small.czi:  18%|██████▌                             | 108/588 [00:57<02:48,  2.84it/s]\u001b[A\n",
      "Processing 2023_05_22_Pyl-OB_010_small.czi:  19%|██████▋                             | 109/588 [00:59<07:49,  1.02it/s]\u001b[A\n",
      "Processing 2023_05_22_Pyl-OB_010_small.czi:  19%|██████▋                             | 110/588 [01:00<06:15,  1.27it/s]\u001b[A\n",
      "Processing 2023_05_22_Pyl-OB_010_small.czi:  19%|██████▊                             | 111/588 [01:00<05:09,  1.54it/s]\u001b[A\n",
      "Processing 2023_05_22_Pyl-OB_010_small.czi:  19%|██████▊                             | 112/588 [01:00<04:24,  1.80it/s]\u001b[A\n",
      "Processing 2023_05_22_Pyl-OB_010_small.czi:  19%|██████▉                             | 113/588 [01:01<03:50,  2.06it/s]\u001b[A\n",
      "Processing 2023_05_22_Pyl-OB_010_small.czi:  19%|██████▉                             | 114/588 [01:01<03:27,  2.29it/s]\u001b[A\n",
      "Processing 2023_05_22_Pyl-OB_010_small.czi:  20%|███████                             | 115/588 [01:01<03:14,  2.43it/s]\u001b[A\n",
      "Processing 2023_05_22_Pyl-OB_010_small.czi:  20%|███████                             | 116/588 [01:02<03:01,  2.61it/s]\u001b[A\n",
      "Processing 2023_05_22_Pyl-OB_010_small.czi:  20%|███████▏                            | 117/588 [01:02<02:53,  2.72it/s]\u001b[A\n",
      "Processing 2023_05_22_Pyl-OB_010_small.czi:  20%|███████▏                            | 118/588 [01:02<02:45,  2.85it/s]\u001b[A\n",
      "Processing 2023_05_22_Pyl-OB_010_small.czi:  20%|███████▎                            | 119/588 [01:03<02:45,  2.83it/s]\u001b[A\n",
      "Processing 2023_05_22_Pyl-OB_010_small.czi:  20%|███████▎                            | 120/588 [01:03<02:39,  2.93it/s]\u001b[A\n",
      "Processing 2023_05_22_Pyl-OB_010_small.czi:  21%|███████▍                            | 121/588 [01:06<07:47,  1.00s/it]\u001b[A\n",
      "Processing 2023_05_22_Pyl-OB_010_small.czi:  21%|███████▍                            | 122/588 [01:06<06:11,  1.25it/s]\u001b[A\n",
      "Processing 2023_05_22_Pyl-OB_010_small.czi:  21%|███████▌                            | 123/588 [01:06<05:03,  1.53it/s]\u001b[A\n",
      "Processing 2023_05_22_Pyl-OB_010_small.czi:  21%|███████▌                            | 124/588 [01:07<04:20,  1.78it/s]\u001b[A\n",
      "Processing 2023_05_22_Pyl-OB_010_small.czi:  21%|███████▋                            | 125/588 [01:07<03:44,  2.06it/s]\u001b[A\n",
      "Processing 2023_05_22_Pyl-OB_010_small.czi:  21%|███████▋                            | 126/588 [01:07<03:22,  2.28it/s]\u001b[A\n",
      "Processing 2023_05_22_Pyl-OB_010_small.czi:  22%|███████▊                            | 127/588 [01:08<03:07,  2.46it/s]\u001b[A\n",
      "Processing 2023_05_22_Pyl-OB_010_small.czi:  22%|███████▊                            | 128/588 [01:08<02:58,  2.57it/s]\u001b[A\n",
      "Processing 2023_05_22_Pyl-OB_010_small.czi:  22%|███████▉                            | 129/588 [01:08<02:48,  2.72it/s]\u001b[A\n",
      "Processing 2023_05_22_Pyl-OB_010_small.czi:  22%|███████▉                            | 130/588 [01:09<02:40,  2.85it/s]\u001b[A\n",
      "Processing 2023_05_22_Pyl-OB_010_small.czi:  22%|████████                            | 131/588 [01:09<02:38,  2.88it/s]\u001b[A\n",
      "Processing 2023_05_22_Pyl-OB_010_small.czi:  22%|████████                            | 132/588 [01:09<02:32,  2.98it/s]\u001b[A\n",
      "Processing 2023_05_22_Pyl-OB_010_small.czi:  23%|████████▏                           | 133/588 [01:12<07:42,  1.02s/it]\u001b[A\n",
      "Processing 2023_05_22_Pyl-OB_010_small.czi:  23%|████████▏                           | 134/588 [01:12<06:04,  1.25it/s]\u001b[A\n",
      "Processing 2023_05_22_Pyl-OB_010_small.czi:  23%|████████▎                           | 135/588 [01:12<05:02,  1.50it/s]\u001b[A\n",
      "Processing 2023_05_22_Pyl-OB_010_small.czi:  23%|████████▎                           | 136/588 [01:13<04:16,  1.76it/s]\u001b[A\n",
      "Processing 2023_05_22_Pyl-OB_010_small.czi:  23%|████████▍                           | 137/588 [01:13<03:46,  1.99it/s]\u001b[A\n",
      "Processing 2023_05_22_Pyl-OB_010_small.czi:  23%|████████▍                           | 138/588 [01:13<03:21,  2.23it/s]\u001b[A\n",
      "Processing 2023_05_22_Pyl-OB_010_small.czi:  24%|████████▌                           | 139/588 [01:14<03:09,  2.36it/s]\u001b[A\n",
      "Processing 2023_05_22_Pyl-OB_010_small.czi:  24%|████████▌                           | 140/588 [01:14<02:57,  2.52it/s]\u001b[A\n",
      "Processing 2023_05_22_Pyl-OB_010_small.czi:  24%|████████▋                           | 141/588 [01:14<02:47,  2.66it/s]\u001b[A\n",
      "Processing 2023_05_22_Pyl-OB_010_small.czi:  24%|████████▋                           | 142/588 [01:15<02:42,  2.74it/s]\u001b[A\n",
      "Processing 2023_05_22_Pyl-OB_010_small.czi:  24%|████████▊                           | 143/588 [01:15<02:37,  2.83it/s]\u001b[A\n",
      "Processing 2023_05_22_Pyl-OB_010_small.czi:  24%|████████▊                           | 144/588 [01:15<02:31,  2.93it/s]\u001b[A\n",
      "Processing 2023_05_22_Pyl-OB_010_small.czi:  25%|████████▉                           | 145/588 [01:18<07:30,  1.02s/it]\u001b[A\n",
      "Processing 2023_05_22_Pyl-OB_010_small.czi:  25%|████████▉                           | 146/588 [01:18<06:02,  1.22it/s]\u001b[A\n",
      "Processing 2023_05_22_Pyl-OB_010_small.czi:  25%|█████████                           | 147/588 [01:19<04:56,  1.49it/s]\u001b[A\n",
      "Processing 2023_05_22_Pyl-OB_010_small.czi:  25%|█████████                           | 148/588 [01:19<04:06,  1.79it/s]\u001b[A\n",
      "Processing 2023_05_22_Pyl-OB_010_small.czi:  25%|█████████                           | 149/588 [01:19<03:33,  2.06it/s]\u001b[A\n",
      "Processing 2023_05_22_Pyl-OB_010_small.czi:  26%|█████████▏                          | 150/588 [01:20<03:08,  2.32it/s]\u001b[A\n",
      "Processing 2023_05_22_Pyl-OB_010_small.czi:  26%|█████████▏                          | 151/588 [01:20<03:06,  2.35it/s]\u001b[A\n",
      "Processing 2023_05_22_Pyl-OB_010_small.czi:  26%|█████████▎                          | 152/588 [01:20<02:52,  2.53it/s]\u001b[A\n",
      "Processing 2023_05_22_Pyl-OB_010_small.czi:  26%|█████████▎                          | 153/588 [01:21<02:45,  2.64it/s]\u001b[A\n",
      "Processing 2023_05_22_Pyl-OB_010_small.czi:  26%|█████████▍                          | 154/588 [01:21<02:39,  2.73it/s]\u001b[A\n",
      "Processing 2023_05_22_Pyl-OB_010_small.czi:  26%|█████████▍                          | 155/588 [01:21<02:35,  2.78it/s]\u001b[A\n",
      "Processing 2023_05_22_Pyl-OB_010_small.czi:  27%|█████████▌                          | 156/588 [01:22<02:33,  2.82it/s]\u001b[A\n",
      "Processing 2023_05_22_Pyl-OB_010_small.czi:  27%|█████████▌                          | 157/588 [01:24<07:28,  1.04s/it]\u001b[A\n",
      "Processing 2023_05_22_Pyl-OB_010_small.czi:  27%|█████████▋                          | 158/588 [01:25<05:56,  1.21it/s]\u001b[A\n",
      "Processing 2023_05_22_Pyl-OB_010_small.czi:  27%|█████████▋                          | 159/588 [01:25<04:49,  1.48it/s]\u001b[A\n",
      "Processing 2023_05_22_Pyl-OB_010_small.czi:  27%|█████████▊                          | 160/588 [01:25<04:01,  1.77it/s]\u001b[A\n",
      "Processing 2023_05_22_Pyl-OB_010_small.czi:  27%|█████████▊                          | 161/588 [01:26<03:28,  2.05it/s]\u001b[A\n",
      "Processing 2023_05_22_Pyl-OB_010_small.czi:  28%|█████████▉                          | 162/588 [01:26<03:06,  2.29it/s]\u001b[A\n",
      "Processing 2023_05_22_Pyl-OB_010_small.czi:  28%|█████████▉                          | 163/588 [01:26<02:48,  2.52it/s]\u001b[A\n",
      "Processing 2023_05_22_Pyl-OB_010_small.czi:  28%|██████████                          | 164/588 [01:27<02:37,  2.70it/s]\u001b[A\n",
      "Processing 2023_05_22_Pyl-OB_010_small.czi:  28%|██████████                          | 165/588 [01:27<02:32,  2.77it/s]\u001b[A\n",
      "Processing 2023_05_22_Pyl-OB_010_small.czi:  28%|██████████▏                         | 166/588 [01:27<02:25,  2.91it/s]\u001b[A\n",
      "Processing 2023_05_22_Pyl-OB_010_small.czi:  28%|██████████▏                         | 167/588 [01:28<02:24,  2.92it/s]\u001b[A\n",
      "Processing 2023_05_22_Pyl-OB_010_small.czi:  29%|██████████▎                         | 168/588 [01:28<02:22,  2.95it/s]\u001b[A\n",
      "Processing 2023_05_22_Pyl-OB_010_small.czi:  29%|██████████▎                         | 169/588 [01:31<07:28,  1.07s/it]\u001b[A\n",
      "Processing 2023_05_22_Pyl-OB_010_small.czi:  29%|██████████▍                         | 170/588 [01:31<05:55,  1.18it/s]\u001b[A\n",
      "Processing 2023_05_22_Pyl-OB_010_small.czi:  29%|██████████▍                         | 171/588 [01:31<04:48,  1.45it/s]\u001b[A\n",
      "Processing 2023_05_22_Pyl-OB_010_small.czi:  29%|██████████▌                         | 172/588 [01:32<04:04,  1.70it/s]\u001b[A\n",
      "Processing 2023_05_22_Pyl-OB_010_small.czi:  29%|██████████▌                         | 173/588 [01:32<03:35,  1.93it/s]\u001b[A\n",
      "Processing 2023_05_22_Pyl-OB_010_small.czi:  30%|██████████▋                         | 174/588 [01:32<03:12,  2.15it/s]\u001b[A\n",
      "Processing 2023_05_22_Pyl-OB_010_small.czi:  30%|██████████▋                         | 175/588 [01:33<02:53,  2.38it/s]\u001b[A\n",
      "Processing 2023_05_22_Pyl-OB_010_small.czi:  30%|██████████▊                         | 176/588 [01:33<02:45,  2.49it/s]\u001b[A\n",
      "Processing 2023_05_22_Pyl-OB_010_small.czi:  30%|██████████▊                         | 177/588 [01:33<02:38,  2.60it/s]\u001b[A\n",
      "Processing 2023_05_22_Pyl-OB_010_small.czi:  30%|██████████▉                         | 178/588 [01:34<02:33,  2.67it/s]\u001b[A\n",
      "Processing 2023_05_22_Pyl-OB_010_small.czi:  30%|██████████▉                         | 179/588 [01:34<02:27,  2.78it/s]\u001b[A\n",
      "Processing 2023_05_22_Pyl-OB_010_small.czi:  31%|███████████                         | 180/588 [01:34<02:24,  2.83it/s]\u001b[A\n",
      "Processing 2023_05_22_Pyl-OB_010_small.czi:  31%|███████████                         | 181/588 [01:37<07:02,  1.04s/it]\u001b[A\n",
      "Processing 2023_05_22_Pyl-OB_010_small.czi:  31%|███████████▏                        | 182/588 [01:37<05:34,  1.21it/s]\u001b[A\n",
      "Processing 2023_05_22_Pyl-OB_010_small.czi:  31%|███████████▏                        | 183/588 [01:38<04:30,  1.50it/s]\u001b[A\n",
      "Processing 2023_05_22_Pyl-OB_010_small.czi:  31%|███████████▎                        | 184/588 [01:38<03:54,  1.72it/s]\u001b[A\n",
      "Processing 2023_05_22_Pyl-OB_010_small.czi:  31%|███████████▎                        | 185/588 [01:38<03:23,  1.98it/s]\u001b[A\n",
      "Processing 2023_05_22_Pyl-OB_010_small.czi:  32%|███████████▍                        | 186/588 [01:39<03:01,  2.22it/s]\u001b[A\n",
      "Processing 2023_05_22_Pyl-OB_010_small.czi:  32%|███████████▍                        | 187/588 [01:39<02:42,  2.47it/s]\u001b[A\n",
      "Processing 2023_05_22_Pyl-OB_010_small.czi:  32%|███████████▌                        | 188/588 [01:39<02:33,  2.61it/s]\u001b[A\n",
      "Processing 2023_05_22_Pyl-OB_010_small.czi:  32%|███████████▌                        | 189/588 [01:40<02:25,  2.74it/s]\u001b[A\n",
      "Processing 2023_05_22_Pyl-OB_010_small.czi:  32%|███████████▋                        | 190/588 [01:40<02:17,  2.90it/s]\u001b[A\n",
      "Processing 2023_05_22_Pyl-OB_010_small.czi:  32%|███████████▋                        | 191/588 [01:40<02:11,  3.02it/s]\u001b[A\n",
      "Processing 2023_05_22_Pyl-OB_010_small.czi:  33%|███████████▊                        | 192/588 [01:41<02:12,  2.98it/s]\u001b[A\n",
      "Processing 2023_05_22_Pyl-OB_010_small.czi:  33%|███████████▊                        | 193/588 [01:43<06:42,  1.02s/it]\u001b[A\n",
      "Processing 2023_05_22_Pyl-OB_010_small.czi:  33%|███████████▉                        | 194/588 [01:44<05:24,  1.22it/s]\u001b[A\n",
      "Processing 2023_05_22_Pyl-OB_010_small.czi:  33%|███████████▉                        | 195/588 [01:44<04:25,  1.48it/s]\u001b[A\n",
      "Processing 2023_05_22_Pyl-OB_010_small.czi:  33%|████████████                        | 196/588 [01:44<03:42,  1.76it/s]\u001b[A\n",
      "Processing 2023_05_22_Pyl-OB_010_small.czi:  34%|████████████                        | 197/588 [01:45<03:15,  2.00it/s]\u001b[A\n",
      "Processing 2023_05_22_Pyl-OB_010_small.czi:  34%|████████████                        | 198/588 [01:45<02:55,  2.22it/s]\u001b[A\n",
      "Processing 2023_05_22_Pyl-OB_010_small.czi:  34%|████████████▏                       | 199/588 [01:45<02:39,  2.44it/s]\u001b[A\n",
      "Processing 2023_05_22_Pyl-OB_010_small.czi:  34%|████████████▏                       | 200/588 [01:46<02:30,  2.57it/s]\u001b[A\n",
      "Processing 2023_05_22_Pyl-OB_010_small.czi:  34%|████████████▎                       | 201/588 [01:46<02:22,  2.71it/s]\u001b[A\n",
      "Processing 2023_05_22_Pyl-OB_010_small.czi:  34%|████████████▎                       | 202/588 [01:46<02:17,  2.80it/s]\u001b[A\n",
      "Processing 2023_05_22_Pyl-OB_010_small.czi:  35%|████████████▍                       | 203/588 [01:47<02:15,  2.83it/s]\u001b[A\n",
      "Processing 2023_05_22_Pyl-OB_010_small.czi:  35%|████████████▍                       | 204/588 [01:47<02:15,  2.83it/s]\u001b[A\n",
      "Processing 2023_05_22_Pyl-OB_010_small.czi:  35%|████████████▌                       | 205/588 [01:50<06:39,  1.04s/it]\u001b[A\n",
      "Processing 2023_05_22_Pyl-OB_010_small.czi:  35%|████████████▌                       | 206/588 [01:50<05:16,  1.21it/s]\u001b[A\n",
      "Processing 2023_05_22_Pyl-OB_010_small.czi:  35%|████████████▋                       | 207/588 [01:50<04:15,  1.49it/s]\u001b[A\n",
      "Processing 2023_05_22_Pyl-OB_010_small.czi:  35%|████████████▋                       | 208/588 [01:50<03:32,  1.79it/s]\u001b[A\n",
      "Processing 2023_05_22_Pyl-OB_010_small.czi:  36%|████████████▊                       | 209/588 [01:51<03:05,  2.04it/s]\u001b[A\n",
      "Processing 2023_05_22_Pyl-OB_010_small.czi:  36%|████████████▊                       | 210/588 [01:51<02:48,  2.24it/s]\u001b[A\n",
      "Processing 2023_05_22_Pyl-OB_010_small.czi:  36%|████████████▉                       | 211/588 [01:51<02:31,  2.49it/s]\u001b[A\n",
      "Processing 2023_05_22_Pyl-OB_010_small.czi:  36%|████████████▉                       | 212/588 [01:52<02:21,  2.66it/s]\u001b[A\n",
      "Processing 2023_05_22_Pyl-OB_010_small.czi:  36%|█████████████                       | 213/588 [01:52<02:15,  2.78it/s]\u001b[A\n",
      "Processing 2023_05_22_Pyl-OB_010_small.czi:  36%|█████████████                       | 214/588 [01:52<02:12,  2.81it/s]\u001b[A\n",
      "Processing 2023_05_22_Pyl-OB_010_small.czi:  37%|█████████████▏                      | 215/588 [01:53<02:07,  2.93it/s]\u001b[A\n",
      "Processing 2023_05_22_Pyl-OB_010_small.czi:  37%|█████████████▏                      | 216/588 [01:53<02:03,  3.01it/s]\u001b[A\n",
      "Processing 2023_05_22_Pyl-OB_010_small.czi:  37%|█████████████▎                      | 217/588 [01:56<06:14,  1.01s/it]\u001b[A\n",
      "Processing 2023_05_22_Pyl-OB_010_small.czi:  37%|█████████████▎                      | 218/588 [01:56<04:57,  1.25it/s]\u001b[A\n",
      "Processing 2023_05_22_Pyl-OB_010_small.czi:  37%|█████████████▍                      | 219/588 [01:56<04:09,  1.48it/s]\u001b[A\n",
      "Processing 2023_05_22_Pyl-OB_010_small.czi:  37%|█████████████▍                      | 220/588 [01:57<03:30,  1.74it/s]\u001b[A\n",
      "Processing 2023_05_22_Pyl-OB_010_small.czi:  38%|█████████████▌                      | 221/588 [01:57<03:04,  1.99it/s]\u001b[A\n",
      "Processing 2023_05_22_Pyl-OB_010_small.czi:  38%|█████████████▌                      | 222/588 [01:57<02:43,  2.23it/s]\u001b[A\n",
      "Processing 2023_05_22_Pyl-OB_010_small.czi:  38%|█████████████▋                      | 223/588 [01:58<02:28,  2.46it/s]\u001b[A\n",
      "Processing 2023_05_22_Pyl-OB_010_small.czi:  38%|█████████████▋                      | 224/588 [01:58<02:19,  2.60it/s]\u001b[A\n",
      "Processing 2023_05_22_Pyl-OB_010_small.czi:  38%|█████████████▊                      | 225/588 [01:58<02:13,  2.73it/s]\u001b[A\n",
      "Processing 2023_05_22_Pyl-OB_010_small.czi:  38%|█████████████▊                      | 226/588 [01:59<02:08,  2.82it/s]\u001b[A\n",
      "Processing 2023_05_22_Pyl-OB_010_small.czi:  39%|█████████████▉                      | 227/588 [01:59<02:06,  2.85it/s]\u001b[A\n",
      "Processing 2023_05_22_Pyl-OB_010_small.czi:  39%|█████████████▉                      | 228/588 [01:59<02:02,  2.94it/s]\u001b[A\n",
      "Processing 2023_05_22_Pyl-OB_010_small.czi:  39%|██████████████                      | 229/588 [02:02<06:03,  1.01s/it]\u001b[A\n",
      "Processing 2023_05_22_Pyl-OB_010_small.czi:  39%|██████████████                      | 230/588 [02:02<04:46,  1.25it/s]\u001b[A\n",
      "Processing 2023_05_22_Pyl-OB_010_small.czi:  39%|██████████████▏                     | 231/588 [02:03<03:55,  1.52it/s]\u001b[A\n",
      "Processing 2023_05_22_Pyl-OB_010_small.czi:  39%|██████████████▏                     | 232/588 [02:03<03:19,  1.78it/s]\u001b[A\n",
      "Processing 2023_05_22_Pyl-OB_010_small.czi:  40%|██████████████▎                     | 233/588 [02:03<02:57,  2.00it/s]\u001b[A\n",
      "Processing 2023_05_22_Pyl-OB_010_small.czi:  40%|██████████████▎                     | 234/588 [02:04<02:37,  2.24it/s]\u001b[A\n",
      "Processing 2023_05_22_Pyl-OB_010_small.czi:  40%|██████████████▍                     | 235/588 [02:04<02:26,  2.40it/s]\u001b[A\n",
      "Processing 2023_05_22_Pyl-OB_010_small.czi:  40%|██████████████▍                     | 236/588 [02:04<02:18,  2.55it/s]\u001b[A\n",
      "Processing 2023_05_22_Pyl-OB_010_small.czi:  40%|██████████████▌                     | 237/588 [02:05<02:12,  2.65it/s]\u001b[A\n",
      "Processing 2023_05_22_Pyl-OB_010_small.czi:  40%|██████████████▌                     | 238/588 [02:05<02:10,  2.68it/s]\u001b[A\n",
      "Processing 2023_05_22_Pyl-OB_010_small.czi:  41%|██████████████▋                     | 239/588 [02:05<02:08,  2.72it/s]\u001b[A\n",
      "Processing 2023_05_22_Pyl-OB_010_small.czi:  41%|██████████████▋                     | 240/588 [02:06<02:04,  2.78it/s]\u001b[A\n",
      "Processing 2023_05_22_Pyl-OB_010_small.czi:  41%|██████████████▊                     | 241/588 [02:08<06:07,  1.06s/it]\u001b[A\n",
      "Processing 2023_05_22_Pyl-OB_010_small.czi:  41%|██████████████▊                     | 242/588 [02:09<04:50,  1.19it/s]\u001b[A\n",
      "Processing 2023_05_22_Pyl-OB_010_small.czi:  41%|██████████████▉                     | 243/588 [02:09<03:55,  1.47it/s]\u001b[A\n",
      "Processing 2023_05_22_Pyl-OB_010_small.czi:  41%|██████████████▉                     | 244/588 [02:09<03:15,  1.76it/s]\u001b[A\n",
      "Processing 2023_05_22_Pyl-OB_010_small.czi:  42%|███████████████                     | 245/588 [02:10<02:49,  2.03it/s]\u001b[A\n",
      "Processing 2023_05_22_Pyl-OB_010_small.czi:  42%|███████████████                     | 246/588 [02:10<02:32,  2.25it/s]\u001b[A\n",
      "Processing 2023_05_22_Pyl-OB_010_small.czi:  42%|███████████████                     | 247/588 [02:10<02:17,  2.47it/s]\u001b[A\n",
      "Processing 2023_05_22_Pyl-OB_010_small.czi:  42%|███████████████▏                    | 248/588 [02:11<02:08,  2.65it/s]\u001b[A\n",
      "Processing 2023_05_22_Pyl-OB_010_small.czi:  42%|███████████████▏                    | 249/588 [02:11<02:00,  2.82it/s]\u001b[A\n",
      "Processing 2023_05_22_Pyl-OB_010_small.czi:  43%|███████████████▎                    | 250/588 [02:11<01:55,  2.92it/s]\u001b[A\n",
      "Processing 2023_05_22_Pyl-OB_010_small.czi:  43%|███████████████▎                    | 251/588 [02:11<01:52,  3.01it/s]\u001b[A\n",
      "Processing 2023_05_22_Pyl-OB_010_small.czi:  43%|███████████████▍                    | 252/588 [02:12<01:48,  3.08it/s]\u001b[A\n",
      "Processing 2023_05_22_Pyl-OB_010_small.czi:  43%|███████████████▍                    | 253/588 [02:14<05:26,  1.03it/s]\u001b[A\n",
      "Processing 2023_05_22_Pyl-OB_010_small.czi:  43%|███████████████▌                    | 254/588 [02:15<04:23,  1.27it/s]\u001b[A\n",
      "Processing 2023_05_22_Pyl-OB_010_small.czi:  43%|███████████████▌                    | 255/588 [02:15<03:38,  1.52it/s]\u001b[A\n",
      "Processing 2023_05_22_Pyl-OB_010_small.czi:  44%|███████████████▋                    | 256/588 [02:15<03:04,  1.80it/s]\u001b[A\n",
      "Processing 2023_05_22_Pyl-OB_010_small.czi:  44%|███████████████▋                    | 257/588 [02:16<02:45,  2.00it/s]\u001b[A\n",
      "Processing 2023_05_22_Pyl-OB_010_small.czi:  44%|███████████████▊                    | 258/588 [02:16<02:28,  2.22it/s]\u001b[A\n",
      "Processing 2023_05_22_Pyl-OB_010_small.czi:  44%|███████████████▊                    | 259/588 [02:16<02:20,  2.35it/s]\u001b[A\n",
      "Processing 2023_05_22_Pyl-OB_010_small.czi:  44%|███████████████▉                    | 260/588 [02:17<02:09,  2.54it/s]\u001b[A\n",
      "Processing 2023_05_22_Pyl-OB_010_small.czi:  44%|███████████████▉                    | 261/588 [02:17<02:05,  2.60it/s]\u001b[A\n",
      "Processing 2023_05_22_Pyl-OB_010_small.czi:  45%|████████████████                    | 262/588 [02:17<01:59,  2.74it/s]\u001b[A\n",
      "Processing 2023_05_22_Pyl-OB_010_small.czi:  45%|████████████████                    | 263/588 [02:18<01:52,  2.89it/s]\u001b[A\n",
      "Processing 2023_05_22_Pyl-OB_010_small.czi:  45%|████████████████▏                   | 264/588 [02:18<01:52,  2.87it/s]\u001b[A\n",
      "Processing 2023_05_22_Pyl-OB_010_small.czi:  45%|████████████████▏                   | 265/588 [02:21<05:37,  1.04s/it]\u001b[A\n",
      "Processing 2023_05_22_Pyl-OB_010_small.czi:  45%|████████████████▎                   | 266/588 [02:21<04:28,  1.20it/s]\u001b[A\n",
      "Processing 2023_05_22_Pyl-OB_010_small.czi:  45%|████████████████▎                   | 267/588 [02:21<03:41,  1.45it/s]\u001b[A\n",
      "Processing 2023_05_22_Pyl-OB_010_small.czi:  46%|████████████████▍                   | 268/588 [02:22<03:06,  1.71it/s]\u001b[A\n",
      "Processing 2023_05_22_Pyl-OB_010_small.czi:  46%|████████████████▍                   | 269/588 [02:22<02:42,  1.96it/s]\u001b[A\n",
      "Processing 2023_05_22_Pyl-OB_010_small.czi:  46%|████████████████▌                   | 270/588 [02:22<02:27,  2.15it/s]\u001b[A\n",
      "Processing 2023_05_22_Pyl-OB_010_small.czi:  46%|████████████████▌                   | 271/588 [02:23<02:17,  2.31it/s]\u001b[A\n",
      "Processing 2023_05_22_Pyl-OB_010_small.czi:  46%|████████████████▋                   | 272/588 [02:23<02:08,  2.46it/s]\u001b[A\n",
      "Processing 2023_05_22_Pyl-OB_010_small.czi:  46%|████████████████▋                   | 273/588 [02:23<02:05,  2.52it/s]\u001b[A\n",
      "Processing 2023_05_22_Pyl-OB_010_small.czi:  47%|████████████████▊                   | 274/588 [02:24<02:00,  2.62it/s]\u001b[A\n",
      "Processing 2023_05_22_Pyl-OB_010_small.czi:  47%|████████████████▊                   | 275/588 [02:24<01:57,  2.66it/s]\u001b[A\n",
      "Processing 2023_05_22_Pyl-OB_010_small.czi:  47%|████████████████▉                   | 276/588 [02:25<01:55,  2.71it/s]\u001b[A\n",
      "Processing 2023_05_22_Pyl-OB_010_small.czi:  47%|████████████████▉                   | 277/588 [02:27<05:33,  1.07s/it]\u001b[A\n",
      "Processing 2023_05_22_Pyl-OB_010_small.czi:  47%|█████████████████                   | 278/588 [02:28<04:26,  1.16it/s]\u001b[A\n",
      "Processing 2023_05_22_Pyl-OB_010_small.czi:  47%|█████████████████                   | 279/588 [02:28<03:37,  1.42it/s]\u001b[A\n",
      "Processing 2023_05_22_Pyl-OB_010_small.czi:  48%|█████████████████▏                  | 280/588 [02:28<03:00,  1.71it/s]\u001b[A\n",
      "Processing 2023_05_22_Pyl-OB_010_small.czi:  48%|█████████████████▏                  | 281/588 [02:29<02:35,  1.97it/s]\u001b[A\n",
      "Processing 2023_05_22_Pyl-OB_010_small.czi:  48%|█████████████████▎                  | 282/588 [02:29<02:19,  2.19it/s]\u001b[A\n",
      "Processing 2023_05_22_Pyl-OB_010_small.czi:  48%|█████████████████▎                  | 283/588 [02:29<02:07,  2.39it/s]\u001b[A\n",
      "Processing 2023_05_22_Pyl-OB_010_small.czi:  48%|█████████████████▍                  | 284/588 [02:30<01:58,  2.57it/s]\u001b[A\n",
      "Processing 2023_05_22_Pyl-OB_010_small.czi:  48%|█████████████████▍                  | 285/588 [02:30<01:50,  2.74it/s]\u001b[A\n",
      "Processing 2023_05_22_Pyl-OB_010_small.czi:  49%|█████████████████▌                  | 286/588 [02:30<01:45,  2.86it/s]\u001b[A\n",
      "Processing 2023_05_22_Pyl-OB_010_small.czi:  49%|█████████████████▌                  | 287/588 [02:31<01:42,  2.93it/s]\u001b[A\n",
      "Processing 2023_05_22_Pyl-OB_010_small.czi:  49%|█████████████████▋                  | 288/588 [02:31<01:43,  2.89it/s]\u001b[A\n",
      "Processing 2023_05_22_Pyl-OB_010_small.czi:  49%|█████████████████▋                  | 289/588 [02:34<05:17,  1.06s/it]\u001b[A\n",
      "Processing 2023_05_22_Pyl-OB_010_small.czi:  49%|█████████████████▊                  | 290/588 [02:34<04:09,  1.20it/s]\u001b[A\n",
      "Processing 2023_05_22_Pyl-OB_010_small.czi:  49%|█████████████████▊                  | 291/588 [02:34<03:21,  1.47it/s]\u001b[A\n",
      "Processing 2023_05_22_Pyl-OB_010_small.czi:  50%|█████████████████▉                  | 292/588 [02:35<02:50,  1.73it/s]\u001b[A\n",
      "Processing 2023_05_22_Pyl-OB_010_small.czi:  50%|█████████████████▉                  | 293/588 [02:35<02:26,  2.01it/s]\u001b[A\n",
      "Processing 2023_05_22_Pyl-OB_010_small.czi:  50%|██████████████████                  | 294/588 [02:35<02:09,  2.26it/s]\u001b[A\n",
      "Processing 2023_05_22_Pyl-OB_010_small.czi:  50%|██████████████████                  | 295/588 [02:36<02:00,  2.44it/s]\u001b[A\n",
      "Processing 2023_05_22_Pyl-OB_010_small.czi:  50%|██████████████████                  | 296/588 [02:36<01:54,  2.56it/s]\u001b[A\n",
      "Processing 2023_05_22_Pyl-OB_010_small.czi:  51%|██████████████████▏                 | 297/588 [02:36<01:46,  2.74it/s]\u001b[A\n",
      "Processing 2023_05_22_Pyl-OB_010_small.czi:  51%|██████████████████▏                 | 298/588 [02:37<01:41,  2.85it/s]\u001b[A\n",
      "Processing 2023_05_22_Pyl-OB_010_small.czi:  51%|██████████████████▎                 | 299/588 [02:37<01:38,  2.95it/s]\u001b[A\n",
      "Processing 2023_05_22_Pyl-OB_010_small.czi:  51%|██████████████████▎                 | 300/588 [02:37<01:38,  2.93it/s]\u001b[A\n",
      "Processing 2023_05_22_Pyl-OB_010_small.czi:  51%|██████████████████▍                 | 301/588 [02:40<05:00,  1.05s/it]\u001b[A\n",
      "Processing 2023_05_22_Pyl-OB_010_small.czi:  51%|██████████████████▍                 | 302/588 [02:40<03:56,  1.21it/s]\u001b[A\n",
      "Processing 2023_05_22_Pyl-OB_010_small.czi:  52%|██████████████████▌                 | 303/588 [02:40<03:11,  1.49it/s]\u001b[A\n",
      "Processing 2023_05_22_Pyl-OB_010_small.czi:  52%|██████████████████▌                 | 304/588 [02:41<02:40,  1.77it/s]\u001b[A\n",
      "Processing 2023_05_22_Pyl-OB_010_small.czi:  52%|██████████████████▋                 | 305/588 [02:41<02:17,  2.05it/s]\u001b[A\n",
      "Processing 2023_05_22_Pyl-OB_010_small.czi:  52%|██████████████████▋                 | 306/588 [02:41<02:02,  2.31it/s]\u001b[A\n",
      "Processing 2023_05_22_Pyl-OB_010_small.czi:  52%|██████████████████▊                 | 307/588 [02:42<01:53,  2.47it/s]\u001b[A\n",
      "Processing 2023_05_22_Pyl-OB_010_small.czi:  52%|██████████████████▊                 | 308/588 [02:42<01:46,  2.62it/s]\u001b[A\n",
      "Processing 2023_05_22_Pyl-OB_010_small.czi:  53%|██████████████████▉                 | 309/588 [02:42<01:41,  2.74it/s]\u001b[A\n",
      "Processing 2023_05_22_Pyl-OB_010_small.czi:  53%|██████████████████▉                 | 310/588 [02:43<01:37,  2.86it/s]\u001b[A\n",
      "Processing 2023_05_22_Pyl-OB_010_small.czi:  53%|███████████████████                 | 311/588 [02:43<01:33,  2.95it/s]\u001b[A\n",
      "Processing 2023_05_22_Pyl-OB_010_small.czi:  53%|███████████████████                 | 312/588 [02:43<01:31,  3.01it/s]\u001b[A\n",
      "Processing 2023_05_22_Pyl-OB_010_small.czi:  53%|███████████████████▏                | 313/588 [02:46<04:33,  1.01it/s]\u001b[A\n",
      "Processing 2023_05_22_Pyl-OB_010_small.czi:  53%|███████████████████▏                | 314/588 [02:46<03:37,  1.26it/s]\u001b[A\n",
      "Processing 2023_05_22_Pyl-OB_010_small.czi:  54%|███████████████████▎                | 315/588 [02:47<03:00,  1.51it/s]\u001b[A\n",
      "Processing 2023_05_22_Pyl-OB_010_small.czi:  54%|███████████████████▎                | 316/588 [02:47<02:32,  1.79it/s]\u001b[A\n",
      "Processing 2023_05_22_Pyl-OB_010_small.czi:  54%|███████████████████▍                | 317/588 [02:47<02:11,  2.07it/s]\u001b[A\n",
      "Processing 2023_05_22_Pyl-OB_010_small.czi:  54%|███████████████████▍                | 318/588 [02:48<01:59,  2.26it/s]\u001b[A\n",
      "Processing 2023_05_22_Pyl-OB_010_small.czi:  54%|███████████████████▌                | 319/588 [02:48<01:50,  2.43it/s]\u001b[A\n",
      "Processing 2023_05_22_Pyl-OB_010_small.czi:  54%|███████████████████▌                | 320/588 [02:48<01:42,  2.62it/s]\u001b[A\n",
      "Processing 2023_05_22_Pyl-OB_010_small.czi:  55%|███████████████████▋                | 321/588 [02:49<01:37,  2.74it/s]\u001b[A\n",
      "Processing 2023_05_22_Pyl-OB_010_small.czi:  55%|███████████████████▋                | 322/588 [02:49<01:35,  2.80it/s]\u001b[A\n",
      "Processing 2023_05_22_Pyl-OB_010_small.czi:  55%|███████████████████▊                | 323/588 [02:49<01:32,  2.87it/s]\u001b[A\n",
      "Processing 2023_05_22_Pyl-OB_010_small.czi:  55%|███████████████████▊                | 324/588 [02:49<01:28,  2.98it/s]\u001b[A\n",
      "Processing 2023_05_22_Pyl-OB_010_small.czi:  55%|███████████████████▉                | 325/588 [02:52<04:32,  1.04s/it]\u001b[A\n",
      "Processing 2023_05_22_Pyl-OB_010_small.czi:  55%|███████████████████▉                | 326/588 [02:52<03:35,  1.21it/s]\u001b[A\n",
      "Processing 2023_05_22_Pyl-OB_010_small.czi:  56%|████████████████████                | 327/588 [02:53<02:56,  1.48it/s]\u001b[A\n",
      "Processing 2023_05_22_Pyl-OB_010_small.czi:  56%|████████████████████                | 328/588 [02:53<02:29,  1.74it/s]\u001b[A\n",
      "Processing 2023_05_22_Pyl-OB_010_small.czi:  56%|████████████████████▏               | 329/588 [02:54<02:11,  1.98it/s]\u001b[A\n",
      "Processing 2023_05_22_Pyl-OB_010_small.czi:  56%|████████████████████▏               | 330/588 [02:54<01:55,  2.24it/s]\u001b[A\n",
      "Processing 2023_05_22_Pyl-OB_010_small.czi:  56%|████████████████████▎               | 331/588 [02:54<01:44,  2.46it/s]\u001b[A\n",
      "Processing 2023_05_22_Pyl-OB_010_small.czi:  56%|████████████████████▎               | 332/588 [02:54<01:38,  2.61it/s]\u001b[A\n",
      "Processing 2023_05_22_Pyl-OB_010_small.czi:  57%|████████████████████▍               | 333/588 [02:55<01:35,  2.68it/s]\u001b[A\n",
      "Processing 2023_05_22_Pyl-OB_010_small.czi:  57%|████████████████████▍               | 334/588 [02:55<01:34,  2.69it/s]\u001b[A\n",
      "Processing 2023_05_22_Pyl-OB_010_small.czi:  57%|████████████████████▌               | 335/588 [02:56<01:31,  2.77it/s]\u001b[A\n",
      "Processing 2023_05_22_Pyl-OB_010_small.czi:  57%|████████████████████▌               | 336/588 [02:56<01:29,  2.80it/s]\u001b[A\n",
      "Processing 2023_05_22_Pyl-OB_010_small.czi:  57%|████████████████████▋               | 337/588 [02:59<04:29,  1.07s/it]\u001b[A\n",
      "Processing 2023_05_22_Pyl-OB_010_small.czi:  57%|████████████████████▋               | 338/588 [02:59<03:32,  1.18it/s]\u001b[A\n",
      "Processing 2023_05_22_Pyl-OB_010_small.czi:  58%|████████████████████▊               | 339/588 [02:59<02:52,  1.44it/s]\u001b[A\n",
      "Processing 2023_05_22_Pyl-OB_010_small.czi:  58%|████████████████████▊               | 340/588 [03:00<02:24,  1.71it/s]\u001b[A\n",
      "Processing 2023_05_22_Pyl-OB_010_small.czi:  58%|████████████████████▉               | 341/588 [03:00<02:05,  1.97it/s]\u001b[A\n",
      "Processing 2023_05_22_Pyl-OB_010_small.czi:  58%|████████████████████▉               | 342/588 [03:00<01:50,  2.23it/s]\u001b[A\n",
      "Processing 2023_05_22_Pyl-OB_010_small.czi:  58%|█████████████████████               | 343/588 [03:01<01:41,  2.41it/s]\u001b[A\n",
      "Processing 2023_05_22_Pyl-OB_010_small.czi:  59%|█████████████████████               | 344/588 [03:01<01:34,  2.59it/s]\u001b[A\n",
      "Processing 2023_05_22_Pyl-OB_010_small.czi:  59%|█████████████████████               | 345/588 [03:01<01:30,  2.70it/s]\u001b[A\n",
      "Processing 2023_05_22_Pyl-OB_010_small.czi:  59%|█████████████████████▏              | 346/588 [03:02<01:26,  2.78it/s]\u001b[A\n",
      "Processing 2023_05_22_Pyl-OB_010_small.czi:  59%|█████████████████████▏              | 347/588 [03:02<01:24,  2.84it/s]\u001b[A\n",
      "Processing 2023_05_22_Pyl-OB_010_small.czi:  59%|█████████████████████▎              | 348/588 [03:02<01:21,  2.96it/s]\u001b[A\n",
      "Processing 2023_05_22_Pyl-OB_010_small.czi:  59%|█████████████████████▎              | 349/588 [03:05<04:13,  1.06s/it]\u001b[A\n",
      "Processing 2023_05_22_Pyl-OB_010_small.czi:  60%|█████████████████████▍              | 350/588 [03:05<03:18,  1.20it/s]\u001b[A\n",
      "Processing 2023_05_22_Pyl-OB_010_small.czi:  60%|█████████████████████▍              | 351/588 [03:06<02:41,  1.46it/s]\u001b[A\n",
      "Processing 2023_05_22_Pyl-OB_010_small.czi:  60%|█████████████████████▌              | 352/588 [03:06<02:16,  1.72it/s]\u001b[A\n",
      "Processing 2023_05_22_Pyl-OB_010_small.czi:  60%|█████████████████████▌              | 353/588 [03:06<01:57,  2.00it/s]\u001b[A\n",
      "Processing 2023_05_22_Pyl-OB_010_small.czi:  60%|█████████████████████▋              | 354/588 [03:07<01:46,  2.19it/s]\u001b[A\n",
      "Processing 2023_05_22_Pyl-OB_010_small.czi:  60%|█████████████████████▋              | 355/588 [03:07<01:37,  2.40it/s]\u001b[A\n",
      "Processing 2023_05_22_Pyl-OB_010_small.czi:  61%|█████████████████████▊              | 356/588 [03:07<01:31,  2.54it/s]\u001b[A\n",
      "Processing 2023_05_22_Pyl-OB_010_small.czi:  61%|█████████████████████▊              | 357/588 [03:08<01:28,  2.62it/s]\u001b[A\n",
      "Processing 2023_05_22_Pyl-OB_010_small.czi:  61%|█████████████████████▉              | 358/588 [03:08<01:26,  2.64it/s]\u001b[A\n",
      "Processing 2023_05_22_Pyl-OB_010_small.czi:  61%|█████████████████████▉              | 359/588 [03:08<01:25,  2.67it/s]\u001b[A\n",
      "Processing 2023_05_22_Pyl-OB_010_small.czi:  61%|██████████████████████              | 360/588 [03:09<01:22,  2.75it/s]\u001b[A\n",
      "Processing 2023_05_22_Pyl-OB_010_small.czi:  61%|██████████████████████              | 361/588 [03:11<03:54,  1.03s/it]\u001b[A\n",
      "Processing 2023_05_22_Pyl-OB_010_small.czi:  62%|██████████████████████▏             | 362/588 [03:12<03:06,  1.21it/s]\u001b[A\n",
      "Processing 2023_05_22_Pyl-OB_010_small.czi:  62%|██████████████████████▏             | 363/588 [03:12<02:32,  1.48it/s]\u001b[A\n",
      "Processing 2023_05_22_Pyl-OB_010_small.czi:  62%|██████████████████████▎             | 364/588 [03:12<02:08,  1.74it/s]\u001b[A\n",
      "Processing 2023_05_22_Pyl-OB_010_small.czi:  62%|██████████████████████▎             | 365/588 [03:13<01:54,  1.94it/s]\u001b[A\n",
      "Processing 2023_05_22_Pyl-OB_010_small.czi:  62%|██████████████████████▍             | 366/588 [03:13<01:42,  2.16it/s]\u001b[A\n",
      "Processing 2023_05_22_Pyl-OB_010_small.czi:  62%|██████████████████████▍             | 367/588 [03:13<01:32,  2.39it/s]\u001b[A\n",
      "Processing 2023_05_22_Pyl-OB_010_small.czi:  63%|██████████████████████▌             | 368/588 [03:14<01:25,  2.58it/s]\u001b[A\n",
      "Processing 2023_05_22_Pyl-OB_010_small.czi:  63%|██████████████████████▌             | 369/588 [03:14<01:22,  2.66it/s]\u001b[A\n",
      "Processing 2023_05_22_Pyl-OB_010_small.czi:  63%|██████████████████████▋             | 370/588 [03:14<01:17,  2.81it/s]\u001b[A\n",
      "Processing 2023_05_22_Pyl-OB_010_small.czi:  63%|██████████████████████▋             | 371/588 [03:15<01:16,  2.85it/s]\u001b[A\n",
      "Processing 2023_05_22_Pyl-OB_010_small.czi:  63%|██████████████████████▊             | 372/588 [03:15<01:14,  2.89it/s]\u001b[A\n",
      "Processing 2023_05_22_Pyl-OB_010_small.czi:  63%|██████████████████████▊             | 373/588 [03:18<03:39,  1.02s/it]\u001b[A\n",
      "Processing 2023_05_22_Pyl-OB_010_small.czi:  64%|██████████████████████▉             | 374/588 [03:18<02:55,  1.22it/s]\u001b[A\n",
      "Processing 2023_05_22_Pyl-OB_010_small.czi:  64%|██████████████████████▉             | 375/588 [03:18<02:23,  1.48it/s]\u001b[A\n",
      "Processing 2023_05_22_Pyl-OB_010_small.czi:  64%|███████████████████████             | 376/588 [03:19<02:00,  1.76it/s]\u001b[A\n",
      "Processing 2023_05_22_Pyl-OB_010_small.czi:  64%|███████████████████████             | 377/588 [03:19<01:44,  2.01it/s]\u001b[A\n",
      "Processing 2023_05_22_Pyl-OB_010_small.czi:  64%|███████████████████████▏            | 378/588 [03:19<01:32,  2.27it/s]\u001b[A\n",
      "Processing 2023_05_22_Pyl-OB_010_small.czi:  64%|███████████████████████▏            | 379/588 [03:20<01:25,  2.44it/s]\u001b[A\n",
      "Processing 2023_05_22_Pyl-OB_010_small.czi:  65%|███████████████████████▎            | 380/588 [03:20<01:19,  2.62it/s]\u001b[A\n",
      "Processing 2023_05_22_Pyl-OB_010_small.czi:  65%|███████████████████████▎            | 381/588 [03:20<01:15,  2.74it/s]\u001b[A\n",
      "Processing 2023_05_22_Pyl-OB_010_small.czi:  65%|███████████████████████▍            | 382/588 [03:21<01:12,  2.83it/s]\u001b[A\n",
      "Processing 2023_05_22_Pyl-OB_010_small.czi:  65%|███████████████████████▍            | 383/588 [03:21<01:10,  2.90it/s]\u001b[A\n",
      "Processing 2023_05_22_Pyl-OB_010_small.czi:  65%|███████████████████████▌            | 384/588 [03:21<01:09,  2.93it/s]\u001b[A\n",
      "Processing 2023_05_22_Pyl-OB_010_small.czi:  65%|███████████████████████▌            | 385/588 [03:24<03:22,  1.00it/s]\u001b[A\n",
      "Processing 2023_05_22_Pyl-OB_010_small.czi:  66%|███████████████████████▋            | 386/588 [03:24<02:42,  1.24it/s]\u001b[A\n",
      "Processing 2023_05_22_Pyl-OB_010_small.czi:  66%|███████████████████████▋            | 387/588 [03:24<02:12,  1.51it/s]\u001b[A\n",
      "Processing 2023_05_22_Pyl-OB_010_small.czi:  66%|███████████████████████▊            | 388/588 [03:25<01:53,  1.77it/s]\u001b[A\n",
      "Processing 2023_05_22_Pyl-OB_010_small.czi:  66%|███████████████████████▊            | 389/588 [03:25<01:38,  2.02it/s]\u001b[A\n",
      "Processing 2023_05_22_Pyl-OB_010_small.czi:  66%|███████████████████████▉            | 390/588 [03:25<01:27,  2.25it/s]\u001b[A\n",
      "Processing 2023_05_22_Pyl-OB_010_small.czi:  66%|███████████████████████▉            | 391/588 [03:26<01:19,  2.47it/s]\u001b[A\n",
      "Processing 2023_05_22_Pyl-OB_010_small.czi:  67%|████████████████████████            | 392/588 [03:26<01:14,  2.63it/s]\u001b[A\n",
      "Processing 2023_05_22_Pyl-OB_010_small.czi:  67%|████████████████████████            | 393/588 [03:26<01:10,  2.77it/s]\u001b[A\n",
      "Processing 2023_05_22_Pyl-OB_010_small.czi:  67%|████████████████████████            | 394/588 [03:27<01:08,  2.82it/s]\u001b[A\n",
      "Processing 2023_05_22_Pyl-OB_010_small.czi:  67%|████████████████████████▏           | 395/588 [03:27<01:07,  2.87it/s]\u001b[A\n",
      "Processing 2023_05_22_Pyl-OB_010_small.czi:  67%|████████████████████████▏           | 396/588 [03:27<01:05,  2.91it/s]\u001b[A\n",
      "Processing 2023_05_22_Pyl-OB_010_small.czi:  68%|████████████████████████▎           | 397/588 [03:30<03:10,  1.00it/s]\u001b[A\n",
      "Processing 2023_05_22_Pyl-OB_010_small.czi:  68%|████████████████████████▎           | 398/588 [03:30<02:30,  1.26it/s]\u001b[A\n",
      "Processing 2023_05_22_Pyl-OB_010_small.czi:  68%|████████████████████████▍           | 399/588 [03:30<02:02,  1.54it/s]\u001b[A\n",
      "Processing 2023_05_22_Pyl-OB_010_small.czi:  68%|████████████████████████▍           | 400/588 [03:31<01:44,  1.80it/s]\u001b[A\n",
      "Processing 2023_05_22_Pyl-OB_010_small.czi:  68%|████████████████████████▌           | 401/588 [03:31<01:30,  2.08it/s]\u001b[A\n",
      "Processing 2023_05_22_Pyl-OB_010_small.czi:  68%|████████████████████████▌           | 402/588 [03:31<01:20,  2.30it/s]\u001b[A\n",
      "Processing 2023_05_22_Pyl-OB_010_small.czi:  69%|████████████████████████▋           | 403/588 [03:32<01:13,  2.51it/s]\u001b[A\n",
      "Processing 2023_05_22_Pyl-OB_010_small.czi:  69%|████████████████████████▋           | 404/588 [03:32<01:08,  2.70it/s]\u001b[A\n",
      "Processing 2023_05_22_Pyl-OB_010_small.czi:  69%|████████████████████████▊           | 405/588 [03:32<01:04,  2.84it/s]\u001b[A\n",
      "Processing 2023_05_22_Pyl-OB_010_small.czi:  69%|████████████████████████▊           | 406/588 [03:33<01:11,  2.53it/s]\u001b[A\n",
      "Processing 2023_05_22_Pyl-OB_010_small.czi:  69%|████████████████████████▉           | 407/588 [03:33<01:09,  2.61it/s]\u001b[A\n",
      "Processing 2023_05_22_Pyl-OB_010_small.czi:  69%|████████████████████████▉           | 408/588 [03:34<01:05,  2.77it/s]\u001b[A\n",
      "Processing 2023_05_22_Pyl-OB_010_small.czi:  70%|█████████████████████████           | 409/588 [03:36<03:06,  1.04s/it]\u001b[A\n",
      "Processing 2023_05_22_Pyl-OB_010_small.czi:  70%|█████████████████████████           | 410/588 [03:36<02:27,  1.21it/s]\u001b[A\n",
      "Processing 2023_05_22_Pyl-OB_010_small.czi:  70%|█████████████████████████▏          | 411/588 [03:37<01:59,  1.48it/s]\u001b[A\n",
      "Processing 2023_05_22_Pyl-OB_010_small.czi:  70%|█████████████████████████▏          | 412/588 [03:37<01:39,  1.76it/s]\u001b[A\n",
      "Processing 2023_05_22_Pyl-OB_010_small.czi:  70%|█████████████████████████▎          | 413/588 [03:37<01:26,  2.02it/s]\u001b[A\n",
      "Processing 2023_05_22_Pyl-OB_010_small.czi:  70%|█████████████████████████▎          | 414/588 [03:38<01:17,  2.24it/s]\u001b[A\n",
      "Processing 2023_05_22_Pyl-OB_010_small.czi:  71%|█████████████████████████▍          | 415/588 [03:38<01:11,  2.43it/s]\u001b[A\n",
      "Processing 2023_05_22_Pyl-OB_010_small.czi:  71%|█████████████████████████▍          | 416/588 [03:38<01:06,  2.58it/s]\u001b[A\n",
      "Processing 2023_05_22_Pyl-OB_010_small.czi:  71%|█████████████████████████▌          | 417/588 [03:39<01:03,  2.67it/s]\u001b[A\n",
      "Processing 2023_05_22_Pyl-OB_010_small.czi:  71%|█████████████████████████▌          | 418/588 [03:39<01:00,  2.83it/s]\u001b[A\n",
      "Processing 2023_05_22_Pyl-OB_010_small.czi:  71%|█████████████████████████▋          | 419/588 [03:39<00:57,  2.92it/s]\u001b[A\n",
      "Processing 2023_05_22_Pyl-OB_010_small.czi:  71%|█████████████████████████▋          | 420/588 [03:40<00:55,  3.02it/s]\u001b[A\n",
      "Processing 2023_05_22_Pyl-OB_010_small.czi:  72%|█████████████████████████▊          | 421/588 [03:42<02:43,  1.02it/s]\u001b[A\n",
      "Processing 2023_05_22_Pyl-OB_010_small.czi:  72%|█████████████████████████▊          | 422/588 [03:43<02:10,  1.27it/s]\u001b[A\n",
      "Processing 2023_05_22_Pyl-OB_010_small.czi:  72%|█████████████████████████▉          | 423/588 [03:43<01:47,  1.54it/s]\u001b[A\n",
      "Processing 2023_05_22_Pyl-OB_010_small.czi:  72%|█████████████████████████▉          | 424/588 [03:43<01:30,  1.80it/s]\u001b[A\n",
      "Processing 2023_05_22_Pyl-OB_010_small.czi:  72%|██████████████████████████          | 425/588 [03:44<01:20,  2.03it/s]\u001b[A\n",
      "Processing 2023_05_22_Pyl-OB_010_small.czi:  72%|██████████████████████████          | 426/588 [03:44<01:12,  2.23it/s]\u001b[A\n",
      "Processing 2023_05_22_Pyl-OB_010_small.czi:  73%|██████████████████████████▏         | 427/588 [03:44<01:05,  2.46it/s]\u001b[A\n",
      "Processing 2023_05_22_Pyl-OB_010_small.czi:  73%|██████████████████████████▏         | 428/588 [03:45<01:01,  2.60it/s]\u001b[A\n",
      "Processing 2023_05_22_Pyl-OB_010_small.czi:  73%|██████████████████████████▎         | 429/588 [03:45<00:59,  2.68it/s]\u001b[A\n",
      "Processing 2023_05_22_Pyl-OB_010_small.czi:  73%|██████████████████████████▎         | 430/588 [03:45<00:55,  2.84it/s]\u001b[A\n",
      "Processing 2023_05_22_Pyl-OB_010_small.czi:  73%|██████████████████████████▍         | 431/588 [03:46<00:54,  2.90it/s]\u001b[A\n",
      "Processing 2023_05_22_Pyl-OB_010_small.czi:  73%|██████████████████████████▍         | 432/588 [03:46<00:51,  3.00it/s]\u001b[A\n",
      "Processing 2023_05_22_Pyl-OB_010_small.czi:  74%|██████████████████████████▌         | 433/588 [03:49<02:46,  1.08s/it]\u001b[A\n",
      "Processing 2023_05_22_Pyl-OB_010_small.czi:  74%|██████████████████████████▌         | 434/588 [03:49<02:11,  1.17it/s]\u001b[A\n",
      "Processing 2023_05_22_Pyl-OB_010_small.czi:  74%|██████████████████████████▋         | 435/588 [03:49<01:45,  1.45it/s]\u001b[A\n",
      "Processing 2023_05_22_Pyl-OB_010_small.czi:  74%|██████████████████████████▋         | 436/588 [03:50<01:29,  1.70it/s]\u001b[A\n",
      "Processing 2023_05_22_Pyl-OB_010_small.czi:  74%|██████████████████████████▊         | 437/588 [03:50<01:16,  1.96it/s]\u001b[A\n",
      "Processing 2023_05_22_Pyl-OB_010_small.czi:  74%|██████████████████████████▊         | 438/588 [03:50<01:07,  2.23it/s]\u001b[A\n",
      "Processing 2023_05_22_Pyl-OB_010_small.czi:  75%|██████████████████████████▉         | 439/588 [03:51<01:01,  2.41it/s]\u001b[A\n",
      "Processing 2023_05_22_Pyl-OB_010_small.czi:  75%|██████████████████████████▉         | 440/588 [03:51<00:58,  2.54it/s]\u001b[A\n",
      "Processing 2023_05_22_Pyl-OB_010_small.czi:  75%|███████████████████████████         | 441/588 [03:51<00:55,  2.67it/s]\u001b[A\n",
      "Processing 2023_05_22_Pyl-OB_010_small.czi:  75%|███████████████████████████         | 442/588 [03:52<00:53,  2.75it/s]\u001b[A\n",
      "Processing 2023_05_22_Pyl-OB_010_small.czi:  75%|███████████████████████████         | 443/588 [03:52<00:51,  2.84it/s]\u001b[A\n",
      "Processing 2023_05_22_Pyl-OB_010_small.czi:  76%|███████████████████████████▏        | 444/588 [03:52<00:49,  2.90it/s]\u001b[A\n",
      "Processing 2023_05_22_Pyl-OB_010_small.czi:  76%|███████████████████████████▏        | 445/588 [03:55<02:21,  1.01it/s]\u001b[A\n",
      "Processing 2023_05_22_Pyl-OB_010_small.czi:  76%|███████████████████████████▎        | 446/588 [03:55<01:52,  1.27it/s]\u001b[A\n",
      "Processing 2023_05_22_Pyl-OB_010_small.czi:  76%|███████████████████████████▎        | 447/588 [03:55<01:31,  1.54it/s]\u001b[A\n",
      "Processing 2023_05_22_Pyl-OB_010_small.czi:  76%|███████████████████████████▍        | 448/588 [03:56<01:17,  1.82it/s]\u001b[A\n",
      "Processing 2023_05_22_Pyl-OB_010_small.czi:  76%|███████████████████████████▍        | 449/588 [03:56<01:06,  2.10it/s]\u001b[A\n",
      "Processing 2023_05_22_Pyl-OB_010_small.czi:  77%|███████████████████████████▌        | 450/588 [03:56<00:58,  2.35it/s]\u001b[A\n",
      "Processing 2023_05_22_Pyl-OB_010_small.czi:  77%|███████████████████████████▌        | 451/588 [03:57<00:53,  2.54it/s]\u001b[A\n",
      "Processing 2023_05_22_Pyl-OB_010_small.czi:  77%|███████████████████████████▋        | 452/588 [03:57<00:50,  2.67it/s]\u001b[A\n",
      "Processing 2023_05_22_Pyl-OB_010_small.czi:  77%|███████████████████████████▋        | 453/588 [03:57<00:49,  2.71it/s]\u001b[A\n",
      "Processing 2023_05_22_Pyl-OB_010_small.czi:  77%|███████████████████████████▊        | 454/588 [03:58<00:48,  2.78it/s]\u001b[A\n",
      "Processing 2023_05_22_Pyl-OB_010_small.czi:  77%|███████████████████████████▊        | 455/588 [03:58<00:47,  2.80it/s]\u001b[A\n",
      "Processing 2023_05_22_Pyl-OB_010_small.czi:  78%|███████████████████████████▉        | 456/588 [03:58<00:45,  2.90it/s]\u001b[A\n",
      "Processing 2023_05_22_Pyl-OB_010_small.czi:  78%|███████████████████████████▉        | 457/588 [04:01<02:10,  1.01it/s]\u001b[A\n",
      "Processing 2023_05_22_Pyl-OB_010_small.czi:  78%|████████████████████████████        | 458/588 [04:01<01:42,  1.26it/s]\u001b[A\n",
      "Processing 2023_05_22_Pyl-OB_010_small.czi:  78%|████████████████████████████        | 459/588 [04:02<01:24,  1.53it/s]\u001b[A\n",
      "Processing 2023_05_22_Pyl-OB_010_small.czi:  78%|████████████████████████████▏       | 460/588 [04:02<01:10,  1.80it/s]\u001b[A\n",
      "Processing 2023_05_22_Pyl-OB_010_small.czi:  78%|████████████████████████████▏       | 461/588 [04:02<01:01,  2.07it/s]\u001b[A\n",
      "Processing 2023_05_22_Pyl-OB_010_small.czi:  79%|████████████████████████████▎       | 462/588 [04:02<00:54,  2.32it/s]\u001b[A\n",
      "Processing 2023_05_22_Pyl-OB_010_small.czi:  79%|████████████████████████████▎       | 463/588 [04:03<00:49,  2.53it/s]\u001b[A\n",
      "Processing 2023_05_22_Pyl-OB_010_small.czi:  79%|████████████████████████████▍       | 464/588 [04:03<00:45,  2.70it/s]\u001b[A\n",
      "Processing 2023_05_22_Pyl-OB_010_small.czi:  79%|████████████████████████████▍       | 465/588 [04:03<00:43,  2.81it/s]\u001b[A\n",
      "Processing 2023_05_22_Pyl-OB_010_small.czi:  79%|████████████████████████████▌       | 466/588 [04:04<00:42,  2.88it/s]\u001b[A\n",
      "Processing 2023_05_22_Pyl-OB_010_small.czi:  79%|████████████████████████████▌       | 467/588 [04:04<00:40,  2.96it/s]\u001b[A\n",
      "Processing 2023_05_22_Pyl-OB_010_small.czi:  80%|████████████████████████████▋       | 468/588 [04:04<00:39,  3.05it/s]\u001b[A\n",
      "Processing 2023_05_22_Pyl-OB_010_small.czi:  80%|████████████████████████████▋       | 469/588 [04:07<01:59,  1.00s/it]\u001b[A\n",
      "Processing 2023_05_22_Pyl-OB_010_small.czi:  80%|████████████████████████████▊       | 470/588 [04:07<01:33,  1.26it/s]\u001b[A\n",
      "Processing 2023_05_22_Pyl-OB_010_small.czi:  80%|████████████████████████████▊       | 471/588 [04:08<01:17,  1.50it/s]\u001b[A\n",
      "Processing 2023_05_22_Pyl-OB_010_small.czi:  80%|████████████████████████████▉       | 472/588 [04:08<01:05,  1.77it/s]\u001b[A\n",
      "Processing 2023_05_22_Pyl-OB_010_small.czi:  80%|████████████████████████████▉       | 473/588 [04:08<00:56,  2.02it/s]\u001b[A\n",
      "Processing 2023_05_22_Pyl-OB_010_small.czi:  81%|█████████████████████████████       | 474/588 [04:09<00:50,  2.27it/s]\u001b[A\n",
      "Processing 2023_05_22_Pyl-OB_010_small.czi:  81%|█████████████████████████████       | 475/588 [04:09<00:45,  2.47it/s]\u001b[A\n",
      "Processing 2023_05_22_Pyl-OB_010_small.czi:  81%|█████████████████████████████▏      | 476/588 [04:09<00:41,  2.68it/s]\u001b[A\n",
      "Processing 2023_05_22_Pyl-OB_010_small.czi:  81%|█████████████████████████████▏      | 477/588 [04:10<00:40,  2.77it/s]\u001b[A\n",
      "Processing 2023_05_22_Pyl-OB_010_small.czi:  81%|█████████████████████████████▎      | 478/588 [04:10<00:38,  2.89it/s]\u001b[A\n",
      "Processing 2023_05_22_Pyl-OB_010_small.czi:  81%|█████████████████████████████▎      | 479/588 [04:10<00:36,  3.01it/s]\u001b[A\n",
      "Processing 2023_05_22_Pyl-OB_010_small.czi:  82%|█████████████████████████████▍      | 480/588 [04:10<00:35,  3.05it/s]\u001b[A\n",
      "Processing 2023_05_22_Pyl-OB_010_small.czi:  82%|█████████████████████████████▍      | 481/588 [04:13<01:47,  1.01s/it]\u001b[A\n",
      "Processing 2023_05_22_Pyl-OB_010_small.czi:  82%|█████████████████████████████▌      | 482/588 [04:13<01:24,  1.25it/s]\u001b[A\n",
      "Processing 2023_05_22_Pyl-OB_010_small.czi:  82%|█████████████████████████████▌      | 483/588 [04:14<01:08,  1.54it/s]\u001b[A\n",
      "Processing 2023_05_22_Pyl-OB_010_small.czi:  82%|█████████████████████████████▋      | 484/588 [04:14<00:57,  1.81it/s]\u001b[A\n",
      "Processing 2023_05_22_Pyl-OB_010_small.czi:  82%|█████████████████████████████▋      | 485/588 [04:14<00:49,  2.08it/s]\u001b[A\n",
      "Processing 2023_05_22_Pyl-OB_010_small.czi:  83%|█████████████████████████████▊      | 486/588 [04:15<00:43,  2.34it/s]\u001b[A\n",
      "Processing 2023_05_22_Pyl-OB_010_small.czi:  83%|█████████████████████████████▊      | 487/588 [04:15<00:40,  2.49it/s]\u001b[A\n",
      "Processing 2023_05_22_Pyl-OB_010_small.czi:  83%|█████████████████████████████▉      | 488/588 [04:15<00:38,  2.62it/s]\u001b[A\n",
      "Processing 2023_05_22_Pyl-OB_010_small.czi:  83%|█████████████████████████████▉      | 489/588 [04:16<00:35,  2.80it/s]\u001b[A\n",
      "Processing 2023_05_22_Pyl-OB_010_small.czi:  83%|██████████████████████████████      | 490/588 [04:16<00:33,  2.90it/s]\u001b[A\n",
      "Processing 2023_05_22_Pyl-OB_010_small.czi:  84%|██████████████████████████████      | 491/588 [04:16<00:33,  2.86it/s]\u001b[A\n",
      "Processing 2023_05_22_Pyl-OB_010_small.czi:  84%|██████████████████████████████      | 492/588 [04:17<00:33,  2.89it/s]\u001b[A\n",
      "Processing 2023_05_22_Pyl-OB_010_small.czi:  84%|██████████████████████████████▏     | 493/588 [04:19<01:45,  1.11s/it]\u001b[A\n",
      "Processing 2023_05_22_Pyl-OB_010_small.czi:  84%|██████████████████████████████▏     | 494/588 [04:20<01:21,  1.15it/s]\u001b[A\n",
      "Processing 2023_05_22_Pyl-OB_010_small.czi:  84%|██████████████████████████████▎     | 495/588 [04:20<01:04,  1.43it/s]\u001b[A\n",
      "Processing 2023_05_22_Pyl-OB_010_small.czi:  84%|██████████████████████████████▎     | 496/588 [04:20<00:53,  1.71it/s]\u001b[A\n",
      "Processing 2023_05_22_Pyl-OB_010_small.czi:  85%|██████████████████████████████▍     | 497/588 [04:21<00:45,  1.98it/s]\u001b[A\n",
      "Processing 2023_05_22_Pyl-OB_010_small.czi:  85%|██████████████████████████████▍     | 498/588 [04:21<00:40,  2.24it/s]\u001b[A\n",
      "Processing 2023_05_22_Pyl-OB_010_small.czi:  85%|██████████████████████████████▌     | 499/588 [04:21<00:36,  2.47it/s]\u001b[A\n",
      "Processing 2023_05_22_Pyl-OB_010_small.czi:  85%|██████████████████████████████▌     | 500/588 [04:22<00:32,  2.67it/s]\u001b[A\n",
      "Processing 2023_05_22_Pyl-OB_010_small.czi:  85%|██████████████████████████████▋     | 501/588 [04:22<00:31,  2.79it/s]\u001b[A\n",
      "Processing 2023_05_22_Pyl-OB_010_small.czi:  85%|██████████████████████████████▋     | 502/588 [04:22<00:30,  2.86it/s]\u001b[A\n",
      "Processing 2023_05_22_Pyl-OB_010_small.czi:  86%|██████████████████████████████▊     | 503/588 [04:23<00:29,  2.88it/s]\u001b[A\n",
      "Processing 2023_05_22_Pyl-OB_010_small.czi:  86%|██████████████████████████████▊     | 504/588 [04:23<00:28,  2.97it/s]\u001b[A\n",
      "Processing 2023_05_22_Pyl-OB_010_small.czi:  86%|██████████████████████████████▉     | 505/588 [04:25<01:20,  1.03it/s]\u001b[A\n",
      "Processing 2023_05_22_Pyl-OB_010_small.czi:  86%|██████████████████████████████▉     | 506/588 [04:26<01:03,  1.29it/s]\u001b[A\n",
      "Processing 2023_05_22_Pyl-OB_010_small.czi:  86%|███████████████████████████████     | 507/588 [04:26<00:51,  1.57it/s]\u001b[A\n",
      "Processing 2023_05_22_Pyl-OB_010_small.czi:  86%|███████████████████████████████     | 508/588 [04:26<00:43,  1.82it/s]\u001b[A\n",
      "Processing 2023_05_22_Pyl-OB_010_small.czi:  87%|███████████████████████████████▏    | 509/588 [04:27<00:37,  2.09it/s]\u001b[A\n",
      "Processing 2023_05_22_Pyl-OB_010_small.czi:  87%|███████████████████████████████▏    | 510/588 [04:27<00:33,  2.30it/s]\u001b[A\n",
      "Processing 2023_05_22_Pyl-OB_010_small.czi:  87%|███████████████████████████████▎    | 511/588 [04:27<00:30,  2.51it/s]\u001b[A\n",
      "Processing 2023_05_22_Pyl-OB_010_small.czi:  87%|███████████████████████████████▎    | 512/588 [04:28<00:29,  2.61it/s]\u001b[A\n",
      "Processing 2023_05_22_Pyl-OB_010_small.czi:  87%|███████████████████████████████▍    | 513/588 [04:28<00:27,  2.69it/s]\u001b[A\n",
      "Processing 2023_05_22_Pyl-OB_010_small.czi:  87%|███████████████████████████████▍    | 514/588 [04:28<00:26,  2.74it/s]\u001b[A\n",
      "Processing 2023_05_22_Pyl-OB_010_small.czi:  88%|███████████████████████████████▌    | 515/588 [04:29<00:26,  2.79it/s]\u001b[A\n",
      "Processing 2023_05_22_Pyl-OB_010_small.czi:  88%|███████████████████████████████▌    | 516/588 [04:29<00:25,  2.84it/s]\u001b[A\n",
      "Processing 2023_05_22_Pyl-OB_010_small.czi:  88%|███████████████████████████████▋    | 517/588 [04:32<01:12,  1.02s/it]\u001b[A\n",
      "Processing 2023_05_22_Pyl-OB_010_small.czi:  88%|███████████████████████████████▋    | 518/588 [04:32<00:56,  1.23it/s]\u001b[A\n",
      "Processing 2023_05_22_Pyl-OB_010_small.czi:  88%|███████████████████████████████▊    | 519/588 [04:32<00:46,  1.48it/s]\u001b[A\n",
      "Processing 2023_05_22_Pyl-OB_010_small.czi:  88%|███████████████████████████████▊    | 520/588 [04:33<00:38,  1.75it/s]\u001b[A\n",
      "Processing 2023_05_22_Pyl-OB_010_small.czi:  89%|███████████████████████████████▉    | 521/588 [04:33<00:33,  2.02it/s]\u001b[A\n",
      "Processing 2023_05_22_Pyl-OB_010_small.czi:  89%|███████████████████████████████▉    | 522/588 [04:33<00:29,  2.26it/s]\u001b[A\n",
      "Processing 2023_05_22_Pyl-OB_010_small.czi:  89%|████████████████████████████████    | 523/588 [04:34<00:26,  2.49it/s]\u001b[A\n",
      "Processing 2023_05_22_Pyl-OB_010_small.czi:  89%|████████████████████████████████    | 524/588 [04:34<00:24,  2.66it/s]\u001b[A\n",
      "Processing 2023_05_22_Pyl-OB_010_small.czi:  89%|████████████████████████████████▏   | 525/588 [04:34<00:22,  2.83it/s]\u001b[A\n",
      "Processing 2023_05_22_Pyl-OB_010_small.czi:  89%|████████████████████████████████▏   | 526/588 [04:35<00:21,  2.92it/s]\u001b[A\n",
      "Processing 2023_05_22_Pyl-OB_010_small.czi:  90%|████████████████████████████████▎   | 527/588 [04:35<00:20,  2.96it/s]\u001b[A\n",
      "Processing 2023_05_22_Pyl-OB_010_small.czi:  90%|████████████████████████████████▎   | 528/588 [04:35<00:19,  3.03it/s]\u001b[A\n",
      "Processing 2023_05_22_Pyl-OB_010_small.czi:  90%|████████████████████████████████▍   | 529/588 [04:38<00:59,  1.00s/it]\u001b[A\n",
      "Processing 2023_05_22_Pyl-OB_010_small.czi:  90%|████████████████████████████████▍   | 530/588 [04:38<00:45,  1.26it/s]\u001b[A\n",
      "Processing 2023_05_22_Pyl-OB_010_small.czi:  90%|████████████████████████████████▌   | 531/588 [04:38<00:37,  1.52it/s]\u001b[A\n",
      "Processing 2023_05_22_Pyl-OB_010_small.czi:  90%|████████████████████████████████▌   | 532/588 [04:39<00:31,  1.80it/s]\u001b[A\n",
      "Processing 2023_05_22_Pyl-OB_010_small.czi:  91%|████████████████████████████████▋   | 533/588 [04:39<00:26,  2.05it/s]\u001b[A\n",
      "Processing 2023_05_22_Pyl-OB_010_small.czi:  91%|████████████████████████████████▋   | 534/588 [04:39<00:23,  2.30it/s]\u001b[A\n",
      "Processing 2023_05_22_Pyl-OB_010_small.czi:  91%|████████████████████████████████▊   | 535/588 [04:40<00:21,  2.51it/s]\u001b[A\n",
      "Processing 2023_05_22_Pyl-OB_010_small.czi:  91%|████████████████████████████████▊   | 536/588 [04:40<00:19,  2.69it/s]\u001b[A\n",
      "Processing 2023_05_22_Pyl-OB_010_small.czi:  91%|████████████████████████████████▉   | 537/588 [04:40<00:17,  2.87it/s]\u001b[A\n",
      "Processing 2023_05_22_Pyl-OB_010_small.czi:  91%|████████████████████████████████▉   | 538/588 [04:41<00:17,  2.91it/s]\u001b[A\n",
      "Processing 2023_05_22_Pyl-OB_010_small.czi:  92%|█████████████████████████████████   | 539/588 [04:41<00:16,  2.93it/s]\u001b[A\n",
      "Processing 2023_05_22_Pyl-OB_010_small.czi:  92%|█████████████████████████████████   | 540/588 [04:41<00:15,  3.04it/s]\u001b[A\n",
      "Processing 2023_05_22_Pyl-OB_010_small.czi:  92%|█████████████████████████████████   | 541/588 [04:44<00:45,  1.04it/s]\u001b[A\n",
      "Processing 2023_05_22_Pyl-OB_010_small.czi:  92%|█████████████████████████████████▏  | 542/588 [04:44<00:35,  1.29it/s]\u001b[A\n",
      "Processing 2023_05_22_Pyl-OB_010_small.czi:  92%|█████████████████████████████████▏  | 543/588 [04:44<00:28,  1.56it/s]\u001b[A\n",
      "Processing 2023_05_22_Pyl-OB_010_small.czi:  93%|█████████████████████████████████▎  | 544/588 [04:45<00:23,  1.85it/s]\u001b[A\n",
      "Processing 2023_05_22_Pyl-OB_010_small.czi:  93%|█████████████████████████████████▎  | 545/588 [04:45<00:20,  2.09it/s]\u001b[A\n",
      "Processing 2023_05_22_Pyl-OB_010_small.czi:  93%|█████████████████████████████████▍  | 546/588 [04:45<00:18,  2.33it/s]\u001b[A\n",
      "Processing 2023_05_22_Pyl-OB_010_small.czi:  93%|█████████████████████████████████▍  | 547/588 [04:46<00:16,  2.56it/s]\u001b[A\n",
      "Processing 2023_05_22_Pyl-OB_010_small.czi:  93%|█████████████████████████████████▌  | 548/588 [04:46<00:14,  2.67it/s]\u001b[A\n",
      "Processing 2023_05_22_Pyl-OB_010_small.czi:  93%|█████████████████████████████████▌  | 549/588 [04:46<00:14,  2.78it/s]\u001b[A\n",
      "Processing 2023_05_22_Pyl-OB_010_small.czi:  94%|█████████████████████████████████▋  | 550/588 [04:47<00:13,  2.81it/s]\u001b[A\n",
      "Processing 2023_05_22_Pyl-OB_010_small.czi:  94%|█████████████████████████████████▋  | 551/588 [04:47<00:13,  2.80it/s]\u001b[A\n",
      "Processing 2023_05_22_Pyl-OB_010_small.czi:  94%|█████████████████████████████████▊  | 552/588 [04:47<00:12,  2.84it/s]\u001b[A\n",
      "Processing 2023_05_22_Pyl-OB_010_small.czi:  94%|█████████████████████████████████▊  | 553/588 [04:50<00:35,  1.02s/it]\u001b[A\n",
      "Processing 2023_05_22_Pyl-OB_010_small.czi:  94%|█████████████████████████████████▉  | 554/588 [04:50<00:27,  1.24it/s]\u001b[A\n",
      "Processing 2023_05_22_Pyl-OB_010_small.czi:  94%|█████████████████████████████████▉  | 555/588 [04:51<00:21,  1.51it/s]\u001b[A\n",
      "Processing 2023_05_22_Pyl-OB_010_small.czi:  95%|██████████████████████████████████  | 556/588 [04:51<00:17,  1.79it/s]\u001b[A\n",
      "Processing 2023_05_22_Pyl-OB_010_small.czi:  95%|██████████████████████████████████  | 557/588 [04:51<00:14,  2.08it/s]\u001b[A\n",
      "Processing 2023_05_22_Pyl-OB_010_small.czi:  95%|██████████████████████████████████▏ | 558/588 [04:51<00:12,  2.32it/s]\u001b[A\n",
      "Processing 2023_05_22_Pyl-OB_010_small.czi:  95%|██████████████████████████████████▏ | 559/588 [04:52<00:11,  2.52it/s]\u001b[A\n",
      "Processing 2023_05_22_Pyl-OB_010_small.czi:  95%|██████████████████████████████████▎ | 560/588 [04:52<00:10,  2.65it/s]\u001b[A\n",
      "Processing 2023_05_22_Pyl-OB_010_small.czi:  95%|██████████████████████████████████▎ | 561/588 [04:52<00:09,  2.77it/s]\u001b[A\n",
      "Processing 2023_05_22_Pyl-OB_010_small.czi:  96%|██████████████████████████████████▍ | 562/588 [04:53<00:08,  2.90it/s]\u001b[A\n",
      "Processing 2023_05_22_Pyl-OB_010_small.czi:  96%|██████████████████████████████████▍ | 563/588 [04:53<00:08,  2.98it/s]\u001b[A\n",
      "Processing 2023_05_22_Pyl-OB_010_small.czi:  96%|██████████████████████████████████▌ | 564/588 [04:53<00:08,  2.89it/s]\u001b[A\n",
      "Processing 2023_05_22_Pyl-OB_010_small.czi:  96%|██████████████████████████████████▌ | 565/588 [04:56<00:22,  1.03it/s]\u001b[A\n",
      "Processing 2023_05_22_Pyl-OB_010_small.czi:  96%|██████████████████████████████████▋ | 566/588 [04:56<00:16,  1.29it/s]\u001b[A\n",
      "Processing 2023_05_22_Pyl-OB_010_small.czi:  96%|██████████████████████████████████▋ | 567/588 [04:56<00:13,  1.58it/s]\u001b[A\n",
      "Processing 2023_05_22_Pyl-OB_010_small.czi:  97%|██████████████████████████████████▊ | 568/588 [04:57<00:10,  1.86it/s]\u001b[A\n",
      "Processing 2023_05_22_Pyl-OB_010_small.czi:  97%|██████████████████████████████████▊ | 569/588 [04:57<00:08,  2.14it/s]\u001b[A\n",
      "Processing 2023_05_22_Pyl-OB_010_small.czi:  97%|██████████████████████████████████▉ | 570/588 [04:57<00:07,  2.38it/s]\u001b[A\n",
      "Processing 2023_05_22_Pyl-OB_010_small.czi:  97%|██████████████████████████████████▉ | 571/588 [04:58<00:06,  2.55it/s]\u001b[A\n",
      "Processing 2023_05_22_Pyl-OB_010_small.czi:  97%|███████████████████████████████████ | 572/588 [04:58<00:05,  2.70it/s]\u001b[A\n",
      "Processing 2023_05_22_Pyl-OB_010_small.czi:  97%|███████████████████████████████████ | 573/588 [04:58<00:05,  2.79it/s]\u001b[A\n",
      "Processing 2023_05_22_Pyl-OB_010_small.czi:  98%|███████████████████████████████████▏| 574/588 [04:59<00:04,  2.91it/s]\u001b[A\n",
      "Processing 2023_05_22_Pyl-OB_010_small.czi:  98%|███████████████████████████████████▏| 575/588 [04:59<00:04,  2.93it/s]\u001b[A\n",
      "Processing 2023_05_22_Pyl-OB_010_small.czi:  98%|███████████████████████████████████▎| 576/588 [04:59<00:04,  2.91it/s]\u001b[A\n",
      "Processing 2023_05_22_Pyl-OB_010_small.czi:  98%|███████████████████████████████████▎| 577/588 [05:02<00:11,  1.00s/it]\u001b[A\n",
      "Processing 2023_05_22_Pyl-OB_010_small.czi:  98%|███████████████████████████████████▍| 578/588 [05:02<00:07,  1.26it/s]\u001b[A\n",
      "Processing 2023_05_22_Pyl-OB_010_small.czi:  98%|███████████████████████████████████▍| 579/588 [05:03<00:05,  1.51it/s]\u001b[A\n",
      "Processing 2023_05_22_Pyl-OB_010_small.czi:  99%|███████████████████████████████████▌| 580/588 [05:03<00:04,  1.79it/s]\u001b[A\n",
      "Processing 2023_05_22_Pyl-OB_010_small.czi:  99%|███████████████████████████████████▌| 581/588 [05:03<00:03,  2.06it/s]\u001b[A\n",
      "Processing 2023_05_22_Pyl-OB_010_small.czi:  99%|███████████████████████████████████▋| 582/588 [05:04<00:02,  2.26it/s]\u001b[A\n",
      "Processing 2023_05_22_Pyl-OB_010_small.czi:  99%|███████████████████████████████████▋| 583/588 [05:04<00:02,  2.44it/s]\u001b[A\n",
      "Processing 2023_05_22_Pyl-OB_010_small.czi:  99%|███████████████████████████████████▊| 584/588 [05:04<00:01,  2.64it/s]\u001b[A\n",
      "Processing 2023_05_22_Pyl-OB_010_small.czi:  99%|███████████████████████████████████▊| 585/588 [05:04<00:01,  2.74it/s]\u001b[A\n",
      "Processing 2023_05_22_Pyl-OB_010_small.czi: 100%|███████████████████████████████████▉| 586/588 [05:05<00:00,  2.86it/s]\u001b[A\n",
      "Processing 2023_05_22_Pyl-OB_010_small.czi: 100%|███████████████████████████████████▉| 587/588 [05:05<00:00,  2.95it/s]\u001b[A\n",
      "Processing 2023_05_22_Pyl-OB_010_small.czi: 100%|████████████████████████████████████| 588/588 [05:05<00:00,  1.92it/s]\u001b[A"
     ]
    },
    {
     "name": "stdout",
     "output_type": "stream",
     "text": [
      "CPU times: total: 11min 58s\n",
      "Wall time: 5min 9s\n"
     ]
    },
    {
     "name": "stderr",
     "output_type": "stream",
     "text": [
      "\n"
     ]
    }
   ],
   "source": [
    "%%time\n",
    "# # czi_file_path = '../../230518_ML_pyl_OB/2023_05_21_Pyl-OB_001.czi'\n",
    "# # name = \"2023_05_21_Pyl-OB_001\"\n",
    "\n",
    "# # test\n",
    "czi_file_path = '../../test/2023_05_22_Pyl-OB_010_small.czi'\n",
    "output_folder = \"output\"\n",
    "\n",
    "# # Usage example:\n",
    "# # czi_file_path = '../../230518_ML_pyl_OB/2023_05_22_Pyl-OB_024.czi'\n",
    "# # output_folder = \"2023_05_22_Pyl-OB_024\"\n",
    "\n",
    "# # czi_file_path = '../../230518_ML_pyl_OB/2023_05_22_Pyl-OB_023.czi'\n",
    "# # output_folder = \"2023_05_22_Pyl-OB_023\"\n",
    "\n",
    "subpart_size = [1600, 1920]\n",
    "process_czi_file(czi_file_path, output_folder,subpart_size)"
   ]
  },
  {
   "cell_type": "code",
   "execution_count": 11,
   "metadata": {},
   "outputs": [
    {
     "name": "stderr",
     "output_type": "stream",
     "text": [
      "Processing 2023_05_21_Pyl-OB_001.czi:  46%|███████████████▋                  | 18362/39690 [3:35:09<4:09:54,  1.42it/s]\n"
     ]
    },
    {
     "ename": "NameError",
     "evalue": "name 'xxx' is not defined",
     "output_type": "error",
     "traceback": [
      "\u001b[1;31m---------------------------------------------------------------------------\u001b[0m",
      "\u001b[1;31mNameError\u001b[0m                                 Traceback (most recent call last)",
      "Cell \u001b[1;32mIn[11], line 1\u001b[0m\n\u001b[1;32m----> 1\u001b[0m \u001b[43mxxx\u001b[49m\n",
      "\u001b[1;31mNameError\u001b[0m: name 'xxx' is not defined"
     ]
    }
   ],
   "source": [
    "xxx"
   ]
  },
  {
   "cell_type": "code",
   "execution_count": null,
   "metadata": {
    "tags": []
   },
   "outputs": [],
   "source": [
    " czi_file_path = '../../230518_ML_pyl_OB/2023_05_22_Pyl-OB_024.czi'\n",
    "img = AICSImage(czi_file_path)\n",
    "\n",
    "    # Read the metadata\n",
    "metadata = img.metadata"
   ]
  },
  {
   "cell_type": "code",
   "execution_count": null,
   "metadata": {},
   "outputs": [],
   "source": []
  },
  {
   "cell_type": "code",
   "execution_count": null,
   "metadata": {
    "tags": []
   },
   "outputs": [],
   "source": [
    "import aicsimageio"
   ]
  },
  {
   "cell_type": "code",
   "execution_count": null,
   "metadata": {
    "tags": []
   },
   "outputs": [],
   "source": [
    "czi2 = aicsimageio.readers.czi_reader.CziReader(czi_file_path)\n",
    "met = czi2.metadata"
   ]
  },
  {
   "cell_type": "code",
   "execution_count": null,
   "metadata": {},
   "outputs": [],
   "source": []
  }
 ],
 "metadata": {
  "colab": {
   "provenance": []
  },
  "kernelspec": {
   "display_name": "Python 3 (ipykernel)",
   "language": "python",
   "name": "python3"
  },
  "language_info": {
   "codemirror_mode": {
    "name": "ipython",
    "version": 3
   },
   "file_extension": ".py",
   "mimetype": "text/x-python",
   "name": "python",
   "nbconvert_exporter": "python",
   "pygments_lexer": "ipython3",
   "version": "3.10.13"
  }
 },
 "nbformat": 4,
 "nbformat_minor": 4
}
