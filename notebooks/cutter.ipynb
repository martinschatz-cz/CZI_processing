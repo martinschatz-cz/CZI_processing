{
 "cells": [
  {
   "cell_type": "code",
   "execution_count": 6,
   "metadata": {
    "id": "Iggh2KY-zPTG"
   },
   "outputs": [
    {
     "name": "stdout",
     "output_type": "stream",
     "text": [
      "Requirement already satisfied: aicsimageio in c:\\users\\schatzm\\anaconda3\\envs\\devbio-napari\\lib\\site-packages (4.12.1)\n",
      "Requirement already satisfied: bioformats_jar in c:\\users\\schatzm\\anaconda3\\envs\\devbio-napari\\lib\\site-packages (2020.5.27)\n",
      "Requirement already satisfied: ome-types>=0.3.4 in c:\\users\\schatzm\\anaconda3\\envs\\devbio-napari\\lib\\site-packages (from aicsimageio) (0.4.2)\n",
      "Requirement already satisfied: fsspec>=2022.8.0 in c:\\users\\schatzm\\anaconda3\\envs\\devbio-napari\\lib\\site-packages (from aicsimageio) (2022.8.2)\n",
      "Requirement already satisfied: PyYAML>=6.0 in c:\\users\\schatzm\\anaconda3\\envs\\devbio-napari\\lib\\site-packages (from aicsimageio) (6.0)\n",
      "Requirement already satisfied: xarray<2023.02.0,>=0.16.1 in c:\\users\\schatzm\\anaconda3\\envs\\devbio-napari\\lib\\site-packages (from aicsimageio) (2023.1.0)\n",
      "Requirement already satisfied: xmlschema in c:\\users\\schatzm\\anaconda3\\envs\\devbio-napari\\lib\\site-packages (from aicsimageio) (2.4.0)\n",
      "Requirement already satisfied: zarr<3,>=2.6 in c:\\users\\schatzm\\anaconda3\\envs\\devbio-napari\\lib\\site-packages (from aicsimageio) (2.13.3)\n",
      "Requirement already satisfied: imagecodecs>=2020.5.30 in c:\\users\\schatzm\\anaconda3\\envs\\devbio-napari\\lib\\site-packages (from aicsimageio) (2022.9.26)\n",
      "Requirement already satisfied: ome-zarr>=0.6.1 in c:\\users\\schatzm\\anaconda3\\envs\\devbio-napari\\lib\\site-packages (from aicsimageio) (0.8.0)\n",
      "Requirement already satisfied: dask[array]<=2023.5.0,>=2021.4.1 in c:\\users\\schatzm\\anaconda3\\envs\\devbio-napari\\lib\\site-packages (from aicsimageio) (2022.9.2)\n",
      "Requirement already satisfied: resource-backed-dask-array>=0.1.0 in c:\\users\\schatzm\\anaconda3\\envs\\devbio-napari\\lib\\site-packages (from aicsimageio) (0.1.0)\n",
      "Requirement already satisfied: lxml<5,>=4.6 in c:\\users\\schatzm\\anaconda3\\envs\\devbio-napari\\lib\\site-packages (from aicsimageio) (4.9.3)\n",
      "Requirement already satisfied: tifffile>=2021.8.30 in c:\\users\\schatzm\\anaconda3\\envs\\devbio-napari\\lib\\site-packages (from aicsimageio) (2022.10.10)\n",
      "Requirement already satisfied: wrapt>=1.12 in c:\\users\\schatzm\\anaconda3\\envs\\devbio-napari\\lib\\site-packages (from aicsimageio) (1.14.1)\n",
      "Requirement already satisfied: numpy<=1.24.0,>=1.16 in c:\\users\\schatzm\\anaconda3\\envs\\devbio-napari\\lib\\site-packages (from aicsimageio) (1.23.3)\n",
      "Requirement already satisfied: scyjava in c:\\users\\schatzm\\anaconda3\\envs\\devbio-napari\\lib\\site-packages (from bioformats_jar) (1.9.1)\n",
      "Requirement already satisfied: packaging>=20.0 in c:\\users\\schatzm\\anaconda3\\envs\\devbio-napari\\lib\\site-packages (from dask[array]<=2023.5.0,>=2021.4.1->aicsimageio) (21.3)\n",
      "Requirement already satisfied: toolz>=0.8.2 in c:\\users\\schatzm\\anaconda3\\envs\\devbio-napari\\lib\\site-packages (from dask[array]<=2023.5.0,>=2021.4.1->aicsimageio) (0.12.0)\n",
      "Requirement already satisfied: cloudpickle>=1.1.1 in c:\\users\\schatzm\\anaconda3\\envs\\devbio-napari\\lib\\site-packages (from dask[array]<=2023.5.0,>=2021.4.1->aicsimageio) (2.2.0)\n",
      "Requirement already satisfied: partd>=0.3.10 in c:\\users\\schatzm\\anaconda3\\envs\\devbio-napari\\lib\\site-packages (from dask[array]<=2023.5.0,>=2021.4.1->aicsimageio) (1.3.0)\n",
      "Requirement already satisfied: xsdata>=23.5 in c:\\users\\schatzm\\anaconda3\\envs\\devbio-napari\\lib\\site-packages (from ome-types>=0.3.4->aicsimageio) (23.8)\n",
      "Requirement already satisfied: pydantic>=1.9.0 in c:\\users\\schatzm\\anaconda3\\envs\\devbio-napari\\lib\\site-packages (from ome-types>=0.3.4->aicsimageio) (1.10.2)\n",
      "Requirement already satisfied: distributed in c:\\users\\schatzm\\anaconda3\\envs\\devbio-napari\\lib\\site-packages (from ome-zarr>=0.6.1->aicsimageio) (2022.9.2)\n",
      "Requirement already satisfied: aiohttp<4 in c:\\users\\schatzm\\anaconda3\\envs\\devbio-napari\\lib\\site-packages (from ome-zarr>=0.6.1->aicsimageio) (3.8.3)\n",
      "Requirement already satisfied: requests in c:\\users\\schatzm\\anaconda3\\envs\\devbio-napari\\lib\\site-packages (from ome-zarr>=0.6.1->aicsimageio) (2.28.1)\n",
      "Requirement already satisfied: scikit-image in c:\\users\\schatzm\\anaconda3\\envs\\devbio-napari\\lib\\site-packages (from ome-zarr>=0.6.1->aicsimageio) (0.19.3)\n",
      "Requirement already satisfied: typing-extensions in c:\\users\\schatzm\\anaconda3\\envs\\devbio-napari\\lib\\site-packages (from resource-backed-dask-array>=0.1.0->aicsimageio) (4.4.0)\n",
      "Requirement already satisfied: pandas>=1.3 in c:\\users\\schatzm\\anaconda3\\envs\\devbio-napari\\lib\\site-packages (from xarray<2023.02.0,>=0.16.1->aicsimageio) (1.5.0)\n",
      "Requirement already satisfied: fasteners in c:\\users\\schatzm\\anaconda3\\envs\\devbio-napari\\lib\\site-packages (from zarr<3,>=2.6->aicsimageio) (0.17.3)\n",
      "Requirement already satisfied: asciitree in c:\\users\\schatzm\\anaconda3\\envs\\devbio-napari\\lib\\site-packages (from zarr<3,>=2.6->aicsimageio) (0.3.3)\n",
      "Requirement already satisfied: numcodecs>=0.10.0 in c:\\users\\schatzm\\anaconda3\\envs\\devbio-napari\\lib\\site-packages (from zarr<3,>=2.6->aicsimageio) (0.10.2)\n",
      "Requirement already satisfied: jpype1>=1.3.0 in c:\\users\\schatzm\\anaconda3\\envs\\devbio-napari\\lib\\site-packages (from scyjava->bioformats_jar) (1.4.1)\n",
      "Requirement already satisfied: jgo in c:\\users\\schatzm\\anaconda3\\envs\\devbio-napari\\lib\\site-packages (from scyjava->bioformats_jar) (1.0.5)\n",
      "Requirement already satisfied: elementpath<5.0.0,>=4.1.5 in c:\\users\\schatzm\\anaconda3\\envs\\devbio-napari\\lib\\site-packages (from xmlschema->aicsimageio) (4.1.5)\n",
      "Requirement already satisfied: async-timeout<5.0,>=4.0.0a3 in c:\\users\\schatzm\\anaconda3\\envs\\devbio-napari\\lib\\site-packages (from aiohttp<4->ome-zarr>=0.6.1->aicsimageio) (4.0.2)\n",
      "Requirement already satisfied: frozenlist>=1.1.1 in c:\\users\\schatzm\\anaconda3\\envs\\devbio-napari\\lib\\site-packages (from aiohttp<4->ome-zarr>=0.6.1->aicsimageio) (1.3.1)\n",
      "Requirement already satisfied: multidict<7.0,>=4.5 in c:\\users\\schatzm\\anaconda3\\envs\\devbio-napari\\lib\\site-packages (from aiohttp<4->ome-zarr>=0.6.1->aicsimageio) (6.0.2)\n",
      "Requirement already satisfied: charset-normalizer<3.0,>=2.0 in c:\\users\\schatzm\\anaconda3\\envs\\devbio-napari\\lib\\site-packages (from aiohttp<4->ome-zarr>=0.6.1->aicsimageio) (2.1.1)\n",
      "Requirement already satisfied: yarl<2.0,>=1.0 in c:\\users\\schatzm\\anaconda3\\envs\\devbio-napari\\lib\\site-packages (from aiohttp<4->ome-zarr>=0.6.1->aicsimageio) (1.8.1)\n",
      "Requirement already satisfied: attrs>=17.3.0 in c:\\users\\schatzm\\anaconda3\\envs\\devbio-napari\\lib\\site-packages (from aiohttp<4->ome-zarr>=0.6.1->aicsimageio) (22.1.0)\n",
      "Requirement already satisfied: aiosignal>=1.1.2 in c:\\users\\schatzm\\anaconda3\\envs\\devbio-napari\\lib\\site-packages (from aiohttp<4->ome-zarr>=0.6.1->aicsimageio) (1.2.0)\n",
      "Requirement already satisfied: s3fs in c:\\users\\schatzm\\anaconda3\\envs\\devbio-napari\\lib\\site-packages (from fsspec>=2022.8.0->aicsimageio) (2022.8.2)\n",
      "Requirement already satisfied: entrypoints in c:\\users\\schatzm\\anaconda3\\envs\\devbio-napari\\lib\\site-packages (from numcodecs>=0.10.0->zarr<3,>=2.6->aicsimageio) (0.4)\n",
      "Requirement already satisfied: pyparsing!=3.0.5,>=2.0.2 in c:\\users\\schatzm\\anaconda3\\envs\\devbio-napari\\lib\\site-packages (from packaging>=20.0->dask[array]<=2023.5.0,>=2021.4.1->aicsimageio) (3.0.9)\n",
      "Requirement already satisfied: pytz>=2020.1 in c:\\users\\schatzm\\anaconda3\\envs\\devbio-napari\\lib\\site-packages (from pandas>=1.3->xarray<2023.02.0,>=0.16.1->aicsimageio) (2022.4)\n",
      "Requirement already satisfied: python-dateutil>=2.8.1 in c:\\users\\schatzm\\anaconda3\\envs\\devbio-napari\\lib\\site-packages (from pandas>=1.3->xarray<2023.02.0,>=0.16.1->aicsimageio) (2.8.2)\n",
      "Requirement already satisfied: locket in c:\\users\\schatzm\\anaconda3\\envs\\devbio-napari\\lib\\site-packages (from partd>=0.3.10->dask[array]<=2023.5.0,>=2021.4.1->aicsimageio) (1.0.0)\n",
      "Requirement already satisfied: tornado<6.2,>=6.0.3 in c:\\users\\schatzm\\anaconda3\\envs\\devbio-napari\\lib\\site-packages (from distributed->ome-zarr>=0.6.1->aicsimageio) (6.1)\n",
      "Requirement already satisfied: urllib3 in c:\\users\\schatzm\\anaconda3\\envs\\devbio-napari\\lib\\site-packages (from distributed->ome-zarr>=0.6.1->aicsimageio) (1.26.11)\n",
      "Requirement already satisfied: msgpack>=0.6.0 in c:\\users\\schatzm\\anaconda3\\envs\\devbio-napari\\lib\\site-packages (from distributed->ome-zarr>=0.6.1->aicsimageio) (1.0.4)\n",
      "Requirement already satisfied: zict>=0.1.3 in c:\\users\\schatzm\\anaconda3\\envs\\devbio-napari\\lib\\site-packages (from distributed->ome-zarr>=0.6.1->aicsimageio) (2.2.0)\n",
      "Requirement already satisfied: jinja2 in c:\\users\\schatzm\\anaconda3\\envs\\devbio-napari\\lib\\site-packages (from distributed->ome-zarr>=0.6.1->aicsimageio) (3.1.2)\n",
      "Requirement already satisfied: psutil>=5.0 in c:\\users\\schatzm\\anaconda3\\envs\\devbio-napari\\lib\\site-packages (from distributed->ome-zarr>=0.6.1->aicsimageio) (5.9.2)\n",
      "Requirement already satisfied: sortedcontainers!=2.0.0,!=2.0.1 in c:\\users\\schatzm\\anaconda3\\envs\\devbio-napari\\lib\\site-packages (from distributed->ome-zarr>=0.6.1->aicsimageio) (2.4.0)\n",
      "Requirement already satisfied: click>=6.6 in c:\\users\\schatzm\\anaconda3\\envs\\devbio-napari\\lib\\site-packages (from distributed->ome-zarr>=0.6.1->aicsimageio) (8.1.3)\n",
      "Requirement already satisfied: tblib>=1.6.0 in c:\\users\\schatzm\\anaconda3\\envs\\devbio-napari\\lib\\site-packages (from distributed->ome-zarr>=0.6.1->aicsimageio) (1.7.0)\n",
      "Requirement already satisfied: certifi>=2017.4.17 in c:\\users\\schatzm\\anaconda3\\envs\\devbio-napari\\lib\\site-packages (from requests->ome-zarr>=0.6.1->aicsimageio) (2022.9.24)\n",
      "Requirement already satisfied: idna<4,>=2.5 in c:\\users\\schatzm\\anaconda3\\envs\\devbio-napari\\lib\\site-packages (from requests->ome-zarr>=0.6.1->aicsimageio) (3.4)\n",
      "Requirement already satisfied: PyWavelets>=1.1.1 in c:\\users\\schatzm\\anaconda3\\envs\\devbio-napari\\lib\\site-packages (from scikit-image->ome-zarr>=0.6.1->aicsimageio) (1.3.0)\n",
      "Requirement already satisfied: imageio>=2.4.1 in c:\\users\\schatzm\\anaconda3\\envs\\devbio-napari\\lib\\site-packages (from scikit-image->ome-zarr>=0.6.1->aicsimageio) (2.22.0)\n",
      "Requirement already satisfied: networkx>=2.2 in c:\\users\\schatzm\\anaconda3\\envs\\devbio-napari\\lib\\site-packages (from scikit-image->ome-zarr>=0.6.1->aicsimageio) (2.8.7)\n",
      "Requirement already satisfied: scipy>=1.4.1 in c:\\users\\schatzm\\anaconda3\\envs\\devbio-napari\\lib\\site-packages (from scikit-image->ome-zarr>=0.6.1->aicsimageio) (1.9.1)\n",
      "Requirement already satisfied: pillow!=7.1.0,!=7.1.1,!=8.3.0,>=6.1.0 in c:\\users\\schatzm\\anaconda3\\envs\\devbio-napari\\lib\\site-packages (from scikit-image->ome-zarr>=0.6.1->aicsimageio) (9.2.0)\n",
      "Requirement already satisfied: colorama in c:\\users\\schatzm\\anaconda3\\envs\\devbio-napari\\lib\\site-packages (from click>=6.6->distributed->ome-zarr>=0.6.1->aicsimageio) (0.4.5)\n",
      "Requirement already satisfied: six>=1.5 in c:\\users\\schatzm\\anaconda3\\envs\\devbio-napari\\lib\\site-packages (from python-dateutil>=2.8.1->pandas>=1.3->xarray<2023.02.0,>=0.16.1->aicsimageio) (1.16.0)\n",
      "Requirement already satisfied: heapdict in c:\\users\\schatzm\\anaconda3\\envs\\devbio-napari\\lib\\site-packages (from zict>=0.1.3->distributed->ome-zarr>=0.6.1->aicsimageio) (1.0.1)\n",
      "Requirement already satisfied: MarkupSafe>=2.0 in c:\\users\\schatzm\\anaconda3\\envs\\devbio-napari\\lib\\site-packages (from jinja2->distributed->ome-zarr>=0.6.1->aicsimageio) (2.1.1)\n",
      "Requirement already satisfied: aiobotocore~=2.4.0 in c:\\users\\schatzm\\anaconda3\\envs\\devbio-napari\\lib\\site-packages (from s3fs->fsspec>=2022.8.0->aicsimageio) (2.4.2)\n",
      "Requirement already satisfied: botocore<1.27.60,>=1.27.59 in c:\\users\\schatzm\\anaconda3\\envs\\devbio-napari\\lib\\site-packages (from aiobotocore~=2.4.0->s3fs->fsspec>=2022.8.0->aicsimageio) (1.27.59)\n",
      "Requirement already satisfied: aioitertools>=0.5.1 in c:\\users\\schatzm\\anaconda3\\envs\\devbio-napari\\lib\\site-packages (from aiobotocore~=2.4.0->s3fs->fsspec>=2022.8.0->aicsimageio) (0.11.0)\n",
      "Requirement already satisfied: jmespath<2.0.0,>=0.7.1 in c:\\users\\schatzm\\anaconda3\\envs\\devbio-napari\\lib\\site-packages (from botocore<1.27.60,>=1.27.59->aiobotocore~=2.4.0->s3fs->fsspec>=2022.8.0->aicsimageio) (1.0.1)\n"
     ]
    }
   ],
   "source": [
    "!pip install aicsimageio bioformats_jar"
   ]
  },
  {
   "cell_type": "code",
   "execution_count": 7,
   "metadata": {},
   "outputs": [],
   "source": [
    "!pip install aicspylibczi>=3.1.1 fsspec>=2022.8.0"
   ]
  },
  {
   "cell_type": "code",
   "execution_count": 8,
   "metadata": {
    "colab": {
     "base_uri": "https://localhost:8080/",
     "height": 383
    },
    "id": "p04JoWi4zENl",
    "outputId": "6661bd35-b33a-4908-f924-3cd043658403",
    "tags": []
   },
   "outputs": [],
   "source": [
    "from aicsimageio import AICSImage\n",
    "import os"
   ]
  },
  {
   "cell_type": "code",
   "execution_count": 9,
   "metadata": {
    "id": "3q_ZFA0rzB4l"
   },
   "outputs": [
    {
     "ename": "ValueError",
     "evalue": "shape mismatch: value array of shape (666, 872, 3) could not be broadcast to indexing result of shape (666, 1600, 3)",
     "output_type": "error",
     "traceback": [
      "\u001b[1;31m---------------------------------------------------------------------------\u001b[0m",
      "\u001b[1;31mValueError\u001b[0m                                Traceback (most recent call last)",
      "Cell \u001b[1;32mIn [9], line 14\u001b[0m\n\u001b[0;32m      9\u001b[0m subpart_height \u001b[38;5;241m=\u001b[39m \u001b[38;5;241m600\u001b[39m\n\u001b[0;32m     11\u001b[0m \u001b[38;5;66;03m# Get the shape of the CZI file\u001b[39;00m\n\u001b[0;32m     12\u001b[0m \u001b[38;5;66;03m#image_shape = czi_image.shape\u001b[39;00m\n\u001b[1;32m---> 14\u001b[0m \u001b[43mczi_image\u001b[49m\u001b[38;5;241;43m.\u001b[39;49m\u001b[43mdims\u001b[49m  \u001b[38;5;66;03m# returns a Dimensions object\u001b[39;00m\n\u001b[0;32m     15\u001b[0m czi_image\u001b[38;5;241m.\u001b[39mdims\u001b[38;5;241m.\u001b[39morder  \u001b[38;5;66;03m# returns string \"TCZYX\"\u001b[39;00m\n\u001b[0;32m     16\u001b[0m czi_image\u001b[38;5;241m.\u001b[39mdims\u001b[38;5;241m.\u001b[39mX  \u001b[38;5;66;03m# returns size of X dimension\u001b[39;00m\n",
      "File \u001b[1;32m~\\Anaconda3\\envs\\devbio-napari\\lib\\site-packages\\aicsimageio\\aics_image.py:574\u001b[0m, in \u001b[0;36mAICSImage.dims\u001b[1;34m(self)\u001b[0m\n\u001b[0;32m    566\u001b[0m \u001b[38;5;124;03m\"\"\"\u001b[39;00m\n\u001b[0;32m    567\u001b[0m \u001b[38;5;124;03mReturns\u001b[39;00m\n\u001b[0;32m    568\u001b[0m \u001b[38;5;124;03m-------\u001b[39;00m\n\u001b[0;32m    569\u001b[0m \u001b[38;5;124;03mdims: dimensions.Dimensions\u001b[39;00m\n\u001b[0;32m    570\u001b[0m \u001b[38;5;124;03m    Object with the paired dimension names and their sizes.\u001b[39;00m\n\u001b[0;32m    571\u001b[0m \u001b[38;5;124;03m\"\"\"\u001b[39;00m\n\u001b[0;32m    572\u001b[0m \u001b[38;5;28;01mif\u001b[39;00m \u001b[38;5;28mself\u001b[39m\u001b[38;5;241m.\u001b[39m_dims \u001b[38;5;129;01mis\u001b[39;00m \u001b[38;5;28;01mNone\u001b[39;00m:\n\u001b[0;32m    573\u001b[0m     \u001b[38;5;28mself\u001b[39m\u001b[38;5;241m.\u001b[39m_dims \u001b[38;5;241m=\u001b[39m dimensions\u001b[38;5;241m.\u001b[39mDimensions(\n\u001b[1;32m--> 574\u001b[0m         dims\u001b[38;5;241m=\u001b[39m\u001b[38;5;28;43mself\u001b[39;49m\u001b[38;5;241;43m.\u001b[39;49m\u001b[43mxarray_dask_data\u001b[49m\u001b[38;5;241m.\u001b[39mdims, shape\u001b[38;5;241m=\u001b[39m\u001b[38;5;28mself\u001b[39m\u001b[38;5;241m.\u001b[39mshape\n\u001b[0;32m    575\u001b[0m     )\n\u001b[0;32m    577\u001b[0m \u001b[38;5;28;01mreturn\u001b[39;00m \u001b[38;5;28mself\u001b[39m\u001b[38;5;241m.\u001b[39m_dims\n",
      "File \u001b[1;32m~\\Anaconda3\\envs\\devbio-napari\\lib\\site-packages\\aicsimageio\\aics_image.py:443\u001b[0m, in \u001b[0;36mAICSImage.xarray_dask_data\u001b[1;34m(self)\u001b[0m\n\u001b[0;32m    434\u001b[0m \u001b[38;5;28;01mif\u001b[39;00m (\n\u001b[0;32m    435\u001b[0m     \u001b[38;5;66;03m# Does the user want to get stitched mosaic\u001b[39;00m\n\u001b[0;32m    436\u001b[0m     \u001b[38;5;28mself\u001b[39m\u001b[38;5;241m.\u001b[39m_reconstruct_mosaic\n\u001b[0;32m    437\u001b[0m     \u001b[38;5;66;03m# Does the data have a tile dim\u001b[39;00m\n\u001b[0;32m    438\u001b[0m     \u001b[38;5;129;01mand\u001b[39;00m dimensions\u001b[38;5;241m.\u001b[39mDimensionNames\u001b[38;5;241m.\u001b[39mMosaicTile \u001b[38;5;129;01min\u001b[39;00m \u001b[38;5;28mself\u001b[39m\u001b[38;5;241m.\u001b[39mreader\u001b[38;5;241m.\u001b[39mdims\u001b[38;5;241m.\u001b[39morder\n\u001b[0;32m    439\u001b[0m ):\n\u001b[0;32m    440\u001b[0m     \u001b[38;5;28;01mtry\u001b[39;00m:\n\u001b[0;32m    441\u001b[0m         \u001b[38;5;28mself\u001b[39m\u001b[38;5;241m.\u001b[39m_xarray_dask_data \u001b[38;5;241m=\u001b[39m (\n\u001b[0;32m    442\u001b[0m             \u001b[38;5;28mself\u001b[39m\u001b[38;5;241m.\u001b[39m_transform_data_array_to_aics_image_standard(\n\u001b[1;32m--> 443\u001b[0m                 \u001b[38;5;28;43mself\u001b[39;49m\u001b[38;5;241;43m.\u001b[39;49m\u001b[43mreader\u001b[49m\u001b[38;5;241;43m.\u001b[39;49m\u001b[43mmosaic_xarray_dask_data\u001b[49m\n\u001b[0;32m    444\u001b[0m             )\n\u001b[0;32m    445\u001b[0m         )\n\u001b[0;32m    447\u001b[0m     \u001b[38;5;66;03m# Catch reader does not support tile stitching\u001b[39;00m\n\u001b[0;32m    448\u001b[0m     \u001b[38;5;28;01mexcept\u001b[39;00m \u001b[38;5;167;01mNotImplementedError\u001b[39;00m:\n",
      "File \u001b[1;32m~\\Anaconda3\\envs\\devbio-napari\\lib\\site-packages\\aicsimageio\\readers\\reader.py:431\u001b[0m, in \u001b[0;36mReader.mosaic_xarray_dask_data\u001b[1;34m(self)\u001b[0m\n\u001b[0;32m    429\u001b[0m \u001b[38;5;66;03m# Stitch, store, and return\u001b[39;00m\n\u001b[0;32m    430\u001b[0m \u001b[38;5;28;01mif\u001b[39;00m \u001b[38;5;28mself\u001b[39m\u001b[38;5;241m.\u001b[39m_mosaic_xarray_dask_data \u001b[38;5;129;01mis\u001b[39;00m \u001b[38;5;28;01mNone\u001b[39;00m:\n\u001b[1;32m--> 431\u001b[0m     \u001b[38;5;28mself\u001b[39m\u001b[38;5;241m.\u001b[39m_mosaic_xarray_dask_data \u001b[38;5;241m=\u001b[39m \u001b[38;5;28;43mself\u001b[39;49m\u001b[38;5;241;43m.\u001b[39;49m\u001b[43m_get_stitched_dask_mosaic\u001b[49m\u001b[43m(\u001b[49m\u001b[43m)\u001b[49m\n\u001b[0;32m    433\u001b[0m \u001b[38;5;28;01mreturn\u001b[39;00m \u001b[38;5;28mself\u001b[39m\u001b[38;5;241m.\u001b[39m_mosaic_xarray_dask_data\n",
      "File \u001b[1;32m~\\Anaconda3\\envs\\devbio-napari\\lib\\site-packages\\aicsimageio\\readers\\czi_reader.py:883\u001b[0m, in \u001b[0;36mCziReader._get_stitched_dask_mosaic\u001b[1;34m(self)\u001b[0m\n\u001b[0;32m    882\u001b[0m \u001b[38;5;28;01mdef\u001b[39;00m \u001b[38;5;21m_get_stitched_dask_mosaic\u001b[39m(\u001b[38;5;28mself\u001b[39m) \u001b[38;5;241m-\u001b[39m\u001b[38;5;241m>\u001b[39m xr\u001b[38;5;241m.\u001b[39mDataArray:\n\u001b[1;32m--> 883\u001b[0m     \u001b[38;5;28;01mreturn\u001b[39;00m \u001b[38;5;28;43mself\u001b[39;49m\u001b[38;5;241;43m.\u001b[39;49m\u001b[43m_construct_mosaic_xarray\u001b[49m\u001b[43m(\u001b[49m\u001b[38;5;28;43mself\u001b[39;49m\u001b[38;5;241;43m.\u001b[39;49m\u001b[43mdask_data\u001b[49m\u001b[43m)\u001b[49m\n",
      "File \u001b[1;32m~\\Anaconda3\\envs\\devbio-napari\\lib\\site-packages\\aicsimageio\\readers\\czi_reader.py:836\u001b[0m, in \u001b[0;36mCziReader._construct_mosaic_xarray\u001b[1;34m(self, data)\u001b[0m\n\u001b[0;32m    831\u001b[0m mosaic_scene_bbox \u001b[38;5;241m=\u001b[39m czi\u001b[38;5;241m.\u001b[39mget_mosaic_scene_bounding_box(\n\u001b[0;32m    832\u001b[0m     index\u001b[38;5;241m=\u001b[39m\u001b[38;5;28mself\u001b[39m\u001b[38;5;241m.\u001b[39mcurrent_scene_index\n\u001b[0;32m    833\u001b[0m )\n\u001b[0;32m    835\u001b[0m \u001b[38;5;66;03m# Stitch\u001b[39;00m\n\u001b[1;32m--> 836\u001b[0m stitched \u001b[38;5;241m=\u001b[39m \u001b[38;5;28;43mself\u001b[39;49m\u001b[38;5;241;43m.\u001b[39;49m\u001b[43m_stitch_tiles\u001b[49m\u001b[43m(\u001b[49m\n\u001b[0;32m    837\u001b[0m \u001b[43m    \u001b[49m\u001b[43mdata\u001b[49m\u001b[38;5;241;43m=\u001b[39;49m\u001b[43mdata\u001b[49m\u001b[43m,\u001b[49m\n\u001b[0;32m    838\u001b[0m \u001b[43m    \u001b[49m\u001b[43mdata_dims\u001b[49m\u001b[38;5;241;43m=\u001b[39;49m\u001b[38;5;28;43mself\u001b[39;49m\u001b[38;5;241;43m.\u001b[39;49m\u001b[43mmapped_dims\u001b[49m\u001b[43m,\u001b[49m\n\u001b[0;32m    839\u001b[0m \u001b[43m    \u001b[49m\u001b[43mdata_dims_shape\u001b[49m\u001b[38;5;241;43m=\u001b[39;49m\u001b[43mdims_shape\u001b[49m\u001b[43m,\u001b[49m\n\u001b[0;32m    840\u001b[0m \u001b[43m    \u001b[49m\u001b[43mtile_bboxes\u001b[49m\u001b[38;5;241;43m=\u001b[39;49m\u001b[43mbboxes\u001b[49m\u001b[43m,\u001b[49m\n\u001b[0;32m    841\u001b[0m \u001b[43m    \u001b[49m\u001b[43mfinal_bbox\u001b[49m\u001b[38;5;241;43m=\u001b[39;49m\u001b[43mmosaic_scene_bbox\u001b[49m\u001b[43m,\u001b[49m\n\u001b[0;32m    842\u001b[0m \u001b[43m\u001b[49m\u001b[43m)\u001b[49m\n\u001b[0;32m    844\u001b[0m \u001b[38;5;66;03m# Copy metadata\u001b[39;00m\n\u001b[0;32m    845\u001b[0m dims \u001b[38;5;241m=\u001b[39m [\n\u001b[0;32m    846\u001b[0m     d\n\u001b[0;32m    847\u001b[0m     \u001b[38;5;28;01mfor\u001b[39;00m d \u001b[38;5;129;01min\u001b[39;00m \u001b[38;5;28mself\u001b[39m\u001b[38;5;241m.\u001b[39mxarray_dask_data\u001b[38;5;241m.\u001b[39mdims\n\u001b[0;32m    848\u001b[0m     \u001b[38;5;28;01mif\u001b[39;00m d \u001b[38;5;129;01mis\u001b[39;00m \u001b[38;5;129;01mnot\u001b[39;00m DimensionNames\u001b[38;5;241m.\u001b[39mMosaicTile\n\u001b[0;32m    849\u001b[0m ]\n",
      "File \u001b[1;32m~\\Anaconda3\\envs\\devbio-napari\\lib\\site-packages\\aicsimageio\\readers\\czi_reader.py:816\u001b[0m, in \u001b[0;36mCziReader._stitch_tiles\u001b[1;34m(data, data_dims, data_dims_shape, tile_bboxes, final_bbox)\u001b[0m\n\u001b[0;32m    813\u001b[0m             ans_indexes\u001b[38;5;241m.\u001b[39mappend(\u001b[38;5;28mslice\u001b[39m(\u001b[38;5;28;01mNone\u001b[39;00m))\n\u001b[0;32m    815\u001b[0m     \u001b[38;5;66;03m# Assign the tiles into ans\u001b[39;00m\n\u001b[1;32m--> 816\u001b[0m     \u001b[43mans\u001b[49m\u001b[43m[\u001b[49m\u001b[38;5;28;43mtuple\u001b[39;49m\u001b[43m(\u001b[49m\u001b[43mans_indexes\u001b[49m\u001b[43m)\u001b[49m\u001b[43m]\u001b[49m \u001b[38;5;241m=\u001b[39m data[\u001b[38;5;28mtuple\u001b[39m(data_indexes)]\n\u001b[0;32m    818\u001b[0m \u001b[38;5;28;01mreturn\u001b[39;00m ans\n",
      "File \u001b[1;32m~\\Anaconda3\\envs\\devbio-napari\\lib\\site-packages\\dask\\array\\core.py:1910\u001b[0m, in \u001b[0;36mArray.__setitem__\u001b[1;34m(self, key, value)\u001b[0m\n\u001b[0;32m   1907\u001b[0m value \u001b[38;5;241m=\u001b[39m asanyarray(value)\n\u001b[0;32m   1909\u001b[0m out \u001b[38;5;241m=\u001b[39m \u001b[38;5;124m\"\u001b[39m\u001b[38;5;124msetitem-\u001b[39m\u001b[38;5;124m\"\u001b[39m \u001b[38;5;241m+\u001b[39m tokenize(\u001b[38;5;28mself\u001b[39m, key, value)\n\u001b[1;32m-> 1910\u001b[0m dsk \u001b[38;5;241m=\u001b[39m \u001b[43msetitem_array\u001b[49m\u001b[43m(\u001b[49m\u001b[43mout\u001b[49m\u001b[43m,\u001b[49m\u001b[43m \u001b[49m\u001b[38;5;28;43mself\u001b[39;49m\u001b[43m,\u001b[49m\u001b[43m \u001b[49m\u001b[43mkey\u001b[49m\u001b[43m,\u001b[49m\u001b[43m \u001b[49m\u001b[43mvalue\u001b[49m\u001b[43m)\u001b[49m\n\u001b[0;32m   1912\u001b[0m meta \u001b[38;5;241m=\u001b[39m meta_from_array(\u001b[38;5;28mself\u001b[39m\u001b[38;5;241m.\u001b[39m_meta)\n\u001b[0;32m   1913\u001b[0m \u001b[38;5;28;01mif\u001b[39;00m np\u001b[38;5;241m.\u001b[39misscalar(meta):\n",
      "File \u001b[1;32m~\\Anaconda3\\envs\\devbio-napari\\lib\\site-packages\\dask\\array\\slicing.py:1868\u001b[0m, in \u001b[0;36msetitem_array\u001b[1;34m(out_name, array, indices, value)\u001b[0m\n\u001b[0;32m   1866\u001b[0m         non_broadcast_dimensions\u001b[38;5;241m.\u001b[39mappend(i)\n\u001b[0;32m   1867\u001b[0m     \u001b[38;5;28;01melse\u001b[39;00m:\n\u001b[1;32m-> 1868\u001b[0m         \u001b[38;5;28;01mraise\u001b[39;00m \u001b[38;5;167;01mValueError\u001b[39;00m(\n\u001b[0;32m   1869\u001b[0m             \u001b[38;5;124mf\u001b[39m\u001b[38;5;124m\"\u001b[39m\u001b[38;5;124mshape mismatch: value array of shape \u001b[39m\u001b[38;5;132;01m{\u001b[39;00mvalue_shape\u001b[38;5;132;01m}\u001b[39;00m\u001b[38;5;124m \u001b[39m\u001b[38;5;124m\"\u001b[39m\n\u001b[0;32m   1870\u001b[0m             \u001b[38;5;124m\"\u001b[39m\u001b[38;5;124mcould not be broadcast to indexing result of shape \u001b[39m\u001b[38;5;124m\"\u001b[39m\n\u001b[0;32m   1871\u001b[0m             \u001b[38;5;124mf\u001b[39m\u001b[38;5;124m\"\u001b[39m\u001b[38;5;132;01m{\u001b[39;00m\u001b[38;5;28mtuple\u001b[39m(implied_shape)\u001b[38;5;132;01m}\u001b[39;00m\u001b[38;5;124m\"\u001b[39m\n\u001b[0;32m   1872\u001b[0m         )\n\u001b[0;32m   1874\u001b[0m \u001b[38;5;66;03m# Translate chunks tuple to a set of array locations in product\u001b[39;00m\n\u001b[0;32m   1875\u001b[0m \u001b[38;5;66;03m# order\u001b[39;00m\n\u001b[0;32m   1876\u001b[0m chunks \u001b[38;5;241m=\u001b[39m array\u001b[38;5;241m.\u001b[39mchunks\n",
      "\u001b[1;31mValueError\u001b[0m: shape mismatch: value array of shape (666, 872, 3) could not be broadcast to indexing result of shape (666, 1600, 3)"
     ]
    }
   ],
   "source": [
    "# Path to your CZI file\n",
    "czi_file_path = '../../test/2023_05_22_Pyl-OB_010_small.czi'\n",
    "\n",
    "# Open the CZI file using aicsimageio\n",
    "czi_image = AICSImage(czi_file_path)\n",
    "\n",
    "# Define the size of the subparts\n",
    "subpart_width = 800\n",
    "subpart_height = 600\n",
    "\n",
    "# Get the shape of the CZI file\n",
    "#image_shape = czi_image.shape\n",
    "\n",
    "czi_image.dims  # returns a Dimensions object\n",
    "czi_image.dims.order  # returns string \"TCZYX\"\n",
    "czi_image.dims.X  # returns size of X dimension\n",
    "imczi_imageg.shape  # returns tuple of dimension sizes in TCZYX order\n",
    "\n",
    "# Extract the dimensions from the shape\n",
    "#num_channels, num_zstacks, image_height, image_width = image_shape\n",
    "num_channels = czi_image.dims.C\n",
    "num_zstacks = czi_image.dims.Z\n",
    "image_height = czi_image.dims.Y\n",
    "image_width = czi_image.dims.X\n"
   ]
  },
  {
   "cell_type": "code",
   "execution_count": null,
   "metadata": {
    "id": "-OUBzDzzzbbs"
   },
   "outputs": [],
   "source": [
    "# Iterate through the CZI file to read and save subparts\n",
    "for channel in range(num_channels):\n",
    "    for zstack in range(num_zstacks):\n",
    "        for x in range(0, image_width, subpart_width):\n",
    "            for y in range(0, image_height, subpart_height):\n",
    "                # Read the subpart\n",
    "                subpart = czi_image.get_image_dask_data(c=channel, t=zstack, x=x, y=y,\n",
    "                                                        size_x=subpart_width, size_y=subpart_height)\n",
    "\n",
    "                # Define the output directory and filename\n",
    "                output_dir = 'output/'\n",
    "                os.makedirs(output_dir, exist_ok=True)\n",
    "                output_filename = f'channel_{channel}_zstack_{zstack}_x_{x}_y_{y}.tif'\n",
    "                output_path = os.path.join(output_dir, output_filename)\n",
    "\n",
    "                # Save the subpart as a TIFF file\n",
    "                aicsimageio.writers.OmeTiffWriter.save(output_path, subpart)\n",
    "\n",
    "print(\"Subparts saved successfully!\")"
   ]
  }
 ],
 "metadata": {
  "colab": {
   "provenance": []
  },
  "kernelspec": {
   "display_name": "Python 3 (ipykernel)",
   "language": "python",
   "name": "python3"
  },
  "language_info": {
   "codemirror_mode": {
    "name": "ipython",
    "version": 3
   },
   "file_extension": ".py",
   "mimetype": "text/x-python",
   "name": "python",
   "nbconvert_exporter": "python",
   "pygments_lexer": "ipython3",
   "version": "3.9.13"
  }
 },
 "nbformat": 4,
 "nbformat_minor": 4
}
