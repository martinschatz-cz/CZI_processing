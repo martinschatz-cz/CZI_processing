{
 "cells": [
  {
   "cell_type": "code",
   "execution_count": 1,
   "id": "d3f11203-04db-4003-b196-ef49b7a38130",
   "metadata": {},
   "outputs": [],
   "source": [
    "import tifffile\n",
    "from multiprocessing import Pool\n",
    "from pylibCZIrw import czi as pyczi\n",
    "import numpy as np\n",
    "import os, sys\n",
    "from tqdm import tqdm\n",
    "from tqdm.contrib import itertools as it\n"
   ]
  },
  {
   "cell_type": "code",
   "execution_count": null,
   "id": "de8cdcf2-a1c8-4c7c-b594-428472df417c",
   "metadata": {},
   "outputs": [],
   "source": [
    "class FileProcessor:\n",
    "    def __init__(self, folder_path, output_folder, num_processes=4, roi_width=512, roi_height=512):\n",
    "        self.folder_path = folder_path\n",
    "        self.output_folder = output_folder\n",
    "        self.num_processes = num_processes\n",
    "        self.roi_width = roi_width\n",
    "        self.roi_height = roi_height\n",
    "\n",
    "    def libczi_cutter(self, czifile, name):\n",
    "        if not os.path.exists(self.output_folder):\n",
    "            os.makedirs(self.output_folder)\n",
    "\n",
    "        from cztile.fixed_total_area_strategy import AlmostEqualBorderFixedTotalAreaStrategy2D\n",
    "\n",
    "        tiler = AlmostEqualBorderFixedTotalAreaStrategy2D(\n",
    "            total_tile_width=self.roi_width,\n",
    "            total_tile_height=self.roi_height,\n",
    "            min_border_width=0\n",
    "        )\n",
    "\n",
    "        with pyczi.open_czi(czifile) as czidoc_r:\n",
    "            total_bounding_box = czidoc_r.total_bounding_box\n",
    "            md_xml = czidoc_r.metadata\n",
    "\n",
    "            tiles = tiler.tile_rectangle(czidoc_r.scenes_bounding_rectangle[0])\n",
    "            tile_counter = 0\n",
    "            for tile in tqdm(tiles):\n",
    "                BGR_stack = np.zeros([total_bounding_box['Z'][1], 3, self.roi_height, self.roi_width])\n",
    "\n",
    "                for z in range(0, total_bounding_box['Z'][1]):\n",
    "                    tile2d = czidoc_r.read(\n",
    "                        plane={\"C\": 0, \"Z\": z, \"T\": 0},\n",
    "                        roi=(\n",
    "                            tile.roi.x,\n",
    "                            tile.roi.y,\n",
    "                            tile.roi.w,\n",
    "                            tile.roi.h\n",
    "                        )\n",
    "                    )\n",
    "\n",
    "                    BGR_stack[z, :, :, :] = np.transpose(tile2d, (2, 0, 1))\n",
    "\n",
    "                RGB_stack = np.zeros([total_bounding_box['Z'][1], 3, self.roi_height, self.roi_width])\n",
    "                RGB_stack[:, 0, :, :] = BGR_stack[:, 2, :, :]\n",
    "                RGB_stack[:, 1, :, :] = BGR_stack[:, 1, :, :]\n",
    "                RGB_stack[:, 2, :, :] = BGR_stack[:, 0, :, :]\n",
    "\n",
    "                img_name = name + '_X-{}_Y-{}_stack-{}.tif'.format(tile.roi.x, tile.roi.y, tile_counter)\n",
    "\n",
    "                output_file = os.path.join(self.output_folder, img_name)\n",
    "                tifffile.imwrite(output_file, RGB_stack.astype('uint8'), imagej=False, photometric='rgb',\n",
    "                                 metadata=md_xml)\n",
    "                tile_counter = tile_counter + 1\n",
    "\n",
    "    def process_file(self, file_path):\n",
    "        file_name = os.path.splitext(os.path.basename(file_path))[0]\n",
    "        self.libczi_cutter(file_path, file_name)\n",
    "\n",
    "    def process_folder(self):\n",
    "        files = [os.path.join(self.folder_path, file) for file in os.listdir(self.folder_path)]\n",
    "\n",
    "        with Pool(self.num_processes) as pool:\n",
    "            pool.map(self.process_file, files)\n",
    "\n",
    "if __name__ == \"__main__\":\n",
    "    # Example usage\n",
    "    folder_path = \"/path/to/your/folder\"\n",
    "    output_folder = \"/path/to/your/output/folder\"\n",
    "    num_processes = 4\n",
    "\n",
    "    file_processor = FileProcessor(folder_path, output_folder, num_processes, roi_width=1920, roi_height=1600)\n",
    "    file_processor.process_folder()\n"
   ]
  },
  {
   "cell_type": "code",
   "execution_count": 7,
   "id": "27ade88f-0d1a-4adb-9de7-79ddaefec81a",
   "metadata": {},
   "outputs": [
    {
     "name": "stdout",
     "output_type": "stream",
     "text": [
      "Processing file: C:\\Users\\schatzm\\Documents\\GitHub\\CZI_processing\\libczi_notebook\\.ipynb_checkpoints\n",
      "Processing file: C:\\Users\\schatzm\\Documents\\GitHub\\CZI_processing\\libczi_notebook\\app_test.py\n",
      "Processing file: C:\\Users\\schatzm\\Documents\\GitHub\\CZI_processing\\libczi_notebook\\environment.yml\n",
      "Processing file: C:\\Users\\schatzm\\Documents\\GitHub\\CZI_processing\\libczi_notebook\\libczi_cutter.ipynb\n",
      "Processing file: C:\\Users\\schatzm\\Documents\\GitHub\\CZI_processing\\libczi_notebook\\libczi_multiprocs_test.ipynb\n",
      "Processing file: C:\\Users\\schatzm\\Documents\\GitHub\\CZI_processing\\libczi_notebook\\libczi_test.ipynb\n",
      "Processing file: C:\\Users\\schatzm\\Documents\\GitHub\\CZI_processing\\libczi_notebook\\multiprocess_example.py\n"
     ]
    }
   ],
   "source": [
    "!python app_czicutter.py"
   ]
  },
  {
   "cell_type": "code",
   "execution_count": null,
   "id": "5a971560-34c0-4757-93bb-2b89911174aa",
   "metadata": {},
   "outputs": [],
   "source": []
  }
 ],
 "metadata": {
  "kernelspec": {
   "display_name": "Python 3 (ipykernel)",
   "language": "python",
   "name": "python3"
  },
  "language_info": {
   "codemirror_mode": {
    "name": "ipython",
    "version": 3
   },
   "file_extension": ".py",
   "mimetype": "text/x-python",
   "name": "python",
   "nbconvert_exporter": "python",
   "pygments_lexer": "ipython3",
   "version": "3.10.13"
  }
 },
 "nbformat": 4,
 "nbformat_minor": 5
}
