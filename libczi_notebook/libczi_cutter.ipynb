{
 "cells": [
  {
   "cell_type": "code",
   "execution_count": 2,
   "id": "fb731623-c06f-4414-9117-bc0669b50443",
   "metadata": {},
   "outputs": [
    {
     "name": "stdout",
     "output_type": "stream",
     "text": [
      "Requirement already satisfied: pylibCZIrw~=4.0 in c:\\users\\schatzm\\anaconda3\\envs\\libczi_cutter\\lib\\site-packages (4.0.0)\n",
      "Requirement already satisfied: cztile<1.0,>=0.0 in c:\\users\\schatzm\\anaconda3\\envs\\libczi_cutter\\lib\\site-packages (0.1.2)\n",
      "Requirement already satisfied: matplotlib in c:\\users\\schatzm\\anaconda3\\envs\\libczi_cutter\\lib\\site-packages (3.8.2)\n",
      "Requirement already satisfied: tqdm in c:\\users\\schatzm\\anaconda3\\envs\\libczi_cutter\\lib\\site-packages (4.66.1)\n",
      "Requirement already satisfied: scikit-image in c:\\users\\schatzm\\anaconda3\\envs\\libczi_cutter\\lib\\site-packages (0.22.0)\n",
      "Requirement already satisfied: pooch in c:\\users\\schatzm\\anaconda3\\envs\\libczi_cutter\\lib\\site-packages (1.8.0)\n",
      "Requirement already satisfied: numpy in c:\\users\\schatzm\\anaconda3\\envs\\libczi_cutter\\lib\\site-packages (from pylibCZIrw~=4.0) (1.26.2)\n",
      "Requirement already satisfied: cmake in c:\\users\\schatzm\\anaconda3\\envs\\libczi_cutter\\lib\\site-packages (from pylibCZIrw~=4.0) (3.28.1)\n",
      "Requirement already satisfied: xmltodict in c:\\users\\schatzm\\anaconda3\\envs\\libczi_cutter\\lib\\site-packages (from pylibCZIrw~=4.0) (0.13.0)\n",
      "Requirement already satisfied: validators in c:\\users\\schatzm\\anaconda3\\envs\\libczi_cutter\\lib\\site-packages (from pylibCZIrw~=4.0) (0.22.0)\n",
      "Requirement already satisfied: contourpy>=1.0.1 in c:\\users\\schatzm\\anaconda3\\envs\\libczi_cutter\\lib\\site-packages (from matplotlib) (1.2.0)\n",
      "Requirement already satisfied: cycler>=0.10 in c:\\users\\schatzm\\anaconda3\\envs\\libczi_cutter\\lib\\site-packages (from matplotlib) (0.12.1)\n",
      "Requirement already satisfied: fonttools>=4.22.0 in c:\\users\\schatzm\\anaconda3\\envs\\libczi_cutter\\lib\\site-packages (from matplotlib) (4.47.0)\n",
      "Requirement already satisfied: kiwisolver>=1.3.1 in c:\\users\\schatzm\\anaconda3\\envs\\libczi_cutter\\lib\\site-packages (from matplotlib) (1.4.5)\n",
      "Requirement already satisfied: packaging>=20.0 in c:\\users\\schatzm\\anaconda3\\envs\\libczi_cutter\\lib\\site-packages (from matplotlib) (23.2)\n",
      "Requirement already satisfied: pillow>=8 in c:\\users\\schatzm\\anaconda3\\envs\\libczi_cutter\\lib\\site-packages (from matplotlib) (10.2.0)\n",
      "Requirement already satisfied: pyparsing>=2.3.1 in c:\\users\\schatzm\\anaconda3\\envs\\libczi_cutter\\lib\\site-packages (from matplotlib) (3.1.1)\n",
      "Requirement already satisfied: python-dateutil>=2.7 in c:\\users\\schatzm\\anaconda3\\envs\\libczi_cutter\\lib\\site-packages (from matplotlib) (2.8.2)\n",
      "Requirement already satisfied: colorama in c:\\users\\schatzm\\anaconda3\\envs\\libczi_cutter\\lib\\site-packages (from tqdm) (0.4.6)\n",
      "Requirement already satisfied: scipy>=1.8 in c:\\users\\schatzm\\anaconda3\\envs\\libczi_cutter\\lib\\site-packages (from scikit-image) (1.11.4)\n",
      "Requirement already satisfied: networkx>=2.8 in c:\\users\\schatzm\\anaconda3\\envs\\libczi_cutter\\lib\\site-packages (from scikit-image) (3.2.1)\n",
      "Requirement already satisfied: imageio>=2.27 in c:\\users\\schatzm\\anaconda3\\envs\\libczi_cutter\\lib\\site-packages (from scikit-image) (2.33.1)\n",
      "Requirement already satisfied: tifffile>=2022.8.12 in c:\\users\\schatzm\\anaconda3\\envs\\libczi_cutter\\lib\\site-packages (from scikit-image) (2023.12.9)\n",
      "Requirement already satisfied: lazy_loader>=0.3 in c:\\users\\schatzm\\anaconda3\\envs\\libczi_cutter\\lib\\site-packages (from scikit-image) (0.3)\n",
      "Requirement already satisfied: platformdirs>=2.5.0 in c:\\users\\schatzm\\anaconda3\\envs\\libczi_cutter\\lib\\site-packages (from pooch) (4.1.0)\n",
      "Requirement already satisfied: requests>=2.19.0 in c:\\users\\schatzm\\anaconda3\\envs\\libczi_cutter\\lib\\site-packages (from pooch) (2.31.0)\n",
      "Requirement already satisfied: six>=1.5 in c:\\users\\schatzm\\anaconda3\\envs\\libczi_cutter\\lib\\site-packages (from python-dateutil>=2.7->matplotlib) (1.16.0)\n",
      "Requirement already satisfied: charset-normalizer<4,>=2 in c:\\users\\schatzm\\anaconda3\\envs\\libczi_cutter\\lib\\site-packages (from requests>=2.19.0->pooch) (3.3.2)\n",
      "Requirement already satisfied: idna<4,>=2.5 in c:\\users\\schatzm\\anaconda3\\envs\\libczi_cutter\\lib\\site-packages (from requests>=2.19.0->pooch) (3.6)\n",
      "Requirement already satisfied: urllib3<3,>=1.21.1 in c:\\users\\schatzm\\anaconda3\\envs\\libczi_cutter\\lib\\site-packages (from requests>=2.19.0->pooch) (2.1.0)\n",
      "Requirement already satisfied: certifi>=2017.4.17 in c:\\users\\schatzm\\anaconda3\\envs\\libczi_cutter\\lib\\site-packages (from requests>=2.19.0->pooch) (2023.11.17)\n",
      "Requirement already satisfied: pillow in c:\\users\\schatzm\\anaconda3\\envs\\libczi_cutter\\lib\\site-packages (10.2.0)\n"
     ]
    }
   ],
   "source": [
    "!pip install \"pylibCZIrw~=4.0\" \"cztile>=0.0,<1.0\" matplotlib tqdm scikit-image pooch\n",
    "!pip install pillow"
   ]
  },
  {
   "cell_type": "code",
   "execution_count": 3,
   "id": "55ba674e-4d01-4ee7-9048-41838022d425",
   "metadata": {},
   "outputs": [
    {
     "name": "stderr",
     "output_type": "stream",
     "text": [
      "C:\\Users\\schatzm\\Anaconda3\\envs\\libczi_cutter\\lib\\site-packages\\tqdm\\auto.py:21: TqdmWarning: IProgress not found. Please update jupyter and ipywidgets. See https://ipywidgets.readthedocs.io/en/stable/user_install.html\n",
      "  from .autonotebook import tqdm as notebook_tqdm\n"
     ]
    }
   ],
   "source": [
    "from pylibCZIrw import czi as pyczi\n",
    "import numpy as np\n",
    "import os, sys\n",
    "from tqdm import tqdm\n",
    "from tqdm.contrib import itertools as it"
   ]
  },
  {
   "cell_type": "code",
   "execution_count": 25,
   "id": "0aa7803b-d1c3-4a3c-af32-8ebff9fd53c0",
   "metadata": {},
   "outputs": [],
   "source": [
    "czifile = \"F:\\\\PROJECTS\\\\Axioscan_Analysis\\\\Vojtech_Abraham\\\\230518_ML_pyl_OB\\\\2023_05_18_Pyl-OB_001.czi\""
   ]
  },
  {
   "cell_type": "code",
   "execution_count": 26,
   "id": "4ceaa6d3-8dea-434a-8235-ecdfd9b7856c",
   "metadata": {},
   "outputs": [
    {
     "name": "stdout",
     "output_type": "stream",
     "text": [
      "{'T': (0, 1), 'Z': (0, 49), 'C': (0, 1), 'X': (-161280, -56000), 'Y': (8640, 35760)}\n"
     ]
    }
   ],
   "source": [
    "with pyczi.open_czi(czifile) as czidoc:\n",
    "    # get the image dimensions as an dictionary, where the key identifies the dimension\n",
    "    total_bounding_box = czidoc.total_bounding_box\n",
    "\n",
    "print(total_bounding_box)"
   ]
  },
  {
   "cell_type": "code",
   "execution_count": 19,
   "id": "17f36056-9fef-4848-b641-97ba4cc762f3",
   "metadata": {},
   "outputs": [
    {
     "data": {
      "text/plain": [
       "49"
      ]
     },
     "execution_count": 19,
     "metadata": {},
     "output_type": "execute_result"
    }
   ],
   "source": [
    "total_bounding_box['Z'][1]"
   ]
  },
  {
   "cell_type": "code",
   "execution_count": 20,
   "id": "46ffc544-2d75-4f1a-b7c2-bd99f2a224b6",
   "metadata": {},
   "outputs": [
    {
     "name": "stdout",
     "output_type": "stream",
     "text": [
      "Rectangle(x=-161280, y=8640, w=105280, h=27120)\n"
     ]
    }
   ],
   "source": [
    "with pyczi.open_czi(czifile) as czidoc:\n",
    "    # get the total bounding box for all scenes\n",
    "    total_bounding_rectangle = czidoc.total_bounding_rectangle\n",
    "\n",
    "print(total_bounding_rectangle)"
   ]
  },
  {
   "cell_type": "code",
   "execution_count": 21,
   "id": "b83d914b-677e-4fb7-8b6e-cc5d7485fd8b",
   "metadata": {},
   "outputs": [],
   "source": [
    "## helpers\n",
    "from PIL import Image\n",
    "def save_roi_as_image(roi, output_path):\n",
    "    # Convert numpy array to PIL Image\n",
    "    roi_image = Image.fromarray(roi, 'RGB')\n",
    "    \n",
    "    # Save the ROI image\n",
    "    roi_image.save(output_path)\n"
   ]
  },
  {
   "cell_type": "code",
   "execution_count": 22,
   "id": "2f6f9072-846d-4fda-9b02-d458c57e3b40",
   "metadata": {},
   "outputs": [],
   "source": [
    "#!pip install tifffile"
   ]
  },
  {
   "cell_type": "code",
   "execution_count": 48,
   "id": "233f7946-b8cb-4cf4-9715-631aba73c322",
   "metadata": {},
   "outputs": [],
   "source": [
    "import tifffile\n",
    "import os\n",
    "\n",
    "def libczi_cutter(czifile,output_folder,name,roi_width,roi_height):\n",
    "\n",
    "    # print(\"Output:\")\n",
    "    # print(output_folder)\n",
    "    \n",
    "    # Create the output folder if it doesn't exist\n",
    "    if not os.path.exists(output_folder):\n",
    "        os.makedirs(output_folder)\n",
    "    \n",
    "    # import the \"tiling strategy\" from the cztile package\n",
    "    from cztile.fixed_total_area_strategy import AlmostEqualBorderFixedTotalAreaStrategy2D\n",
    "    \n",
    "    # create a \"tile\" by specifying the desired tile dimension and the\n",
    "    # minimum required overlap between tiles (depends on the processing)\n",
    "    tiler = AlmostEqualBorderFixedTotalAreaStrategy2D(\n",
    "        total_tile_width=roi_width,\n",
    "        total_tile_height=roi_height,\n",
    "        min_border_width=0\n",
    "    )\n",
    "    \n",
    "    \n",
    "    # open a CZI instance to read and in parallel one to write\n",
    "    with pyczi.open_czi(czifile) as czidoc_r:\n",
    "        # get bounding box\n",
    "        total_bounding_box = czidoc_r.total_bounding_box\n",
    "\n",
    "        # print(total_bounding_box)\n",
    "\n",
    "        # read metadata\n",
    "        md_xml = czidoc_r.metadata #raw_metadata\n",
    "        \n",
    "        # get the size of the bounding rectange for the scence\n",
    "        tiles = tiler.tile_rectangle(czidoc_r.scenes_bounding_rectangle[0])\n",
    "        tile_counter=0\n",
    "        for tile in tqdm(tiles):\n",
    "            # create empty RGB z stack\n",
    "            BGR_stack=np.zeros([total_bounding_box['Z'][1], 3, roi_height, roi_width])\n",
    "            # go over Z from 0 to  total_bounding_box['Z'][1]\n",
    "            for z in range(0,total_bounding_box['Z'][1]):\n",
    "            # read a specific tile from the CZI using the roi parameter\n",
    "                tile2d = czidoc_r.read(\n",
    "                    plane={\"C\": 0, \"Z\":z, \"T\":0},\n",
    "                    roi=(\n",
    "                        tile.roi.x,\n",
    "                        tile.roi.y,\n",
    "                        tile.roi.w,\n",
    "                        tile.roi.h\n",
    "                    )\n",
    "                )\n",
    "                # print(tile2d.shape)\n",
    "                # print([tile.roi.x,\n",
    "                #         tile.roi.y,\n",
    "                #         tile.roi.w,\n",
    "                #         tile.roi.h])\n",
    "    \n",
    "                # has to be Z C Y X\n",
    "                BGR_stack[z,:,:,:]= np.transpose(tile2d, (2, 0, 1))\n",
    "                \n",
    "            # if tile_counter==3:\n",
    "            #     break\n",
    "            \n",
    "            # convert BGR, save RGB_stack\n",
    "            RGB_stack=np.zeros([total_bounding_box['Z'][1], 3, roi_height, roi_width])\n",
    "            RGB_stack[:,0,:,:]=BGR_stack[:,2,:,:]\n",
    "            RGB_stack[:,1,:,:]=BGR_stack[:,1,:,:]\n",
    "            RGB_stack[:,2,:,:]=BGR_stack[:,0,:,:]\n",
    "\n",
    "            img_name = name + '_X-{}_Y-{}_stack-{}.tif'.format(tile.roi.x,tile.roi.y,tile_counter)\n",
    "\n",
    "            output_file = output_folder + \"\\\\\" + img_name\n",
    "            tifffile.imwrite(output_file, RGB_stack.astype('uint8'), imagej=False , photometric='rgb', metadata=md_xml)\n",
    "            tile_counter = tile_counter +1"
   ]
  },
  {
   "cell_type": "code",
   "execution_count": null,
   "id": "7c69b554-db07-4380-bb08-4f8a47b87d9f",
   "metadata": {},
   "outputs": [
    {
     "name": "stdout",
     "output_type": "stream",
     "text": [
      "53\n",
      "F:\\PROJECTS\\Axioscan_Analysis\\Vojtech_Abraham\\libczi_output\\2023_05_18_Pyl-OB_001\n"
     ]
    },
    {
     "name": "stderr",
     "output_type": "stream",
     "text": [
      "  1%|█▏                                                                             | 14/935 [02:21<3:56:55, 15.44s/it]"
     ]
    }
   ],
   "source": [
    "path = \"F:\\\\PROJECTS\\\\Axioscan_Analysis\\\\Vojtech_Abraham\\\\230518_ML_pyl_OB\\\\\"\n",
    "\n",
    "roi_width = 1920\n",
    "roi_height = 1600\n",
    "\n",
    "skip = []\n",
    "\n",
    "# files = os.listdir(\"../../230518_ML_pyl_OB/\")\n",
    "files = os.listdir(path)\n",
    "# files = os.listdir(\"../../test/\")\n",
    "\n",
    "print(len(files))\n",
    "\n",
    "for file in files:\n",
    "    if file not in skip:\n",
    "        # Get the file extension\n",
    "        file_extension = os.path.splitext(file)[1]\n",
    "        file_w = os.path.splitext(file)[0]\n",
    "\n",
    "        # Check if the file extension is \".czi\"\n",
    "        if file_extension.lower() == \".czi\":\n",
    "            # print(file_w)\n",
    "            fpath = f'F:\\\\PROJECTS\\\\Axioscan_Analysis\\\\Vojtech_Abraham\\\\libczi_output\\\\{file_w}'\n",
    "            #if os.path.isfile(fpath)\n",
    "            print(fpath)\n",
    "\n",
    "            libczi_cutter(os.path.join(path,file),fpath,file,roi_width,roi_height)\n",
    "            print(file)\n",
    "            print(\"Saved\")\n",
    "            print(\"_______________________\")\n"
   ]
  },
  {
   "cell_type": "code",
   "execution_count": null,
   "id": "8e3ae746-873c-488a-9cad-aa020e645db0",
   "metadata": {},
   "outputs": [],
   "source": []
  }
 ],
 "metadata": {
  "kernelspec": {
   "display_name": "Python 3 (ipykernel)",
   "language": "python",
   "name": "python3"
  },
  "language_info": {
   "codemirror_mode": {
    "name": "ipython",
    "version": 3
   },
   "file_extension": ".py",
   "mimetype": "text/x-python",
   "name": "python",
   "nbconvert_exporter": "python",
   "pygments_lexer": "ipython3",
   "version": "3.10.13"
  }
 },
 "nbformat": 4,
 "nbformat_minor": 5
}
