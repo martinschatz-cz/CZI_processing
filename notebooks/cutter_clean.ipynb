{
 "cells": [
  {
   "cell_type": "code",
   "execution_count": 1,
   "metadata": {
    "id": "Iggh2KY-zPTG",
    "tags": []
   },
   "outputs": [
    {
     "name": "stdout",
     "output_type": "stream",
     "text": [
      "Requirement already satisfied: aicsimageio[all] in c:\\users\\schatzm\\anaconda3\\envs\\czi_processing\\lib\\site-packages (4.12.1)\n",
      "Requirement already satisfied: dask[array]<=2023.5.0,>=2021.4.1 in c:\\users\\schatzm\\anaconda3\\envs\\czi_processing\\lib\\site-packages (from aicsimageio[all]) (2023.5.0)\n",
      "Requirement already satisfied: fsspec>=2022.8.0 in c:\\users\\schatzm\\anaconda3\\envs\\czi_processing\\lib\\site-packages (from aicsimageio[all]) (2023.9.0)\n",
      "Requirement already satisfied: imagecodecs>=2020.5.30 in c:\\users\\schatzm\\anaconda3\\envs\\czi_processing\\lib\\site-packages (from aicsimageio[all]) (2023.9.4)\n",
      "Requirement already satisfied: lxml<5,>=4.6 in c:\\users\\schatzm\\anaconda3\\envs\\czi_processing\\lib\\site-packages (from aicsimageio[all]) (4.9.2)\n",
      "Requirement already satisfied: numpy<=1.24.0,>=1.16 in c:\\users\\schatzm\\anaconda3\\envs\\czi_processing\\lib\\site-packages (from aicsimageio[all]) (1.24.0)\n",
      "Requirement already satisfied: ome-types>=0.3.4 in c:\\users\\schatzm\\anaconda3\\envs\\czi_processing\\lib\\site-packages (from aicsimageio[all]) (0.4.2)\n",
      "Requirement already satisfied: ome-zarr>=0.6.1 in c:\\users\\schatzm\\anaconda3\\envs\\czi_processing\\lib\\site-packages (from aicsimageio[all]) (0.8.0)\n",
      "Requirement already satisfied: PyYAML>=6.0 in c:\\users\\schatzm\\anaconda3\\envs\\czi_processing\\lib\\site-packages (from aicsimageio[all]) (6.0)\n",
      "Requirement already satisfied: wrapt>=1.12 in c:\\users\\schatzm\\anaconda3\\envs\\czi_processing\\lib\\site-packages (from aicsimageio[all]) (1.15.0)\n",
      "Requirement already satisfied: resource-backed-dask-array>=0.1.0 in c:\\users\\schatzm\\anaconda3\\envs\\czi_processing\\lib\\site-packages (from aicsimageio[all]) (0.1.0)\n",
      "Requirement already satisfied: tifffile>=2021.8.30 in c:\\users\\schatzm\\appdata\\roaming\\python\\python39\\site-packages (from aicsimageio[all]) (2022.4.8)\n",
      "Requirement already satisfied: xarray<2023.02.0,>=0.16.1 in c:\\users\\schatzm\\anaconda3\\envs\\czi_processing\\lib\\site-packages (from aicsimageio[all]) (2023.1.0)\n",
      "Requirement already satisfied: xmlschema in c:\\users\\schatzm\\anaconda3\\envs\\czi_processing\\lib\\site-packages (from aicsimageio[all]) (2.4.0)\n",
      "Requirement already satisfied: zarr<3,>=2.6 in c:\\users\\schatzm\\anaconda3\\envs\\czi_processing\\lib\\site-packages (from aicsimageio[all]) (2.16.1)\n",
      "Requirement already satisfied: imageio[ffmpeg]<2.28.0,>=2.11.0 in c:\\users\\schatzm\\appdata\\roaming\\python\\python39\\site-packages (from aicsimageio[all]) (2.27.0)\n",
      "Requirement already satisfied: Pillow>=9.3.0 in c:\\users\\schatzm\\appdata\\roaming\\python\\python39\\site-packages (from aicsimageio[all]) (10.0.0)\n",
      "Requirement already satisfied: nd2[legacy]>=0.6.0 in c:\\users\\schatzm\\appdata\\roaming\\python\\python39\\site-packages (from aicsimageio[all]) (0.7.2)\n",
      "Requirement already satisfied: mrc>=0.2.0 in c:\\users\\schatzm\\appdata\\roaming\\python\\python39\\site-packages (from aicsimageio[all]) (0.3.1)\n",
      "Requirement already satisfied: bfio>=2.3.0 in c:\\users\\schatzm\\appdata\\roaming\\python\\python39\\site-packages (from aicsimageio[all]) (2.3.0)\n",
      "Requirement already satisfied: click>=8.0 in c:\\users\\schatzm\\anaconda3\\envs\\czi_processing\\lib\\site-packages (from dask[array]<=2023.5.0,>=2021.4.1->aicsimageio[all]) (8.1.7)\n",
      "Requirement already satisfied: cloudpickle>=1.5.0 in c:\\users\\schatzm\\anaconda3\\envs\\czi_processing\\lib\\site-packages (from dask[array]<=2023.5.0,>=2021.4.1->aicsimageio[all]) (2.2.1)\n",
      "Requirement already satisfied: packaging>=20.0 in c:\\users\\schatzm\\anaconda3\\envs\\czi_processing\\lib\\site-packages (from dask[array]<=2023.5.0,>=2021.4.1->aicsimageio[all]) (23.1)\n",
      "Requirement already satisfied: partd>=1.2.0 in c:\\users\\schatzm\\anaconda3\\envs\\czi_processing\\lib\\site-packages (from dask[array]<=2023.5.0,>=2021.4.1->aicsimageio[all]) (1.4.0)\n",
      "Requirement already satisfied: toolz>=0.10.0 in c:\\users\\schatzm\\anaconda3\\envs\\czi_processing\\lib\\site-packages (from dask[array]<=2023.5.0,>=2021.4.1->aicsimageio[all]) (0.12.0)\n",
      "Requirement already satisfied: importlib-metadata>=4.13.0 in c:\\users\\schatzm\\anaconda3\\envs\\czi_processing\\lib\\site-packages (from dask[array]<=2023.5.0,>=2021.4.1->aicsimageio[all]) (6.0.0)\n",
      "Requirement already satisfied: imageio-ffmpeg in c:\\users\\schatzm\\appdata\\roaming\\python\\python39\\site-packages (from imageio[ffmpeg]<2.28.0,>=2.11.0->aicsimageio[all]) (0.4.8)\n",
      "Requirement already satisfied: psutil in c:\\users\\schatzm\\anaconda3\\envs\\czi_processing\\lib\\site-packages (from imageio[ffmpeg]<2.28.0,>=2.11.0->aicsimageio[all]) (5.9.0)\n",
      "Requirement already satisfied: typing-extensions in c:\\users\\schatzm\\anaconda3\\envs\\czi_processing\\lib\\site-packages (from nd2[legacy]>=0.6.0->aicsimageio[all]) (4.7.1)\n",
      "Requirement already satisfied: pydantic>=1.9.0 in c:\\users\\schatzm\\anaconda3\\envs\\czi_processing\\lib\\site-packages (from ome-types>=0.3.4->aicsimageio[all]) (2.3.0)\n",
      "Requirement already satisfied: xsdata>=23.5 in c:\\users\\schatzm\\anaconda3\\envs\\czi_processing\\lib\\site-packages (from ome-types>=0.3.4->aicsimageio[all]) (23.8)\n",
      "Requirement already satisfied: aiohttp<4 in c:\\users\\schatzm\\anaconda3\\envs\\czi_processing\\lib\\site-packages (from ome-zarr>=0.6.1->aicsimageio[all]) (3.8.5)\n",
      "Requirement already satisfied: distributed in c:\\users\\schatzm\\anaconda3\\envs\\czi_processing\\lib\\site-packages (from ome-zarr>=0.6.1->aicsimageio[all]) (2023.5.0)\n",
      "Requirement already satisfied: requests in c:\\users\\schatzm\\anaconda3\\envs\\czi_processing\\lib\\site-packages (from ome-zarr>=0.6.1->aicsimageio[all]) (2.31.0)\n",
      "Requirement already satisfied: scikit-image in c:\\users\\schatzm\\appdata\\roaming\\python\\python39\\site-packages (from ome-zarr>=0.6.1->aicsimageio[all]) (0.20.0)\n",
      "Requirement already satisfied: pandas>=1.3 in c:\\users\\schatzm\\anaconda3\\envs\\czi_processing\\lib\\site-packages (from xarray<2023.02.0,>=0.16.1->aicsimageio[all]) (2.1.0)\n",
      "Requirement already satisfied: asciitree in c:\\users\\schatzm\\anaconda3\\envs\\czi_processing\\lib\\site-packages (from zarr<3,>=2.6->aicsimageio[all]) (0.3.3)\n",
      "Requirement already satisfied: fasteners in c:\\users\\schatzm\\anaconda3\\envs\\czi_processing\\lib\\site-packages (from zarr<3,>=2.6->aicsimageio[all]) (0.18)\n",
      "Requirement already satisfied: numcodecs>=0.10.0 in c:\\users\\schatzm\\anaconda3\\envs\\czi_processing\\lib\\site-packages (from zarr<3,>=2.6->aicsimageio[all]) (0.11.0)\n",
      "Requirement already satisfied: elementpath<5.0.0,>=4.1.5 in c:\\users\\schatzm\\anaconda3\\envs\\czi_processing\\lib\\site-packages (from xmlschema->aicsimageio[all]) (4.1.5)\n",
      "Requirement already satisfied: attrs>=17.3.0 in c:\\users\\schatzm\\anaconda3\\envs\\czi_processing\\lib\\site-packages (from aiohttp<4->ome-zarr>=0.6.1->aicsimageio[all]) (22.1.0)\n",
      "Requirement already satisfied: charset-normalizer<4.0,>=2.0 in c:\\users\\schatzm\\anaconda3\\envs\\czi_processing\\lib\\site-packages (from aiohttp<4->ome-zarr>=0.6.1->aicsimageio[all]) (2.0.4)\n",
      "Requirement already satisfied: multidict<7.0,>=4.5 in c:\\users\\schatzm\\anaconda3\\envs\\czi_processing\\lib\\site-packages (from aiohttp<4->ome-zarr>=0.6.1->aicsimageio[all]) (6.0.4)\n",
      "Requirement already satisfied: async-timeout<5.0,>=4.0.0a3 in c:\\users\\schatzm\\anaconda3\\envs\\czi_processing\\lib\\site-packages (from aiohttp<4->ome-zarr>=0.6.1->aicsimageio[all]) (4.0.3)\n",
      "Requirement already satisfied: yarl<2.0,>=1.0 in c:\\users\\schatzm\\anaconda3\\envs\\czi_processing\\lib\\site-packages (from aiohttp<4->ome-zarr>=0.6.1->aicsimageio[all]) (1.9.2)\n",
      "Requirement already satisfied: frozenlist>=1.1.1 in c:\\users\\schatzm\\anaconda3\\envs\\czi_processing\\lib\\site-packages (from aiohttp<4->ome-zarr>=0.6.1->aicsimageio[all]) (1.4.0)\n",
      "Requirement already satisfied: aiosignal>=1.1.2 in c:\\users\\schatzm\\anaconda3\\envs\\czi_processing\\lib\\site-packages (from aiohttp<4->ome-zarr>=0.6.1->aicsimageio[all]) (1.3.1)\n",
      "Requirement already satisfied: colorama in c:\\users\\schatzm\\anaconda3\\envs\\czi_processing\\lib\\site-packages (from click>=8.0->dask[array]<=2023.5.0,>=2021.4.1->aicsimageio[all]) (0.4.6)\n",
      "Requirement already satisfied: s3fs in c:\\users\\schatzm\\anaconda3\\envs\\czi_processing\\lib\\site-packages (from fsspec>=2022.8.0->aicsimageio[all]) (2023.9.0)\n",
      "Requirement already satisfied: zipp>=0.5 in c:\\users\\schatzm\\anaconda3\\envs\\czi_processing\\lib\\site-packages (from importlib-metadata>=4.13.0->dask[array]<=2023.5.0,>=2021.4.1->aicsimageio[all]) (3.11.0)\n",
      "Requirement already satisfied: entrypoints in c:\\users\\schatzm\\anaconda3\\envs\\czi_processing\\lib\\site-packages (from numcodecs>=0.10.0->zarr<3,>=2.6->aicsimageio[all]) (0.4)\n",
      "Requirement already satisfied: python-dateutil>=2.8.2 in c:\\users\\schatzm\\anaconda3\\envs\\czi_processing\\lib\\site-packages (from pandas>=1.3->xarray<2023.02.0,>=0.16.1->aicsimageio[all]) (2.8.2)\n",
      "Requirement already satisfied: pytz>=2020.1 in c:\\users\\schatzm\\anaconda3\\envs\\czi_processing\\lib\\site-packages (from pandas>=1.3->xarray<2023.02.0,>=0.16.1->aicsimageio[all]) (2022.7)\n",
      "Requirement already satisfied: tzdata>=2022.1 in c:\\users\\schatzm\\anaconda3\\envs\\czi_processing\\lib\\site-packages (from pandas>=1.3->xarray<2023.02.0,>=0.16.1->aicsimageio[all]) (2023.3)\n",
      "Requirement already satisfied: locket in c:\\users\\schatzm\\anaconda3\\envs\\czi_processing\\lib\\site-packages (from partd>=1.2.0->dask[array]<=2023.5.0,>=2021.4.1->aicsimageio[all]) (1.0.0)\n",
      "Requirement already satisfied: annotated-types>=0.4.0 in c:\\users\\schatzm\\anaconda3\\envs\\czi_processing\\lib\\site-packages (from pydantic>=1.9.0->ome-types>=0.3.4->aicsimageio[all]) (0.5.0)\n",
      "Requirement already satisfied: pydantic-core==2.6.3 in c:\\users\\schatzm\\anaconda3\\envs\\czi_processing\\lib\\site-packages (from pydantic>=1.9.0->ome-types>=0.3.4->aicsimageio[all]) (2.6.3)\n",
      "Requirement already satisfied: jinja2>=2.10.3 in c:\\users\\schatzm\\anaconda3\\envs\\czi_processing\\lib\\site-packages (from distributed->ome-zarr>=0.6.1->aicsimageio[all]) (3.1.2)\n",
      "Requirement already satisfied: msgpack>=1.0.0 in c:\\users\\schatzm\\anaconda3\\envs\\czi_processing\\lib\\site-packages (from distributed->ome-zarr>=0.6.1->aicsimageio[all]) (1.0.5)\n",
      "Requirement already satisfied: sortedcontainers>=2.0.5 in c:\\users\\schatzm\\anaconda3\\envs\\czi_processing\\lib\\site-packages (from distributed->ome-zarr>=0.6.1->aicsimageio[all]) (2.4.0)\n",
      "Requirement already satisfied: tblib>=1.6.0 in c:\\users\\schatzm\\anaconda3\\envs\\czi_processing\\lib\\site-packages (from distributed->ome-zarr>=0.6.1->aicsimageio[all]) (2.0.0)\n",
      "Requirement already satisfied: tornado>=6.0.3 in c:\\users\\schatzm\\anaconda3\\envs\\czi_processing\\lib\\site-packages (from distributed->ome-zarr>=0.6.1->aicsimageio[all]) (6.3.2)\n",
      "Requirement already satisfied: urllib3>=1.24.3 in c:\\users\\schatzm\\anaconda3\\envs\\czi_processing\\lib\\site-packages (from distributed->ome-zarr>=0.6.1->aicsimageio[all]) (1.26.16)\n",
      "Requirement already satisfied: zict>=2.2.0 in c:\\users\\schatzm\\anaconda3\\envs\\czi_processing\\lib\\site-packages (from distributed->ome-zarr>=0.6.1->aicsimageio[all]) (3.0.0)\n",
      "Requirement already satisfied: idna<4,>=2.5 in c:\\users\\schatzm\\anaconda3\\envs\\czi_processing\\lib\\site-packages (from requests->ome-zarr>=0.6.1->aicsimageio[all]) (3.4)\n",
      "Requirement already satisfied: certifi>=2017.4.17 in c:\\users\\schatzm\\anaconda3\\envs\\czi_processing\\lib\\site-packages (from requests->ome-zarr>=0.6.1->aicsimageio[all]) (2023.7.22)\n",
      "Requirement already satisfied: scipy<1.9.2,>=1.8 in c:\\users\\schatzm\\appdata\\roaming\\python\\python39\\site-packages (from scikit-image->ome-zarr>=0.6.1->aicsimageio[all]) (1.9.1)\n",
      "Requirement already satisfied: networkx>=2.8 in c:\\users\\schatzm\\anaconda3\\envs\\czi_processing\\lib\\site-packages (from scikit-image->ome-zarr>=0.6.1->aicsimageio[all]) (3.1)\n",
      "Requirement already satisfied: PyWavelets>=1.1.1 in c:\\users\\schatzm\\anaconda3\\envs\\czi_processing\\lib\\site-packages (from scikit-image->ome-zarr>=0.6.1->aicsimageio[all]) (1.4.1)\n",
      "Requirement already satisfied: lazy_loader>=0.1 in c:\\users\\schatzm\\anaconda3\\envs\\czi_processing\\lib\\site-packages (from scikit-image->ome-zarr>=0.6.1->aicsimageio[all]) (0.3)\n",
      "Requirement already satisfied: MarkupSafe>=2.0 in c:\\users\\schatzm\\anaconda3\\envs\\czi_processing\\lib\\site-packages (from jinja2>=2.10.3->distributed->ome-zarr>=0.6.1->aicsimageio[all]) (2.1.1)\n",
      "Requirement already satisfied: six>=1.5 in c:\\users\\schatzm\\anaconda3\\envs\\czi_processing\\lib\\site-packages (from python-dateutil>=2.8.2->pandas>=1.3->xarray<2023.02.0,>=0.16.1->aicsimageio[all]) (1.16.0)\n",
      "Requirement already satisfied: aiobotocore~=2.5.4 in c:\\users\\schatzm\\anaconda3\\envs\\czi_processing\\lib\\site-packages (from s3fs->fsspec>=2022.8.0->aicsimageio[all]) (2.5.4)\n",
      "Requirement already satisfied: botocore<1.31.18,>=1.31.17 in c:\\users\\schatzm\\anaconda3\\envs\\czi_processing\\lib\\site-packages (from aiobotocore~=2.5.4->s3fs->fsspec>=2022.8.0->aicsimageio[all]) (1.31.17)\n",
      "Requirement already satisfied: aioitertools<1.0.0,>=0.5.1 in c:\\users\\schatzm\\anaconda3\\envs\\czi_processing\\lib\\site-packages (from aiobotocore~=2.5.4->s3fs->fsspec>=2022.8.0->aicsimageio[all]) (0.11.0)\n",
      "Requirement already satisfied: jmespath<2.0.0,>=0.7.1 in c:\\users\\schatzm\\anaconda3\\envs\\czi_processing\\lib\\site-packages (from botocore<1.31.18,>=1.31.17->aiobotocore~=2.5.4->s3fs->fsspec>=2022.8.0->aicsimageio[all]) (1.0.1)\n",
      "Requirement already satisfied: bioformats_jar in c:\\users\\schatzm\\anaconda3\\envs\\czi_processing\\lib\\site-packages (2020.5.27)\n",
      "Requirement already satisfied: scyjava in c:\\users\\schatzm\\anaconda3\\envs\\czi_processing\\lib\\site-packages (from bioformats_jar) (1.9.1)\n",
      "Requirement already satisfied: jpype1>=1.3.0 in c:\\users\\schatzm\\anaconda3\\envs\\czi_processing\\lib\\site-packages (from scyjava->bioformats_jar) (1.4.1)\n",
      "Requirement already satisfied: jgo in c:\\users\\schatzm\\anaconda3\\envs\\czi_processing\\lib\\site-packages (from scyjava->bioformats_jar) (1.0.5)\n",
      "Requirement already satisfied: packaging in c:\\users\\schatzm\\anaconda3\\envs\\czi_processing\\lib\\site-packages (from jpype1>=1.3.0->scyjava->bioformats_jar) (23.1)\n",
      "Requirement already satisfied: psutil in c:\\users\\schatzm\\anaconda3\\envs\\czi_processing\\lib\\site-packages (from jgo->scyjava->bioformats_jar) (5.9.0)\n"
     ]
    }
   ],
   "source": [
    "!pip install aicsimageio[all] --user\n",
    "!pip install bioformats_jar"
   ]
  },
  {
   "cell_type": "code",
   "execution_count": 2,
   "metadata": {
    "tags": []
   },
   "outputs": [],
   "source": [
    "!pip install aicspylibczi>=3.1.1 fsspec>=2022.8.0"
   ]
  },
  {
   "cell_type": "code",
   "execution_count": 3,
   "metadata": {},
   "outputs": [
    {
     "name": "stdout",
     "output_type": "stream",
     "text": [
      "Requirement already satisfied: opencv-python in c:\\users\\schatzm\\anaconda3\\envs\\czi_processing\\lib\\site-packages (4.8.0.76)\n",
      "Requirement already satisfied: numpy>=1.17.0 in c:\\users\\schatzm\\anaconda3\\envs\\czi_processing\\lib\\site-packages (from opencv-python) (1.24.0)\n"
     ]
    }
   ],
   "source": [
    "!pip install opencv-python"
   ]
  },
  {
   "cell_type": "code",
   "execution_count": 4,
   "metadata": {
    "colab": {
     "base_uri": "https://localhost:8080/",
     "height": 383
    },
    "id": "p04JoWi4zENl",
    "outputId": "6661bd35-b33a-4908-f924-3cd043658403",
    "tags": []
   },
   "outputs": [
    {
     "name": "stderr",
     "output_type": "stream",
     "text": [
      "C:\\Users\\schatzm\\Anaconda3\\envs\\czi_processing\\lib\\site-packages\\pydantic\\_migration.py:276: UserWarning: `pydantic.error_wrappers:ValidationError` has been moved to `pydantic:ValidationError`.\n",
      "  warnings.warn(f'`{import_path}` has been moved to `{new_location}`.')\n"
     ]
    }
   ],
   "source": [
    "from aicsimageio.writers import OmeTiffWriter\n",
    "from aicsimageio import AICSImage\n",
    "from skimage.io import imshow\n",
    "from tqdm import tqdm\n",
    "import os\n",
    "import cv2\n",
    "\n",
    "import numpy as np"
   ]
  },
  {
   "cell_type": "code",
   "execution_count": 5,
   "metadata": {},
   "outputs": [],
   "source": [
    "from aicspylibczi import CziFile"
   ]
  },
  {
   "cell_type": "code",
   "execution_count": 6,
   "metadata": {},
   "outputs": [],
   "source": [
    "# %%time\n",
    "# # Path to your CZI file\n",
    "# czi_file_path = '../../test/2023_05_22_Pyl-OB_010_small.czi'\n",
    "# name = \"output\"\n",
    "\n",
    "# # czi_file_path = '../../230518_ML_pyl_OB/2023_05_21_Pyl-OB_001.czi'\n",
    "# # name = \"2023_05_21_Pyl-OB_001\"\n",
    "\n",
    "# czi = CziFile(czi_file_path)\n",
    "\n",
    "# # Get the shape of the data, the coordinate pairs are (start index, size)\n",
    "# # dimensions = czi.dims_shape()  #  [{'X': (0, 1900), 'Y': (0, 1300), 'Z': (0, 60), 'C': (0, 4), 'S': (0, 40), 'B': (0, 1)}]\n",
    "\n",
    "# print(czi.dims)\n",
    "\n",
    "# print(czi.size)  #  (1, 40, 4, 60, 1300, 1900)\n",
    "# size=czi.size\n",
    "\n",
    "# czi.is_mosaic()\n",
    "\n",
    "\n",
    "\n",
    "# output_folder = name+'/'\n",
    "\n",
    "# if not os.path.exists(output_folder):\n",
    "#         os.makedirs(output_folder)\n",
    "        \n",
    "        \n",
    "\n",
    "# # czi.get_dims_shape()\n",
    "# #  working but slow\n",
    "# mosaic_data = czi.read_mosaic(C=0, scale_factor=1, Z=0)\n",
    "# mosaic_data.shape\n",
    "\n",
    "# mosaic_data_shape = mosaic_data.shape\n",
    "\n",
    "# subpart_size = [1600,1920]\n",
    "# # Calculate the number of subparts in each dimension\n",
    "# num_subparts_x = mosaic_data_shape[2] // subpart_size[0]\n",
    "# num_subparts_y = mosaic_data_shape[3] // subpart_size[1]\n",
    "    \n",
    "# # Calculate the total number of iterations\n",
    "# total_iterations = num_subparts_x * num_subparts_y * size[2]\n",
    "\n",
    "# # Initialize the tqdm progress bar\n",
    "# progress_bar = tqdm(total=total_iterations, desc=f\"Processing {name}\")\n",
    "\n",
    "# for z in range(size[2]):\n",
    "#     #read Z stack\n",
    "#     mosaic_data = czi.read_mosaic(C=0, scale_factor=1, Z=z)\n",
    "    \n",
    "#     for x in range(num_subparts_x):\n",
    "#         for y in range(num_subparts_y):       \n",
    "#             # Extract the subpart\n",
    "#             subpart = mosaic_data[:, :, x * subpart_size[0]:(x + 1) * subpart_size[0],\n",
    "#                                   y * subpart_size[1]:(y + 1) * subpart_size[1], :]\n",
    "\n",
    "#             # Create an AICSImage object\n",
    "#             aics_image = AICSImage(subpart)\n",
    "\n",
    "#             # Define the output file path\n",
    "#             output_file = os.path.join(output_folder, f\"{name}_subpart_z-{z}_x-{x}_y-{y}.ome.tiff\")\n",
    "\n",
    "#             # Save the subpart as an OME-TIFF\n",
    "#             # aics_image.save(output_file)\n",
    "\n",
    "#             # container = cv2.cvtColor(container, cv2.COLOR_BGR2RGB)\n",
    "#             # Save the subpart as a TIFF file\n",
    "#             OmeTiffWriter.save(cv2.cvtColor(np.squeeze(subpart), cv2.COLOR_BGR2RGB), output_file, dim_order=\"YXS\")\n",
    "            \n",
    "#             # Update the progress bar\n",
    "#             progress_bar.update(1)\n",
    "            \n",
    "# # Close the progress bar when the loops are done\n",
    "# progress_bar.close()"
   ]
  },
  {
   "cell_type": "code",
   "execution_count": 7,
   "metadata": {
    "tags": []
   },
   "outputs": [],
   "source": [
    "# Append Row to DataFrame\n",
    "# list_row = {\"X\": 27000, \"Y\": 2000, \"Z\": 2000, \"focus\": 2000}\n",
    "# df.loc[len(df)]= list_row"
   ]
  },
  {
   "cell_type": "code",
   "execution_count": 16,
   "metadata": {},
   "outputs": [],
   "source": [
    "from aicsimageio.writers import OmeTiffWriter\n",
    "from aicsimageio import AICSImage\n",
    "from tqdm import tqdm\n",
    "import os\n",
    "import cv2\n",
    "import pandas as pd\n",
    "\n",
    "\n",
    "def process_czi_file(czi_file_path, output_folder, subpart_size):\n",
    "    df = pd.DataFrame(columns=('X', 'Y', 'Z', 'focus'))\n",
    "    \n",
    "#     # read metadata\n",
    "#     # Open the CZI file using aicsimageio\n",
    "#     img = AICSImage(czi_file_path)\n",
    "\n",
    "#     # Read the metadata\n",
    "#     metadata = img.metadata\n",
    "    \n",
    "#     # define scaling from metadata or use defualt scaling\n",
    "#     try:\n",
    "#         pixels_physical_size = [metadata['XScale'],\n",
    "#                                 metadata['YScale'],\n",
    "#                                 metadata['ZScale']]\n",
    "#     except Exception as error:\n",
    "#         print(error.__class__.__name__ + \": \" + error.msg)\n",
    "    # Create a CziFile object\n",
    "    czi = CziFile(czi_file_path)\n",
    "\n",
    "    df = pd.DataFrame(columns=['X','Y','Z','focus'])\n",
    "    \n",
    "    # Get the shape of the data\n",
    "    size = czi.size\n",
    "    \n",
    "    print(czi.dims)\n",
    "    print(size)\n",
    "\n",
    "    # Check if the file is a mosaic\n",
    "    is_mosaic = czi.is_mosaic()\n",
    "\n",
    "    if not is_mosaic:\n",
    "        print(\"The provided CZI file is not a mosaic.\")\n",
    "        return\n",
    "\n",
    "    # Create the output folder if it doesn't exist\n",
    "    if not os.path.exists(output_folder):\n",
    "        os.makedirs(output_folder)\n",
    "\n",
    "    mosaic_data_shape = czi.read_mosaic(C=0, scale_factor=1, Z=0).shape\n",
    "    num_subparts_x = mosaic_data_shape[2] // subpart_size[0]\n",
    "    num_subparts_y = mosaic_data_shape[3] // subpart_size[1]\n",
    "    total_iterations = num_subparts_x * num_subparts_y * size[2]\n",
    "    \n",
    "    print(f\"Total integrations: X {num_subparts_x}, Y {num_subparts_y}, Z {size[2]}\")\n",
    "\n",
    "    progress_bar = tqdm(total=total_iterations, desc=f\"Processing {os.path.basename(czi_file_path)}\")\n",
    "\n",
    "    for z in range(size[2]):\n",
    "        mosaic_data = czi.read_mosaic(C=0, scale_factor=1, Z=z)\n",
    "\n",
    "        for x in range(num_subparts_x):\n",
    "            for y in range(num_subparts_y):\n",
    "                subpart = mosaic_data[:, :, x * subpart_size[0]:(x + 1) * subpart_size[0],\n",
    "                                      y * subpart_size[1]:(y + 1) * subpart_size[1], :]\n",
    "\n",
    "                aics_image = AICSImage(subpart)\n",
    "                \n",
    "                # Create a CziFile object\n",
    "\n",
    "                output_file = os.path.join(output_folder, f\"subpart_z-{z}_x-{x}_y-{y}.ome.tiff\")\n",
    "                \n",
    "                focus = cv2.Laplacian(np.squeeze(subpart), cv2.CV_64F, ksize=5).var()\n",
    "                # Append Row to DataFrame\n",
    "                list_row = {\"X\": x, \"Y\": y, \"Z\": z, \"focus\": focus}\n",
    "                df.loc[len(df)]= list_row\n",
    "                \n",
    "                try:\n",
    "                    # without metadata\n",
    "                    OmeTiffWriter.save(cv2.cvtColor(np.squeeze(subpart), cv2.COLOR_BGR2RGB), output_file, dim_order=\"YXS\")\n",
    "                    \n",
    "                # Create an OmeTiffWriter instance\n",
    "                \n",
    "                    # OmeTiffWriter.save(cv2.cvtColor(np.squeeze(subpart), cv2.COLOR_BGR2RGB), output_file, dim_order=\"YXS\", pixels_physical_size=pixels_physical_size)\n",
    "                except Exception as error:\n",
    "                    print(error.__class__.__name__ + \": \" + error.msg)\n",
    "                    \n",
    "                progress_bar.update(1)\n",
    "\n",
    "    progress_bar.close()\n",
    "    output_csv = os.path.join(output_folder, f\"_focus_estimate.csv\")\n",
    "    df.to_csv(output_csv)\n"
   ]
  },
  {
   "cell_type": "code",
   "execution_count": 17,
   "metadata": {},
   "outputs": [
    {
     "name": "stdout",
     "output_type": "stream",
     "text": [
      "SCZMYXA\n",
      "(1, 1, 49, 42, 666, 872, 3)\n",
      "Total integrations: X 3, Y 4, Z 49\n"
     ]
    },
    {
     "name": "stderr",
     "output_type": "stream",
     "text": [
      "Processing 2023_05_22_Pyl-OB_010_small.czi: 100%|████████████████████████████████████| 588/588 [04:43<00:00,  2.07it/s]"
     ]
    },
    {
     "name": "stdout",
     "output_type": "stream",
     "text": [
      "CPU times: total: 11min 29s\n",
      "Wall time: 4min 45s\n"
     ]
    },
    {
     "name": "stderr",
     "output_type": "stream",
     "text": [
      "\n"
     ]
    }
   ],
   "source": [
    "%%time\n",
    "# # czi_file_path = '../../230518_ML_pyl_OB/2023_05_21_Pyl-OB_001.czi'\n",
    "# # name = \"2023_05_21_Pyl-OB_001\"\n",
    "\n",
    "# # test\n",
    "czi_file_path = '../../test/2023_05_22_Pyl-OB_010_small.czi'\n",
    "output_folder = \"output\"\n",
    "\n",
    "# # Usage example:\n",
    "# # czi_file_path = '../../230518_ML_pyl_OB/2023_05_22_Pyl-OB_024.czi'\n",
    "# # output_folder = \"2023_05_22_Pyl-OB_024\"\n",
    "\n",
    "# # czi_file_path = '../../230518_ML_pyl_OB/2023_05_22_Pyl-OB_023.czi'\n",
    "# # output_folder = \"2023_05_22_Pyl-OB_023\"\n",
    "\n",
    "subpart_size = [1600, 1920]\n",
    "process_czi_file(czi_file_path, output_folder,subpart_size)"
   ]
  },
  {
   "cell_type": "code",
   "execution_count": null,
   "metadata": {
    "tags": []
   },
   "outputs": [
    {
     "name": "stdout",
     "output_type": "stream",
     "text": [
      "2023_05_18_Pyl-OB_001\n",
      "../../230518_ML_pyl_OB/2023_05_18_Pyl-OB_001.czi\n",
      "SCZMYXA\n",
      "(1, 1, 49, 1267, 1200, 1600, 3)\n",
      "Total integrations: X 16, Y 54, Z 49\n"
     ]
    },
    {
     "name": "stderr",
     "output_type": "stream",
     "text": [
      "Processing 2023_05_18_Pyl-OB_001.czi: 100%|████████████████████████████████████| 42336/42336 [7:29:20<00:00,  1.57it/s]\n"
     ]
    },
    {
     "name": "stdout",
     "output_type": "stream",
     "text": [
      "2023_05_21_Pyl-OB_001\n",
      "../../230518_ML_pyl_OB/2023_05_21_Pyl-OB_001.czi\n",
      "SCZMYXA\n",
      "(1, 1, 49, 1121, 1200, 1600, 3)\n",
      "Total integrations: X 15, Y 54, Z 49\n"
     ]
    },
    {
     "name": "stderr",
     "output_type": "stream",
     "text": [
      "Processing 2023_05_21_Pyl-OB_001.czi:  46%|███████████████▍                  | 18089/39690 [3:11:19<1:45:06,  3.43it/s]"
     ]
    }
   ],
   "source": [
    "%%time\n",
    "files = os.listdir(\"../../230518_ML_pyl_OB/\")\n",
    "for file in files:\n",
    "\n",
    "    # Get the file extension\n",
    "    file_extension = os.path.splitext(file)[1]\n",
    "    file_w = os.path.splitext(file)[0]\n",
    "\n",
    "    # Check if the file extension is \".czi\"\n",
    "    if file_extension.lower() == \".czi\":\n",
    "        print(file_w)\n",
    "        fpath = f'../../230518_ML_pyl_OB/{file}'\n",
    "        print(fpath)\n",
    "        subpart_size = [1600, 1920]\n",
    "        process_czi_file(fpath, file_w,subpart_size)"
   ]
  },
  {
   "cell_type": "code",
   "execution_count": null,
   "metadata": {},
   "outputs": [],
   "source": [
    "xxx"
   ]
  },
  {
   "cell_type": "code",
   "execution_count": 14,
   "metadata": {
    "tags": []
   },
   "outputs": [
    {
     "ename": "AttributeError",
     "evalue": "'NoneType' object has no attribute 'text'",
     "output_type": "error",
     "traceback": [
      "\u001b[1;31m---------------------------------------------------------------------------\u001b[0m",
      "\u001b[1;31mAttributeError\u001b[0m                            Traceback (most recent call last)",
      "Cell \u001b[1;32mIn[14], line 10\u001b[0m\n\u001b[0;32m      7\u001b[0m metadata \u001b[38;5;241m=\u001b[39m img\u001b[38;5;241m.\u001b[39mmetadata\n\u001b[0;32m      9\u001b[0m xml_namespace \u001b[38;5;241m=\u001b[39m {\u001b[38;5;124m'\u001b[39m\u001b[38;5;124mns\u001b[39m\u001b[38;5;124m'\u001b[39m: \u001b[38;5;124m'\u001b[39m\u001b[38;5;124mhttp://www.openmicroscopy.org/Schemas/OME/2016-06\u001b[39m\u001b[38;5;124m'\u001b[39m}\n\u001b[1;32m---> 10\u001b[0m pixel_size_x \u001b[38;5;241m=\u001b[39m \u001b[43mmetadata\u001b[49m\u001b[38;5;241;43m.\u001b[39;49m\u001b[43mfind\u001b[49m\u001b[43m(\u001b[49m\u001b[38;5;124;43m\"\u001b[39;49m\u001b[38;5;124;43m.//ns:Pixels/ns:PhysicalSizeX\u001b[39;49m\u001b[38;5;124;43m\"\u001b[39;49m\u001b[43m,\u001b[49m\u001b[43m \u001b[49m\u001b[43mnamespaces\u001b[49m\u001b[38;5;241;43m=\u001b[39;49m\u001b[43mxml_namespace\u001b[49m\u001b[43m)\u001b[49m\u001b[38;5;241;43m.\u001b[39;49m\u001b[43mtext\u001b[49m\n\u001b[0;32m     11\u001b[0m pixel_size_y \u001b[38;5;241m=\u001b[39m metadata\u001b[38;5;241m.\u001b[39mfind(\u001b[38;5;124m\"\u001b[39m\u001b[38;5;124m.//ns:Pixels/ns:PhysicalSizeY\u001b[39m\u001b[38;5;124m\"\u001b[39m, namespaces\u001b[38;5;241m=\u001b[39mxml_namespace)\u001b[38;5;241m.\u001b[39mtext\n",
      "\u001b[1;31mAttributeError\u001b[0m: 'NoneType' object has no attribute 'text'"
     ]
    }
   ],
   "source": [
    " czi_file_path = '../../230518_ML_pyl_OB/2023_05_22_Pyl-OB_024.czi'\n",
    "img = AICSImage(czi_file_path)\n",
    "\n",
    "    # Read the metadata\n",
    "metadata = img.metadata"
   ]
  },
  {
   "cell_type": "code",
   "execution_count": null,
   "metadata": {},
   "outputs": [],
   "source": []
  },
  {
   "cell_type": "code",
   "execution_count": null,
   "metadata": {
    "tags": []
   },
   "outputs": [],
   "source": [
    "import aicsimageio"
   ]
  },
  {
   "cell_type": "code",
   "execution_count": null,
   "metadata": {
    "tags": []
   },
   "outputs": [],
   "source": [
    "czi2 = aicsimageio.readers.czi_reader.CziReader(czi_file_path)\n",
    "met = czi2.metadata"
   ]
  },
  {
   "cell_type": "code",
   "execution_count": null,
   "metadata": {},
   "outputs": [],
   "source": []
  }
 ],
 "metadata": {
  "colab": {
   "provenance": []
  },
  "kernelspec": {
   "display_name": "Python 3 (ipykernel)",
   "language": "python",
   "name": "python3"
  },
  "language_info": {
   "codemirror_mode": {
    "name": "ipython",
    "version": 3
   },
   "file_extension": ".py",
   "mimetype": "text/x-python",
   "name": "python",
   "nbconvert_exporter": "python",
   "pygments_lexer": "ipython3",
   "version": "3.9.17"
  }
 },
 "nbformat": 4,
 "nbformat_minor": 4
}
