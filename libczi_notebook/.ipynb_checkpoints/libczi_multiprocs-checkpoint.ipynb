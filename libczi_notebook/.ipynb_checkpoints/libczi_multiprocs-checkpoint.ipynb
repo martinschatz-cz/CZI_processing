{
 "cells": [
  {
   "cell_type": "code",
   "execution_count": 1,
   "id": "d3f11203-04db-4003-b196-ef49b7a38130",
   "metadata": {},
   "outputs": [],
   "source": [
    "import os\n",
    "from multiprocessing import Pool\n",
    "\n"
   ]
  },
  {
   "cell_type": "code",
   "execution_count": 2,
   "id": "0f692483-5342-4663-b8bd-5142bddd8ffc",
   "metadata": {},
   "outputs": [],
   "source": [
    "class FileProcessor:\n",
    "    def __init__(self, folder_path, num_processes=4):\n",
    "        self.folder_path = folder_path\n",
    "        self.num_processes = num_processes\n",
    "\n",
    "    def process_file(self, file_path):\n",
    "        # Add your file processing logic here\n",
    "        # For example, print the file name\n",
    "        print(f\"Processing file: {file_path}\")\n",
    "\n",
    "    def process_folder(self):\n",
    "        files = [os.path.join(self.folder_path, file) for file in os.listdir(self.folder_path)]\n",
    "\n",
    "        # Create a Pool with the specified number of processes\n",
    "        with Pool(self.num_processes) as pool:\n",
    "            # Use the pool to process files in parallel\n",
    "            pool.map(self.process_file, files)"
   ]
  },
  {
   "cell_type": "code",
   "execution_count": null,
   "id": "de8cdcf2-a1c8-4c7c-b594-428472df417c",
   "metadata": {},
   "outputs": [],
   "source": [
    "if __name__ == \"__main__\":\n",
    "    # Example usage\n",
    "    folder_path = \"/\"\n",
    "    num_processes = 4\n",
    "\n",
    "    file_processor = FileProcessor(folder_path, num_processes)\n",
    "    file_processor.process_folder()"
   ]
  },
  {
   "cell_type": "code",
   "execution_count": 7,
   "id": "27ade88f-0d1a-4adb-9de7-79ddaefec81a",
   "metadata": {},
   "outputs": [
    {
     "name": "stdout",
     "output_type": "stream",
     "text": [
      "Processing file: C:\\Users\\schatzm\\Documents\\GitHub\\CZI_processing\\libczi_notebook\\.ipynb_checkpoints\n",
      "Processing file: C:\\Users\\schatzm\\Documents\\GitHub\\CZI_processing\\libczi_notebook\\app_test.py\n",
      "Processing file: C:\\Users\\schatzm\\Documents\\GitHub\\CZI_processing\\libczi_notebook\\environment.yml\n",
      "Processing file: C:\\Users\\schatzm\\Documents\\GitHub\\CZI_processing\\libczi_notebook\\libczi_cutter.ipynb\n",
      "Processing file: C:\\Users\\schatzm\\Documents\\GitHub\\CZI_processing\\libczi_notebook\\libczi_multiprocs_test.ipynb\n",
      "Processing file: C:\\Users\\schatzm\\Documents\\GitHub\\CZI_processing\\libczi_notebook\\libczi_test.ipynb\n",
      "Processing file: C:\\Users\\schatzm\\Documents\\GitHub\\CZI_processing\\libczi_notebook\\multiprocess_example.py\n"
     ]
    }
   ],
   "source": [
    "!python app_test.py"
   ]
  },
  {
   "cell_type": "code",
   "execution_count": 6,
   "id": "85feed1b-0747-4709-8c6c-30fe0fc0b38c",
   "metadata": {},
   "outputs": [],
   "source": [
    "!python multiprocess_example.py"
   ]
  },
  {
   "cell_type": "code",
   "execution_count": null,
   "id": "5a971560-34c0-4757-93bb-2b89911174aa",
   "metadata": {},
   "outputs": [],
   "source": []
  }
 ],
 "metadata": {
  "kernelspec": {
   "display_name": "Python 3 (ipykernel)",
   "language": "python",
   "name": "python3"
  },
  "language_info": {
   "codemirror_mode": {
    "name": "ipython",
    "version": 3
   },
   "file_extension": ".py",
   "mimetype": "text/x-python",
   "name": "python",
   "nbconvert_exporter": "python",
   "pygments_lexer": "ipython3",
   "version": "3.10.13"
  }
 },
 "nbformat": 4,
 "nbformat_minor": 5
}
