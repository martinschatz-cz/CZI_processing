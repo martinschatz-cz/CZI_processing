{
 "cells": [
  {
   "cell_type": "code",
   "execution_count": 1,
   "id": "6dec067f-2f9c-4b74-98e4-629ceca76551",
   "metadata": {},
   "outputs": [
    {
     "name": "stderr",
     "output_type": "stream",
     "text": [
      "Processing: 100%|██████████████████████████████████████████████████████████████████████| 60/60 [00:06<00:00,  9.81it/s]\n"
     ]
    }
   ],
   "source": [
    "from tqdm import tqdm\n",
    "import time\n",
    "\n",
    "def nested_for_loops():\n",
    "    # Define the ranges for your loops\n",
    "    range_outer = range(3)\n",
    "    range_middle = range(4)\n",
    "    range_inner = range(5)\n",
    "    \n",
    "    # Calculate the total number of iterations\n",
    "    total_iterations = len(range_outer) * len(range_middle) * len(range_inner)\n",
    "    \n",
    "    # Initialize the tqdm progress bar\n",
    "    progress_bar = tqdm(total=total_iterations, desc=\"Processing\")\n",
    "    \n",
    "    for i in range_outer:\n",
    "        for j in range_middle:\n",
    "            for k in range_inner:\n",
    "                # Simulate some work\n",
    "                time.sleep(0.1)  # Replace with your actual work\n",
    "                \n",
    "                # Update the progress bar\n",
    "                progress_bar.update(1)\n",
    "    \n",
    "    # Close the progress bar when the loops are done\n",
    "    progress_bar.close()\n",
    "\n",
    "# Call the function\n",
    "nested_for_loops()"
   ]
  },
  {
   "cell_type": "code",
   "execution_count": null,
   "id": "78fc07cb-d742-4d6b-a1ea-73c6ac8f24c7",
   "metadata": {},
   "outputs": [],
   "source": []
  }
 ],
 "metadata": {
  "kernelspec": {
   "display_name": "Python 3 (ipykernel)",
   "language": "python",
   "name": "python3"
  },
  "language_info": {
   "codemirror_mode": {
    "name": "ipython",
    "version": 3
   },
   "file_extension": ".py",
   "mimetype": "text/x-python",
   "name": "python",
   "nbconvert_exporter": "python",
   "pygments_lexer": "ipython3",
   "version": "3.9.13"
  }
 },
 "nbformat": 4,
 "nbformat_minor": 5
}
